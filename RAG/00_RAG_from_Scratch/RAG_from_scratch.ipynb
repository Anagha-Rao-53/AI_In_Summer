{
  "cells": [
    {
      "cell_type": "markdown",
      "metadata": {
        "id": "MhEzwuAwaTne"
      },
      "source": [
        "## RAG: Retrieval-Augmented Generation\n",
        "\n",
        "<a href=\"https://colab.research.google.com/github/adithya-s-k/AI-Engineering.academy/blob/main/RAG/00_RAG_from_Scratch/RAG_from_scratch.ipynb\" target=\"_parent\"><img src=\"https://colab.research.google.com/assets/colab-badge.svg\" alt=\"Open In Colab\"/></a>\n",
        "\n",
        "\n",
        "\n",
        "- **R**: **Retrieval** - Fetch the right external content.\n",
        "- **A**: **Augmentation** - Modify the prompt to pass content form Retrival Stage\n",
        "- **G**: **Generation** - Generate the final response using the LLM.\n",
        "\n",
        "### Programmatic Stages:\n",
        "\n",
        "#### 1. Data Ingestion:\n",
        "   - Parse PDF and extract text.\n",
        "   - Perform text chunking.\n",
        "   - Set up the database.\n",
        "   - Populate the database with parsed data.\n",
        "\n",
        "#### 2. Retrieval:\n",
        "   - Take the user query as input.\n",
        "   - Perform similarity search across the stored data.\n",
        "   - Retrieve the most relevant chunks of information.\n",
        "   \n",
        "#### 3. Augmentation:\n",
        "   - Augment the prompt by incorporating relevant chunks of retrieved data.\n",
        "   - Adjust the prompt through prompt engineering to optimize for clarity and context.\n",
        "\n",
        "#### 4. Generation:\n",
        "   - Use the enhanced prompt to generate a response using the LLM."
      ]
    },
    {
      "cell_type": "markdown",
      "metadata": {
        "id": "W6OLcR5caTnk"
      },
      "source": [
        "### Data Ingestion"
      ]
    },
    {
      "cell_type": "markdown",
      "metadata": {
        "id": "pwroD6IvaTnl"
      },
      "source": [
        "Load Data"
      ]
    },
    {
      "cell_type": "code",
      "execution_count": 1,
      "metadata": {
        "id": "bHP9wDNVaTnm",
        "outputId": "e694ef92-a79e-4cf3-ada2-f9b7d0027a1f",
        "colab": {
          "base_uri": "https://localhost:8080/"
        }
      },
      "outputs": [
        {
          "output_type": "stream",
          "name": "stdout",
          "text": [
            "  Preparing metadata (setup.py) ... \u001b[?25l\u001b[?25hdone\n",
            "  Building wheel for wikipedia-api (setup.py) ... \u001b[?25l\u001b[?25hdone\n",
            "Requirement already satisfied: openai in /usr/local/lib/python3.10/dist-packages (1.52.2)\n",
            "Requirement already satisfied: anyio<5,>=3.5.0 in /usr/local/lib/python3.10/dist-packages (from openai) (3.7.1)\n",
            "Requirement already satisfied: distro<2,>=1.7.0 in /usr/local/lib/python3.10/dist-packages (from openai) (1.9.0)\n",
            "Requirement already satisfied: httpx<1,>=0.23.0 in /usr/local/lib/python3.10/dist-packages (from openai) (0.27.2)\n",
            "Requirement already satisfied: jiter<1,>=0.4.0 in /usr/local/lib/python3.10/dist-packages (from openai) (0.6.1)\n",
            "Requirement already satisfied: pydantic<3,>=1.9.0 in /usr/local/lib/python3.10/dist-packages (from openai) (2.9.2)\n",
            "Requirement already satisfied: sniffio in /usr/local/lib/python3.10/dist-packages (from openai) (1.3.1)\n",
            "Requirement already satisfied: tqdm>4 in /usr/local/lib/python3.10/dist-packages (from openai) (4.66.6)\n",
            "Requirement already satisfied: typing-extensions<5,>=4.11 in /usr/local/lib/python3.10/dist-packages (from openai) (4.12.2)\n",
            "Requirement already satisfied: idna>=2.8 in /usr/local/lib/python3.10/dist-packages (from anyio<5,>=3.5.0->openai) (3.10)\n",
            "Requirement already satisfied: exceptiongroup in /usr/local/lib/python3.10/dist-packages (from anyio<5,>=3.5.0->openai) (1.2.2)\n",
            "Requirement already satisfied: certifi in /usr/local/lib/python3.10/dist-packages (from httpx<1,>=0.23.0->openai) (2024.8.30)\n",
            "Requirement already satisfied: httpcore==1.* in /usr/local/lib/python3.10/dist-packages (from httpx<1,>=0.23.0->openai) (1.0.6)\n",
            "Requirement already satisfied: h11<0.15,>=0.13 in /usr/local/lib/python3.10/dist-packages (from httpcore==1.*->httpx<1,>=0.23.0->openai) (0.14.0)\n",
            "Requirement already satisfied: annotated-types>=0.6.0 in /usr/local/lib/python3.10/dist-packages (from pydantic<3,>=1.9.0->openai) (0.7.0)\n",
            "Requirement already satisfied: pydantic-core==2.23.4 in /usr/local/lib/python3.10/dist-packages (from pydantic<3,>=1.9.0->openai) (2.23.4)\n",
            "Requirement already satisfied: rich in /usr/local/lib/python3.10/dist-packages (13.9.3)\n",
            "Requirement already satisfied: markdown-it-py>=2.2.0 in /usr/local/lib/python3.10/dist-packages (from rich) (3.0.0)\n",
            "Requirement already satisfied: pygments<3.0.0,>=2.13.0 in /usr/local/lib/python3.10/dist-packages (from rich) (2.18.0)\n",
            "Requirement already satisfied: typing-extensions<5.0,>=4.0.0 in /usr/local/lib/python3.10/dist-packages (from rich) (4.12.2)\n",
            "Requirement already satisfied: mdurl~=0.1 in /usr/local/lib/python3.10/dist-packages (from markdown-it-py>=2.2.0->rich) (0.1.2)\n",
            "Collecting pypdf2\n",
            "  Downloading pypdf2-3.0.1-py3-none-any.whl.metadata (6.8 kB)\n",
            "Downloading pypdf2-3.0.1-py3-none-any.whl (232 kB)\n",
            "\u001b[2K   \u001b[90m━━━━━━━━━━━━━━━━━━━━━━━━━━━━━━━━━━━━━━━━\u001b[0m \u001b[32m232.6/232.6 kB\u001b[0m \u001b[31m4.1 MB/s\u001b[0m eta \u001b[36m0:00:00\u001b[0m\n",
            "\u001b[?25hInstalling collected packages: pypdf2\n",
            "Successfully installed pypdf2-3.0.1\n",
            "Collecting gradio\n",
            "  Downloading gradio-5.4.0-py3-none-any.whl.metadata (16 kB)\n",
            "Collecting aiofiles<24.0,>=22.0 (from gradio)\n",
            "  Downloading aiofiles-23.2.1-py3-none-any.whl.metadata (9.7 kB)\n",
            "Requirement already satisfied: anyio<5.0,>=3.0 in /usr/local/lib/python3.10/dist-packages (from gradio) (3.7.1)\n",
            "Collecting fastapi<1.0,>=0.115.2 (from gradio)\n",
            "  Downloading fastapi-0.115.4-py3-none-any.whl.metadata (27 kB)\n",
            "Collecting ffmpy (from gradio)\n",
            "  Downloading ffmpy-0.4.0-py3-none-any.whl.metadata (2.9 kB)\n",
            "Collecting gradio-client==1.4.2 (from gradio)\n",
            "  Downloading gradio_client-1.4.2-py3-none-any.whl.metadata (7.1 kB)\n",
            "Requirement already satisfied: httpx>=0.24.1 in /usr/local/lib/python3.10/dist-packages (from gradio) (0.27.2)\n",
            "Collecting huggingface-hub>=0.25.1 (from gradio)\n",
            "  Downloading huggingface_hub-0.26.2-py3-none-any.whl.metadata (13 kB)\n",
            "Requirement already satisfied: jinja2<4.0 in /usr/local/lib/python3.10/dist-packages (from gradio) (3.1.4)\n",
            "Collecting markupsafe~=2.0 (from gradio)\n",
            "  Downloading MarkupSafe-2.1.5-cp310-cp310-manylinux_2_17_x86_64.manylinux2014_x86_64.whl.metadata (3.0 kB)\n",
            "Requirement already satisfied: numpy<3.0,>=1.0 in /usr/local/lib/python3.10/dist-packages (from gradio) (1.26.4)\n",
            "Requirement already satisfied: orjson~=3.0 in /usr/local/lib/python3.10/dist-packages (from gradio) (3.10.10)\n",
            "Requirement already satisfied: packaging in /usr/local/lib/python3.10/dist-packages (from gradio) (24.1)\n",
            "Requirement already satisfied: pandas<3.0,>=1.0 in /usr/local/lib/python3.10/dist-packages (from gradio) (2.2.2)\n",
            "Requirement already satisfied: pillow<12.0,>=8.0 in /usr/local/lib/python3.10/dist-packages (from gradio) (10.4.0)\n",
            "Requirement already satisfied: pydantic>=2.0 in /usr/local/lib/python3.10/dist-packages (from gradio) (2.9.2)\n",
            "Collecting pydub (from gradio)\n",
            "  Downloading pydub-0.25.1-py2.py3-none-any.whl.metadata (1.4 kB)\n",
            "Collecting python-multipart==0.0.12 (from gradio)\n",
            "  Downloading python_multipart-0.0.12-py3-none-any.whl.metadata (1.9 kB)\n",
            "Requirement already satisfied: pyyaml<7.0,>=5.0 in /usr/local/lib/python3.10/dist-packages (from gradio) (6.0.2)\n",
            "Collecting ruff>=0.2.2 (from gradio)\n",
            "  Downloading ruff-0.7.1-py3-none-manylinux_2_17_x86_64.manylinux2014_x86_64.whl.metadata (25 kB)\n",
            "Collecting safehttpx<1.0,>=0.1.1 (from gradio)\n",
            "  Downloading safehttpx-0.1.1-py3-none-any.whl.metadata (4.1 kB)\n",
            "Collecting semantic-version~=2.0 (from gradio)\n",
            "  Downloading semantic_version-2.10.0-py2.py3-none-any.whl.metadata (9.7 kB)\n",
            "Collecting starlette<1.0,>=0.40.0 (from gradio)\n",
            "  Downloading starlette-0.41.2-py3-none-any.whl.metadata (6.0 kB)\n",
            "Collecting tomlkit==0.12.0 (from gradio)\n",
            "  Downloading tomlkit-0.12.0-py3-none-any.whl.metadata (2.7 kB)\n",
            "Requirement already satisfied: typer<1.0,>=0.12 in /usr/local/lib/python3.10/dist-packages (from gradio) (0.12.5)\n",
            "Requirement already satisfied: typing-extensions~=4.0 in /usr/local/lib/python3.10/dist-packages (from gradio) (4.12.2)\n",
            "Collecting uvicorn>=0.14.0 (from gradio)\n",
            "  Downloading uvicorn-0.32.0-py3-none-any.whl.metadata (6.6 kB)\n",
            "Requirement already satisfied: fsspec in /usr/local/lib/python3.10/dist-packages (from gradio-client==1.4.2->gradio) (2024.10.0)\n",
            "Collecting websockets<13.0,>=10.0 (from gradio-client==1.4.2->gradio)\n",
            "  Downloading websockets-12.0-cp310-cp310-manylinux_2_5_x86_64.manylinux1_x86_64.manylinux_2_17_x86_64.manylinux2014_x86_64.whl.metadata (6.6 kB)\n",
            "Requirement already satisfied: idna>=2.8 in /usr/local/lib/python3.10/dist-packages (from anyio<5.0,>=3.0->gradio) (3.10)\n",
            "Requirement already satisfied: sniffio>=1.1 in /usr/local/lib/python3.10/dist-packages (from anyio<5.0,>=3.0->gradio) (1.3.1)\n",
            "Requirement already satisfied: exceptiongroup in /usr/local/lib/python3.10/dist-packages (from anyio<5.0,>=3.0->gradio) (1.2.2)\n",
            "Requirement already satisfied: certifi in /usr/local/lib/python3.10/dist-packages (from httpx>=0.24.1->gradio) (2024.8.30)\n",
            "Requirement already satisfied: httpcore==1.* in /usr/local/lib/python3.10/dist-packages (from httpx>=0.24.1->gradio) (1.0.6)\n",
            "Requirement already satisfied: h11<0.15,>=0.13 in /usr/local/lib/python3.10/dist-packages (from httpcore==1.*->httpx>=0.24.1->gradio) (0.14.0)\n",
            "Requirement already satisfied: filelock in /usr/local/lib/python3.10/dist-packages (from huggingface-hub>=0.25.1->gradio) (3.16.1)\n",
            "Requirement already satisfied: requests in /usr/local/lib/python3.10/dist-packages (from huggingface-hub>=0.25.1->gradio) (2.32.3)\n",
            "Requirement already satisfied: tqdm>=4.42.1 in /usr/local/lib/python3.10/dist-packages (from huggingface-hub>=0.25.1->gradio) (4.66.6)\n",
            "Requirement already satisfied: python-dateutil>=2.8.2 in /usr/local/lib/python3.10/dist-packages (from pandas<3.0,>=1.0->gradio) (2.8.2)\n",
            "Requirement already satisfied: pytz>=2020.1 in /usr/local/lib/python3.10/dist-packages (from pandas<3.0,>=1.0->gradio) (2024.2)\n",
            "Requirement already satisfied: tzdata>=2022.7 in /usr/local/lib/python3.10/dist-packages (from pandas<3.0,>=1.0->gradio) (2024.2)\n",
            "Requirement already satisfied: annotated-types>=0.6.0 in /usr/local/lib/python3.10/dist-packages (from pydantic>=2.0->gradio) (0.7.0)\n",
            "Requirement already satisfied: pydantic-core==2.23.4 in /usr/local/lib/python3.10/dist-packages (from pydantic>=2.0->gradio) (2.23.4)\n",
            "Requirement already satisfied: click>=8.0.0 in /usr/local/lib/python3.10/dist-packages (from typer<1.0,>=0.12->gradio) (8.1.7)\n",
            "Requirement already satisfied: shellingham>=1.3.0 in /usr/local/lib/python3.10/dist-packages (from typer<1.0,>=0.12->gradio) (1.5.4)\n",
            "Requirement already satisfied: rich>=10.11.0 in /usr/local/lib/python3.10/dist-packages (from typer<1.0,>=0.12->gradio) (13.9.3)\n",
            "Requirement already satisfied: six>=1.5 in /usr/local/lib/python3.10/dist-packages (from python-dateutil>=2.8.2->pandas<3.0,>=1.0->gradio) (1.16.0)\n",
            "Requirement already satisfied: markdown-it-py>=2.2.0 in /usr/local/lib/python3.10/dist-packages (from rich>=10.11.0->typer<1.0,>=0.12->gradio) (3.0.0)\n",
            "Requirement already satisfied: pygments<3.0.0,>=2.13.0 in /usr/local/lib/python3.10/dist-packages (from rich>=10.11.0->typer<1.0,>=0.12->gradio) (2.18.0)\n",
            "Requirement already satisfied: charset-normalizer<4,>=2 in /usr/local/lib/python3.10/dist-packages (from requests->huggingface-hub>=0.25.1->gradio) (3.4.0)\n",
            "Requirement already satisfied: urllib3<3,>=1.21.1 in /usr/local/lib/python3.10/dist-packages (from requests->huggingface-hub>=0.25.1->gradio) (2.2.3)\n",
            "Requirement already satisfied: mdurl~=0.1 in /usr/local/lib/python3.10/dist-packages (from markdown-it-py>=2.2.0->rich>=10.11.0->typer<1.0,>=0.12->gradio) (0.1.2)\n",
            "Downloading gradio-5.4.0-py3-none-any.whl (56.7 MB)\n",
            "\u001b[2K   \u001b[90m━━━━━━━━━━━━━━━━━━━━━━━━━━━━━━━━━━━━━━━━\u001b[0m \u001b[32m56.7/56.7 MB\u001b[0m \u001b[31m12.8 MB/s\u001b[0m eta \u001b[36m0:00:00\u001b[0m\n",
            "\u001b[?25hDownloading gradio_client-1.4.2-py3-none-any.whl (319 kB)\n",
            "\u001b[2K   \u001b[90m━━━━━━━━━━━━━━━━━━━━━━━━━━━━━━━━━━━━━━━━\u001b[0m \u001b[32m319.8/319.8 kB\u001b[0m \u001b[31m23.1 MB/s\u001b[0m eta \u001b[36m0:00:00\u001b[0m\n",
            "\u001b[?25hDownloading python_multipart-0.0.12-py3-none-any.whl (23 kB)\n",
            "Downloading tomlkit-0.12.0-py3-none-any.whl (37 kB)\n",
            "Downloading aiofiles-23.2.1-py3-none-any.whl (15 kB)\n",
            "Downloading fastapi-0.115.4-py3-none-any.whl (94 kB)\n",
            "\u001b[2K   \u001b[90m━━━━━━━━━━━━━━━━━━━━━━━━━━━━━━━━━━━━━━━━\u001b[0m \u001b[32m94.7/94.7 kB\u001b[0m \u001b[31m7.2 MB/s\u001b[0m eta \u001b[36m0:00:00\u001b[0m\n",
            "\u001b[?25hDownloading huggingface_hub-0.26.2-py3-none-any.whl (447 kB)\n",
            "\u001b[2K   \u001b[90m━━━━━━━━━━━━━━━━━━━━━━━━━━━━━━━━━━━━━━━━\u001b[0m \u001b[32m447.5/447.5 kB\u001b[0m \u001b[31m29.3 MB/s\u001b[0m eta \u001b[36m0:00:00\u001b[0m\n",
            "\u001b[?25hDownloading MarkupSafe-2.1.5-cp310-cp310-manylinux_2_17_x86_64.manylinux2014_x86_64.whl (25 kB)\n",
            "Downloading ruff-0.7.1-py3-none-manylinux_2_17_x86_64.manylinux2014_x86_64.whl (11.0 MB)\n",
            "\u001b[2K   \u001b[90m━━━━━━━━━━━━━━━━━━━━━━━━━━━━━━━━━━━━━━━━\u001b[0m \u001b[32m11.0/11.0 MB\u001b[0m \u001b[31m96.0 MB/s\u001b[0m eta \u001b[36m0:00:00\u001b[0m\n",
            "\u001b[?25hDownloading safehttpx-0.1.1-py3-none-any.whl (8.4 kB)\n",
            "Downloading semantic_version-2.10.0-py2.py3-none-any.whl (15 kB)\n",
            "Downloading starlette-0.41.2-py3-none-any.whl (73 kB)\n",
            "\u001b[2K   \u001b[90m━━━━━━━━━━━━━━━━━━━━━━━━━━━━━━━━━━━━━━━━\u001b[0m \u001b[32m73.3/73.3 kB\u001b[0m \u001b[31m5.8 MB/s\u001b[0m eta \u001b[36m0:00:00\u001b[0m\n",
            "\u001b[?25hDownloading uvicorn-0.32.0-py3-none-any.whl (63 kB)\n",
            "\u001b[2K   \u001b[90m━━━━━━━━━━━━━━━━━━━━━━━━━━━━━━━━━━━━━━━━\u001b[0m \u001b[32m63.7/63.7 kB\u001b[0m \u001b[31m4.3 MB/s\u001b[0m eta \u001b[36m0:00:00\u001b[0m\n",
            "\u001b[?25hDownloading ffmpy-0.4.0-py3-none-any.whl (5.8 kB)\n",
            "Downloading pydub-0.25.1-py2.py3-none-any.whl (32 kB)\n",
            "Downloading websockets-12.0-cp310-cp310-manylinux_2_5_x86_64.manylinux1_x86_64.manylinux_2_17_x86_64.manylinux2014_x86_64.whl (130 kB)\n",
            "\u001b[2K   \u001b[90m━━━━━━━━━━━━━━━━━━━━━━━━━━━━━━━━━━━━━━━━\u001b[0m \u001b[32m130.2/130.2 kB\u001b[0m \u001b[31m10.4 MB/s\u001b[0m eta \u001b[36m0:00:00\u001b[0m\n",
            "\u001b[?25hInstalling collected packages: pydub, websockets, uvicorn, tomlkit, semantic-version, ruff, python-multipart, markupsafe, ffmpy, aiofiles, starlette, huggingface-hub, safehttpx, gradio-client, fastapi, gradio\n",
            "  Attempting uninstall: markupsafe\n",
            "    Found existing installation: MarkupSafe 3.0.2\n",
            "    Uninstalling MarkupSafe-3.0.2:\n",
            "      Successfully uninstalled MarkupSafe-3.0.2\n",
            "  Attempting uninstall: huggingface-hub\n",
            "    Found existing installation: huggingface-hub 0.24.7\n",
            "    Uninstalling huggingface-hub-0.24.7:\n",
            "      Successfully uninstalled huggingface-hub-0.24.7\n",
            "Successfully installed aiofiles-23.2.1 fastapi-0.115.4 ffmpy-0.4.0 gradio-5.4.0 gradio-client-1.4.2 huggingface-hub-0.26.2 markupsafe-2.1.5 pydub-0.25.1 python-multipart-0.0.12 ruff-0.7.1 safehttpx-0.1.1 semantic-version-2.10.0 starlette-0.41.2 tomlkit-0.12.0 uvicorn-0.32.0 websockets-12.0\n"
          ]
        }
      ],
      "source": [
        "!pip install -q sentence-transformers\n",
        "!pip install -q wikipedia-api\n",
        "!pip install -q numpy\n",
        "!pip install -q scipy\n",
        "!pip install openai\n",
        "!pip install rich\n",
        "!pip install pypdf2\n",
        "!pip install gradio"
      ]
    },
    {
      "cell_type": "code",
      "source": [
        "\n",
        "!pip install python-dotenv"
      ],
      "metadata": {
        "id": "rG3jL3m4bVTw",
        "outputId": "765d698f-d8e1-4017-d141-267fe97afba5",
        "colab": {
          "base_uri": "https://localhost:8080/"
        }
      },
      "execution_count": 2,
      "outputs": [
        {
          "output_type": "stream",
          "name": "stdout",
          "text": [
            "Collecting python-dotenv\n",
            "  Downloading python_dotenv-1.0.1-py3-none-any.whl.metadata (23 kB)\n",
            "Downloading python_dotenv-1.0.1-py3-none-any.whl (19 kB)\n",
            "Installing collected packages: python-dotenv\n",
            "Successfully installed python-dotenv-1.0.1\n"
          ]
        }
      ]
    },
    {
      "cell_type": "code",
      "execution_count": 3,
      "metadata": {
        "id": "WD-2qvDHaTnn",
        "outputId": "d04492d3-8b42-4990-9dd9-c659ca07ab92",
        "colab": {
          "base_uri": "https://localhost:8080/"
        }
      },
      "outputs": [
        {
          "output_type": "stream",
          "name": "stderr",
          "text": [
            "/usr/local/lib/python3.10/dist-packages/sentence_transformers/cross_encoder/CrossEncoder.py:13: TqdmExperimentalWarning: Using `tqdm.autonotebook.tqdm` in notebook mode. Use `tqdm.tqdm` instead to force console mode (e.g. in jupyter console)\n",
            "  from tqdm.autonotebook import tqdm, trange\n"
          ]
        }
      ],
      "source": [
        "import re\n",
        "import os\n",
        "import openai\n",
        "from rich import print\n",
        "from dotenv import load_dotenv\n",
        "from sentence_transformers import SentenceTransformer\n",
        "import numpy as np\n",
        "import textwrap\n",
        "from wikipediaapi import Wikipedia\n",
        "import PyPDF2"
      ]
    },
    {
      "cell_type": "code",
      "execution_count": 4,
      "metadata": {
        "id": "3JWwDXOnaTnn"
      },
      "outputs": [],
      "source": [
        "def load_document(file_path):\n",
        "    \"\"\"\n",
        "    Load document from a given file path. Supports PDF and text files.\n",
        "    \"\"\"\n",
        "    _, file_extension = os.path.splitext(file_path)\n",
        "\n",
        "    if file_extension.lower() == '.pdf':\n",
        "        with open(file_path, 'rb') as file:\n",
        "            pdf_reader = PyPDF2.PdfReader(file)\n",
        "            text = \"\"\n",
        "            for page in pdf_reader.pages:\n",
        "                text += page.extract_text()\n",
        "    elif file_extension.lower() == '.txt':\n",
        "        with open(file_path, 'r', encoding='utf-8') as file:\n",
        "            text = file.read()\n",
        "    elif file_extension.lower() == '.md':\n",
        "        with open(file_path, 'r', encoding='utf-8') as file:\n",
        "            text = file.read()\n",
        "    else:\n",
        "        raise ValueError(\"Unsupported file format. Please provide a PDF or text file.\")\n",
        "\n",
        "    return text\n",
        "\n",
        "data = load_document(\"/content/a-necessary-evil_-necromancy-and-christian-death.pdf.pdf\")"
      ]
    },
    {
      "cell_type": "code",
      "execution_count": 5,
      "metadata": {
        "id": "bC62Do0zaTno",
        "outputId": "7c086e04-bfa4-4ddb-c246-35cad08eb31d",
        "colab": {
          "base_uri": "https://localhost:8080/",
          "height": 1000
        }
      },
      "outputs": [
        {
          "output_type": "display_data",
          "data": {
            "text/plain": [
              "Necromancy, the art or practice of magically conjuring up t he souls of the dead, is  \n",
              " primarily a form of divination. More generally, ne cromancy is often considered  \n",
              " synonymous with black magic, sorcery or witchcraft, perhaps because the calling up  \n",
              " of the dead may occur for purposes other than information seeking, or  because the  \n",
              " separation of divination from its consequences is not always clear. The re is also a  \n",
              " linguistic basis for the expanded use of the word: the term ​ black art ​  for magic appears  \n",
              " to be based on a corruption of ​ necromancy ​ \u001b[1m(\u001b[0mfrom Greek ​ necros ​ , \u001b[32m'dead'\u001b[0m\u001b[1m)\u001b[0m to ​ nigramancy  \n",
              " \u001b[1m(\u001b[0mfrom Latin ​ niger ​ , \u001b[32m'black'\u001b[0m\u001b[1m)\u001b[0m. \u001b[1m(\u001b[0mJones, \u001b[1;36m6451\u001b[0m\u001b[1m)\u001b[0m.  \n",
              "  \n",
              " What fascinates me about this term \u001b[32m\"necromancy\"\u001b[0m is the process by whi ch it becomes a  \n",
              " synonym for other magical practices and is then carefully differentiated from them again. The  \n",
              " occult scholarship of the seventeenth century and onwa rds mentions witchcraft and  \n",
              " necromancy in almost the same breath, anxious to differentiate the one from the other. Why?  \n",
              " If necromancy is synonymous with witchcraft, surely use of the two terms is redunda nt?    \n",
              "  \n",
              " The answer, I discovered, is that they were never synonym ous in the first place. The re is a  \n",
              " conflation of terms at work here, but it is between necromancy - divination through di scourse  \n",
              " with the deceased - and a form of black magic, concerned with discourse and ba rgains made  \n",
              " with demons, devils and other diabolical entities.  \n",
              "  \n",
              " In about \u001b[1;36m1010\u001b[0m, Burchard of Worms' ​ Corrector and Doctor ​  differentiated between  \n",
              " \u001b[32m\"magicians\"\u001b[0m, \u001b[32m\"diviners\"\u001b[0m - presumably including ne cromancers - witches and the \u001b[32m\"you\"\u001b[0m  being  \n",
              " addressed by the text, an ordinary person not  identified as any of  these particular practitioners  \n",
              " but still perhaps enacting magic. However, Burchard doe s not separate these practitioners by  \n",
              " their practices; for example, his list of divinations includes the influencing of  minds and the  \n",
              " weather. John Shinners points out that \"Burchard culled most of the sins and their penances  \n",
              " in his collection from older penitentials, some dating ba ck to the seventh century\" \u001b[1m(\u001b[0m\u001b[1;36m459\u001b[0m\u001b[1m)\u001b[0m: this  \n",
              " distinction between practitioners and lack of similar distinction be tween practices appears  \n",
              " therefore to be long-established.    \n",
              "  \n",
              " This lack of distinction is even more apparent in the work of Johannes Hartlieb, who \u001b[1m(\u001b[0m in the  \n",
              " early fifteenth century\u001b[1m)\u001b[0m defines necromancy thus:  Nygramancia ​ is the first forbidden art, and is called the \n",
              "black art. Thi s art is the worst  \n",
              " of all, because it proceeds with sacrifices and services that must be rendered to the  \n",
              " devils. One who wishes to exerciese this art must give all sorts of sacrifices to the  \n",
              " devils, and must take an oath and pact with the devils \u001b[1m(\u001b[0min Kieckhefer, \u001b[1;36m33\u001b[0m\u001b[1m)\u001b[0m.  \n",
              "  \n",
              " There is no reference to the dead whatsoever here, sugge sting that necromancy and di abolical  \n",
              " sorcery have become fully conflated by the early fifteenth century. Ot her texts allow the  \n",
              " process to be tracked more clearly. Isidore of Seville's ​ Etymologies, ​ from the early seventh  \n",
              " century, ​  ​ mentions among the forms of divination \"the ​ necromantici ​ who resuscitate and  \n",
              " interrogate the dead\" \u001b[1m(\u001b[0mKickehefer, \u001b[1;36m33\u001b[0m\u001b[1m)\u001b[0m. This definition is preserved by Hugh of S t. Victor in  \n",
              " the ​ Didascalicon ​  of the early twelfth century, but with the addition of  the diabolical element  \n",
              " and the positioning of necromancy as first among di vinations which are apparent in Ha rtlieb:  \n",
              "  \n",
              " primam, necromantiam, quod interpretatur divinatio in mortuis, necros enim Graece,  \n",
              " mortuus Latine, unde necromantia, divinatio, qua e fit per sacrificium sanguinis  \n",
              " humani, quem daemones sitiunt, et in eo delectantur effuso \u001b[1m(\u001b[0m810D\u001b[1m)\u001b[0m .  \n",
              "  \n",
              " I shan't embarrass myself and my schoolboy La tin further by a ttempting a complete  \n",
              " translation, but the phrasing \u001b[32m\"first, necromancy\"\u001b[0m and its definition as divination through t he  \n",
              " dead are apparent even to me, as is the reference to a sacrifice of hum an blood whi ch demons  \n",
              " delight in. It is apparent that the definition of  necromantic practice has changed since the turn  \n",
              " of the millennium, and that Hugh is aware of the change. Von S chlettstadt's ​ Historiae  \n",
              " Memorabiles ​ of the 1280s report the conjuring of demons by a  necromancer named  \n",
              " Walravius, while Elich's ​ Daemonomagia ​ of \u001b[1;36m1607\u001b[0m describes witchcraft as a disease both  \n",
              " arising from and only curable by \"strange and ridiculous ceremonies by wi tches and  \n",
              " necromancers\".    \n",
              "  \n",
              " All of this demonstrates that the conflation ha s yet to occur in the seventh century, and can by  \n",
              " no means be called complete in the tenth century, whe n Burchard uses the generic \u001b[32m\"diviners\"\u001b[0m,  \n",
              " nor in the eleventh, when Hugh notes the process and cites the historical definition.  B y the  \n",
              " thirteenth century and Von Schlettstadt the conflated definition is used without such  \n",
              " clarification, and by the fifteenth the linguistic shift from ​ necro ​  to ​ nigra ​ is complete.    In the early\n",
              "seventeenth century, meanwhile, that careful distinction be tween witchcraft and  \n",
              " necromancy has been made, suggesting an effort to separate two particular forms of  \n",
              " forbidden practice. The form called \u001b[32m\"necromancy\"\u001b[0m, wha t exactly constitutes it, and how i t is  \n",
              " conflated with witchcraft, are all explored by R ichard Kieckhefer in his commentary on t he  \n",
              " trial of Jubertus of Bavaria in \u001b[1;36m1437\u001b[0m.    \n",
              "  \n",
              " Kieckhefer determines that \"side from accusations more or less typical of the incipient  \n",
              " profession for conspiratorial witchcraft \u001b[1m(\u001b[0mflight to noc turnal assemblies, killing of  infants,  \n",
              " etc.\u001b[1m)\u001b[0m, Jubertus was charged with activities more often found i n conne ction wi th clerical  \n",
              " necromancy\" \u001b[1m(\u001b[0m\u001b[1;36m30\u001b[0m\u001b[1m)\u001b[0m. These activities included a kind of  occult apprenticeship to senior conjurer  \n",
              " and grimoire-owner Johannes Cunalis and to the succubus  Luxuriousus, who Jubertus is said  \n",
              " to have \u001b[32m\"adored as a god\"\u001b[0m; the commitment of his bodi ly members, after death, into the  \n",
              " custody of his familiar demons; being forbidden by de vils to take confession or  interact with  \n",
              " blessed materials; and the provision of protection from prison, theft, social adversaries and so  \n",
              " on and so forth. It should be noted that, while there is a concern with the fate of Jubertus'  \n",
              " body after death, there is no direct interaction wi th the dead present in this form of  \n",
              " necromancy.  \n",
              "  \n",
              " Quoting Kieckhefer again: \"Judicial and anecdotal evidence sugge sts that demonic magic,  \n",
              " called \u001b[32m'nigromancy'\u001b[0m or \u001b[32m'necromancy'\u001b[0m, was largely the dom ain of priests\", perhaps because  \n",
              " \"Christian ritual had from early centuries been the enactment not of oral tradition but  of texts  \n",
              " embodied in books\" \u001b[1m(\u001b[0m\u001b[1;36m4\u001b[0m\u001b[1m)\u001b[0m. Necromancy, or at least the demonic form assigned to Jubertus, is a  \n",
              " system of belief existing among Christian priests. Characterised by t he adoration of  devils  \n",
              " and the refusal of the sacraments, it is more truly a form of heresy, constructed in the terms of  \n",
              " Christian orthodoxy and yet inherently oppose d to it. What, then, of the traditional form? Can  \n",
              " divination using the dead be viewed in a similar way, and doe s this illuminate the conflation  \n",
              " of divination with diabolism?  \n",
              "  \n",
              " Before that question can be answered, it is necessary to out line the orthodox i dea of Christian  \n",
              " death. Medieval Christianity predicated its concept of death on t he idea that separation  \n",
              " between the living and dead, while ritually enforced, wa s not total and that the interest of the  \n",
              " dead in the affairs of the living and ​ vice versa ​  was desirable.    In \u001b[1;36m1025\u001b[0m, Bishop Gerard of Cambrai addressed\n",
              "those heretics who de nied the effectiveness of  \n",
              " praying on behalf of the dead:  \n",
              "  \n",
              " It is true, lest anyone believe that penitence is of use only to the living and not  to the  \n",
              " dead, that many of the dead have been rescued from punishment by the piety of their  \n",
              " living \u001b[33m...\u001b[0m \u001b[1m(\u001b[0min Le Goff, \u001b[1;36m106\u001b[0m\u001b[1m)\u001b[0m .  \n",
              "  \n",
              " This relief from punishment was an important element of acceptable Christian interaction  \n",
              " with the dead. Since elevation or damnation of  the deceased could not  occur until the Last  \n",
              " Judgment \u001b[1m(\u001b[0msave in the cases of martyred saints and m ortal sinners\u001b[1m)\u001b[0m, the continued failure of  \n",
              " the apocalypse to occur caused what Jacques le Goff calls an \u001b[32m\"eschatological interlude\"\u001b[0m \u001b[1m(\u001b[0m\u001b[1;36m3\u001b[0m\u001b[1m)\u001b[0m.  \n",
              " Christian thinkers set themselves to the fate of the soul during this time, and \"conceived that  \n",
              " certain sinners might be saved, most probably by be ing subjected to a trial of some sort\u001b[1m[\u001b[0m;\u001b[1m]\u001b[0m a  \n",
              " new belief was born, a belief that gradually matured unt il in the twelfth century it became the  \n",
              " belief in Purgatory\" \u001b[1m(\u001b[0mLe Goff, \u001b[1;36m3\u001b[0m\u001b[1m)\u001b[0m.  \n",
              "  \n",
              " From this, it can be seen that the dead have a vested interest in the affairs of the living, a n  \n",
              " interest which is also apparent in the doctrine of intercession, in whi ch a living pe rson m ight  \n",
              " pray to ​  ​ a particular saint to cure a particular worldly ill. As Paul Binski says, \"The doctrine of  \n",
              " the intercession of the saints was based upon the capacity of the saints to break the ancient  \n",
              " boundaries between the living and the dead. But the notion of  intercession could be widened  \n",
              " into a form of two-way traffic, whereby not  only the saints but also the living could act, by  \n",
              " prayers or other actions, on behalf of the dead\" \u001b[1m(\u001b[0m\u001b[1;36m24\u001b[0m\u001b[1m)\u001b[0m. Necromancy, meanwhi le, has as its  \n",
              " prerequisite \"belief in both a form of life after death and the continued interest of the dead in  \n",
              " the affairs of the living\" \u001b[1m(\u001b[0mJones \u001b[1;36m6541\u001b[0m\u001b[1m)\u001b[0m. Christianity posse ssed the former, but Purgatory  \n",
              " provided the latter, and gave Christians a reason to interact with the deceased in wha t  \n",
              " amounted to a transaction between the dead and the living, c oncerning the future; essentially,  \n",
              " an act of necromancy.  \n",
              "  \n",
              "    Tellingly, Le Goff also identifies a period \"between Gregory the Great and the twelfth  \n",
              " century\" \u001b[1m(\u001b[0m\u001b[1;36m96\u001b[0m\u001b[1m)\u001b[0m in which \u001b[32m\"little progress was made in the construction of  Purgatory\"\u001b[0m, in whi ch a  \n",
              " \u001b[32m\"typology of sins\"\u001b[0m is constructed instead. Perhaps this theological stagnation, this reluctance  \n",
              " to affirm what occurs between the first and Last Judgm ents, caused an upsur ge in  \n",
              " speculations on the topic, which themselves gave rise to necromantic - in the traditional sense  \n",
              " - practices.  \n",
              "  \n",
              " The necromancy constructed by this theological silence was based in Christian theology, a nd  \n",
              " upon the behaviour of the dead as reported in Christian ​ exempla ​ or, for that matter, secular  \n",
              " stories in which the dead, concerned for their souls, are more than prepared to enact influence  \n",
              " upon the living. An individual possessed of will and spiritual fortitude could perhaps  \n",
              " negotiate with them and bargain with them in much the same way as the clerical diabolist did  \n",
              " with devils. I contend that medieval Christian necromancy wa s so similar to clerical  \n",
              " devil-wrangling in its heretical perception of doctrine, its technical practices, in its  \n",
              " practitioners, and in its essentially transactive nature, that a conflation be tween the two wa s  \n",
              " largely inevitable. Indeed, the conflation originates within necromantic rituals themselves, as  \n",
              " practitioners used the devils as a bargaining chip in their interactions with the dead. Al as,  \n",
              " there isn't time to discuss the wide breadth of rituals and ​ exempla ​  that I'd like to, but I hope  \n",
              " the examples I'm about to give will illustrate the point adequately.  \n",
              "  \n",
              " Shinners' collection includes two texts concerned entirely with the manifestation of  the dead:  \n",
              " \u001b[32m'The Young Priest Walchelin'\u001b[0ms Purgatorial Vision' \u001b[1m(\u001b[0m\u001b[1;36m246\u001b[0m\u001b[1m)\u001b[0m and the popul ar fifteenth-century  \n",
              " ghost stories which follow it \u001b[1m(\u001b[0m\u001b[1;36m252\u001b[0m\u001b[1m)\u001b[0m. The Purgatorial Vision is an exemplary tale, an  \n",
              " exploration of individuals' transgressions and the resultant puni shments in the after-death.  \n",
              " Dating from about \u001b[1;36m1131\u001b[0m, it reports the manifestation of  a veritable cavalcade of the damned  \n",
              " before the eyes of the titular cleric. Among the damned souls, who \" lamented bitterly and  \n",
              " urged each other to hurry\" toward their destination, W alchelin recognises \"many of  his  \n",
              " neighbours who had recently died\", among them a known m urderer attended by a  \"fearful  \n",
              " demon\" who is \"mercilessly goading his back and loins with red-hot spurs while he streamed  \n",
              " with blood\" \u001b[1m(\u001b[0m\u001b[1;36m247\u001b[0m\u001b[1m)\u001b[0m. Note the separation between the deceased individual and the demon - there  \n",
              " is no hint that the manifested dead are themselves demons, \u001b[32m\"pythonic spirits\"\u001b[0m or anything but  \n",
              " actually deceased persons of Walchelin's acquaintance.       This is a story intended to show the dead to the \n",
              "living, who \" should constantly have these  \n",
              " things in mind and should tremble and take heed not  to incur such dire penalties for their  \n",
              " sins\" \u001b[1m(\u001b[0m\u001b[1;36m251\u001b[0m\u001b[1m)\u001b[0m. It is also worth considering that this encounter does not feature the necromantic  \n",
              " transaction - Walchelin has not conjured up t he dead but  stumbled across them, and he  does  \n",
              " not request service of them in return for their salvation. The  spectre of William of Glos tells  \n",
              " Walchelin his story - concerning his usury and interference with rites of inheritance while  \n",
              " alive - and begs the priest to tell \"my wife Beatrice and son R oger that they must help me by  \n",
              " quickly restoring to the heir the pledge\" William denied to its rightful owne r \u001b[1m(\u001b[0m\u001b[1;36m250\u001b[0m\u001b[1m)\u001b[0m. Walchelin  \n",
              " is initially reluctant, saying \u001b[32m\"Roger of Glos... wi ll deride me as a madman\"\u001b[0m, but yields after  \n",
              " \u001b[32m\"repeated prayers\"\u001b[0m \u001b[1m(\u001b[0m\u001b[1;36m250\u001b[0m\u001b[1m)\u001b[0m. The dead who manifest themselves to Walchelin offer no temporal  \n",
              " reward or knowledge of the future in return for their salvation.  \n",
              "  \n",
              " The ghost stories of some three centuries later are rather more transactory. In the very first  \n",
              " \u001b[1m(\u001b[0m\u001b[1;36m253\u001b[0m\u001b[1m)\u001b[0m, a man is frightened by a spirit which looks  like \"a horse standing on i ts hind legs with  \n",
              " its forelegs outstretched\", which he orders \u001b[32m\"in the name of Jesus Christ not to harm him\"\u001b[0m,  \n",
              " before he \u001b[32m\"conjured it \u001b[0m\u001b[32m\"\u001b[0m. Only when conjured doe s the spirit identify itself as a  \n",
              " deceased person and explain its damnation - and it offers to serve the living m an, carrying hi s  \n",
              " burden to a nearby river. The man \u001b[32m\"had the ghost  absolved, and ha d masses sung f or him\"\u001b[0m.  \n",
              " The initial manifestation, an animal doing something unna tural, has a somewhat demonic  \n",
              " aspect, and it offers a service automatically, in return for the salvation onl y a living pe rson's  \n",
              " piety can grant it. No knowledge of the future is offered, but  the transaction, be ginning wi th  \n",
              " the dead serving the living, is there.  \n",
              "  \n",
              " In the next story, a tailor being vexed by the spirit of an excommunicated man is told to  \n",
              " arrange masses for the spirit if he wishes to be left alone. In order to inform the ghost  that this  \n",
              " has been done, the tailor and his neighbour must wait several days before taking \"inscribed  \n",
              " amulets\u001b[33m...\u001b[0m to ward off the terrors of the night\" \u001b[1m(\u001b[0m\u001b[1;36m255\u001b[0m\u001b[1m)\u001b[0m to a hill near an abbey. Upon a rrival at  \n",
              " the hill, they \"drew a large circle on the ground, a nd inscribed a cross inside it. He carried on  \n",
              " him the four Gospels and other sacred writings, and as he stood i n the middle of the circle, he  \n",
              " put four small medallions at the borders of the circle to form the shape of a cross. On e ach  \n",
              " medallion were written saving words, like \u001b[1m[\u001b[0m\u001b[32m'\u001b[0m\u001b[32m]\u001b[0m\u001b[32mJesus of Nazareth\u001b[0m\u001b[32m[\u001b[0m\u001b[32m'\u001b[0m\u001b[1m]\u001b[0m and so forth. The n he  \n",
              " awaited the arrival of the ghost\", which informs him that \u001b[32m\"on this coming M onda y \u001b[0m\u001b[32m will  enter into everlasting \u001b[0m\n",
              "\u001b[32mjoy along with thirty other souls\"\u001b[0m. The  tailor asks the ghost  about his  \n",
              " own sins, and how he can avoid such a fate in the afterworld, and wha t can be done  to  \n",
              " mediate his sins - the ghost tells him, and furthermore informs him that \"if you wi ll move to  \n",
              " such and such a place, you will be rich; and if you r emain in the other place, you wi ll be poor .  \n",
              " You have some enemies where you are now\" \u001b[1m(\u001b[0m\u001b[1;36m256\u001b[0m\u001b[1m)\u001b[0m. Thi s encounter is more complex; while  \n",
              " the tailor does not summon the spirit in the first place, and whi le it can be argued that he is  \n",
              " blackmailed into absolving the spirit \u001b[1m(\u001b[0mitself a difference from the earlier spirits who be g and  \n",
              " pray for salvation\u001b[1m)\u001b[0m, he uses ritual means to summon it, he asks it questions about the future,  \n",
              " and he is granted information that will benefit him in his mortal life and after it.  \n",
              "  \n",
              " A. E. Waite includes three overtly necromantic rituals in the appendix of his ​ Book of Black  \n",
              " Magic and of Pacts ​ . His first example, an exorcism and interrogation from the ​ Grand  \n",
              " Grimoire ​ of Sibley, actually involves an invocation of  demons to act as a motivating force  \n",
              " upon the deceased:  \n",
              "  \n",
              " \"I conjure and exercise thee\u001b[33m...\u001b[0m to answer my liege demands, being obe dient unto these  \n",
              " sacred ceremonies, on pain of everlasting torment and di stress. \u001b[33m...\u001b[0m B erald, Beroald,  \n",
              " Balbin, Gab, Gebor, Agaba\u001b[33m...\u001b[0m After these forms and ceremonies, the ghost  or  \n",
              " apparition will become visible, and will answer any que stion put  to it by the exorcist\"  \n",
              " \u001b[1m(\u001b[0m\u001b[1;36m290\u001b[0m\u001b[1m)\u001b[0m.    \n",
              "  \n",
              " The ritual requires access to the naked body i n the place where it was buried, and ope rates by  \n",
              " the \u001b[32m\"virtue of the Holy Resurrection\"\u001b[0m \u001b[1m(\u001b[0m\u001b[1;36m291\u001b[0m\u001b[1m)\u001b[0m. His second i s similarly interrogative, a kind of  \n",
              " \u001b[32m'forensic necromancy'\u001b[0m which requires the necromancer to stand whe re a body wa s found,  \n",
              " before it has been removed, and bind the deceased individual's soul \"by the Holy Rites of  \n",
              " Hecate & Blood of Jesus which he shed for thy soul\" \u001b[1m(\u001b[0m\u001b[1;36m291\u001b[0m\u001b[1m)\u001b[0m. Aga in, the machinery is not  \n",
              " wholly Christian, but it refers to resurrection, torments and the exclamation, a nd its  \n",
              " concluding \u001b[32m\"So help thee God and the prayers of the Holy Church\"\u001b[0m, indicate where the  \n",
              " symbolic weight lies - with the Christian doctrine of Purgatory and forgiveness.    \n",
              "  \n",
              "    Each of these rituals relies on a proximity to the body si milar to that of intercession - saints'  \n",
              " relics being inserted into churches meant \"that saint was fully and freely manifest as minister  \n",
              " and witness, and ambassador, at that place. The  saints could act and feel like the living, a nd  \n",
              " were treated as if they were alive and incorrupt, whi ch technically they we re meant to be\"  \n",
              " \u001b[1m(\u001b[0mBinski \u001b[1;36m15\u001b[0m\u001b[1m)\u001b[0m. Each incorporates repeated reference to prayers, to the sacrifice of Jesus which  \n",
              " allows the dead into Paradise and motivates their interest in the living. F inally, there is the  \n",
              " equally compelling threat of Purgatory in Christian death, and of  \"everlasting torment and  \n",
              " distress\" if the dead do not buy their salvation by pe rforming some service for the living. The  \n",
              " service is information, the reward release into the proper Christian machinery of death, the  \n",
              " means of coercion diabolical: conflation is thus inherent.  \n",
              "    Bibliography  \n",
              "  \n",
              " \u001b[32m'Necromancy'\u001b[0m, ​ Oxford English Dictionary ​ , accessed at \u001b[1m<\u001b[0m\u001b[4;94mhttp:\u001b[0m\u001b[4;94m//dictionary.oed.com\u001b[0m\u001b[1m>\u001b[0m on 27t h  \n",
              " November \u001b[1;36m2008\u001b[0m.  \n",
              "  \n",
              " Barrett, ​ W.F. Necromancy and Ancient Magic in its Relation to Spiritualism ​ . \u001b[1m(\u001b[0mLondon: The  \n",
              " Friars Printing Association Ltd., year of publication unknown\u001b[1m)\u001b[0m.  \n",
              "  \n",
              " Binski, Paul. ​  Medieval Death ​ . \u001b[1m(\u001b[0mLondon: British Museum Press, \u001b[1;36m1996\u001b[0m\u001b[1m)\u001b[0m.  \n",
              "  \n",
              " Jones, Lindsay, et al. ​ Encyclopaedia of Religion ​ , volume \u001b[1;36m10\u001b[0m, second edition. \u001b[1m(\u001b[0mFarmington MI :  \n",
              " Macmillan, \u001b[1;36m2005\u001b[0m\u001b[1m)\u001b[0m.  \n",
              "  \n",
              " Kieckhefer, Richard. ​  Forbidden Rites: A Necromancer's Manual of the Fifteenth Century  \n",
              " \u001b[1m(\u001b[0mPennsylvania: Pennsylvania State University Press, \u001b[1;36m1998\u001b[0m\u001b[1m)\u001b[0m .  \n",
              "  \n",
              " Le Goff, Jacques. ​ The Birth of Purgatory ​ , trans. Arthur Goldhammer. \u001b[1m(\u001b[0mAldershot: Scolar  \n",
              " Press, \u001b[1;36m1984\u001b[0m \u001b[1m[\u001b[0m\u001b[1;36m1981\u001b[0m\u001b[1m]\u001b[0m\u001b[1m)\u001b[0m.  \n",
              "  \n",
              " Lee, Frederick George \u001b[1m(\u001b[0meditor\u001b[1m)\u001b[0m. ​ Glimpses of the Supernatural ​  vol. \u001b[1;36m1\u001b[0m \u001b[1m(\u001b[0mLondon : Henry S. King  \n",
              " & co., \u001b[1;36m1875\u001b[0m\u001b[1m)\u001b[0m.  \n",
              "  \n",
              " Rosack, C. W. ​ The Mysteries of Astrology and the Wonde rs of Magic including a Hi story of  \n",
              " the Rise and Progress of Astrology and the various branches of Necromanc y - and so on ​ .  \n",
              " \u001b[1m(\u001b[0mLondon: Sampson, Low, Son & Company, \u001b[1;36m1854\u001b[0m\u001b[1m)\u001b[0m .  \n",
              "  \n",
              " Shinners, John. ​ Medieval Popular Religion \u001b[1;36m1000\u001b[0m-\u001b[1;36m1500\u001b[0m: A Reader ​ . Second edition. \u001b[1m(\u001b[0mToronto:  \n",
              " Broadview Press, \u001b[1;36m2007\u001b[0m\u001b[1m)\u001b[0m.  \n",
              "  \n",
              " Waite, A.E.. ​ The Book of Black Magic and of Pacts ​ . \u001b[1m(\u001b[0mLondon: George Redway, \u001b[1;36m1898\u001b[0m \u001b[1m)\u001b[0m.  \n"
            ],
            "text/html": [
              "<pre style=\"white-space:pre;overflow-x:auto;line-height:normal;font-family:Menlo,'DejaVu Sans Mono',consolas,'Courier New',monospace\">Necromancy, the art or practice of magically conjuring up t he souls of the dead, is  \n",
              " primarily a form of divination. More generally, ne cromancy is often considered  \n",
              " synonymous with black magic, sorcery or witchcraft, perhaps because the calling up  \n",
              " of the dead may occur for purposes other than information seeking, or  because the  \n",
              " separation of divination from its consequences is not always clear. The re is also a  \n",
              " linguistic basis for the expanded use of the word: the term ​ black art ​  for magic appears  \n",
              " to be based on a corruption of ​ necromancy ​ <span style=\"font-weight: bold\">(</span>from Greek ​ necros ​ , <span style=\"color: #008000; text-decoration-color: #008000\">'dead'</span><span style=\"font-weight: bold\">)</span> to ​ nigramancy  \n",
              " <span style=\"font-weight: bold\">(</span>from Latin ​ niger ​ , <span style=\"color: #008000; text-decoration-color: #008000\">'black'</span><span style=\"font-weight: bold\">)</span>. <span style=\"font-weight: bold\">(</span>Jones, <span style=\"color: #008080; text-decoration-color: #008080; font-weight: bold\">6451</span><span style=\"font-weight: bold\">)</span>.  \n",
              "  \n",
              " What fascinates me about this term <span style=\"color: #008000; text-decoration-color: #008000\">\"necromancy\"</span> is the process by whi ch it becomes a  \n",
              " synonym for other magical practices and is then carefully differentiated from them again. The  \n",
              " occult scholarship of the seventeenth century and onwa rds mentions witchcraft and  \n",
              " necromancy in almost the same breath, anxious to differentiate the one from the other. Why?  \n",
              " If necromancy is synonymous with witchcraft, surely use of the two terms is redunda nt?    \n",
              "  \n",
              " The answer, I discovered, is that they were never synonym ous in the first place. The re is a  \n",
              " conflation of terms at work here, but it is between necromancy - divination through di scourse  \n",
              " with the deceased - and a form of black magic, concerned with discourse and ba rgains made  \n",
              " with demons, devils and other diabolical entities.  \n",
              "  \n",
              " In about <span style=\"color: #008080; text-decoration-color: #008080; font-weight: bold\">1010</span>, Burchard of Worms' ​ Corrector and Doctor ​  differentiated between  \n",
              " <span style=\"color: #008000; text-decoration-color: #008000\">\"magicians\"</span>, <span style=\"color: #008000; text-decoration-color: #008000\">\"diviners\"</span> - presumably including ne cromancers - witches and the <span style=\"color: #008000; text-decoration-color: #008000\">\"you\"</span>  being  \n",
              " addressed by the text, an ordinary person not  identified as any of  these particular practitioners  \n",
              " but still perhaps enacting magic. However, Burchard doe s not separate these practitioners by  \n",
              " their practices; for example, his list of divinations includes the influencing of  minds and the  \n",
              " weather. John Shinners points out that \"Burchard culled most of the sins and their penances  \n",
              " in his collection from older penitentials, some dating ba ck to the seventh century\" <span style=\"font-weight: bold\">(</span><span style=\"color: #008080; text-decoration-color: #008080; font-weight: bold\">459</span><span style=\"font-weight: bold\">)</span>: this  \n",
              " distinction between practitioners and lack of similar distinction be tween practices appears  \n",
              " therefore to be long-established.    \n",
              "  \n",
              " This lack of distinction is even more apparent in the work of Johannes Hartlieb, who <span style=\"font-weight: bold\">(</span> in the  \n",
              " early fifteenth century<span style=\"font-weight: bold\">)</span> defines necromancy thus:  Nygramancia ​ is the first forbidden art, and is called the \n",
              "black art. Thi s art is the worst  \n",
              " of all, because it proceeds with sacrifices and services that must be rendered to the  \n",
              " devils. One who wishes to exerciese this art must give all sorts of sacrifices to the  \n",
              " devils, and must take an oath and pact with the devils <span style=\"font-weight: bold\">(</span>in Kieckhefer, <span style=\"color: #008080; text-decoration-color: #008080; font-weight: bold\">33</span><span style=\"font-weight: bold\">)</span>.  \n",
              "  \n",
              " There is no reference to the dead whatsoever here, sugge sting that necromancy and di abolical  \n",
              " sorcery have become fully conflated by the early fifteenth century. Ot her texts allow the  \n",
              " process to be tracked more clearly. Isidore of Seville's ​ Etymologies, ​ from the early seventh  \n",
              " century, ​  ​ mentions among the forms of divination \"the ​ necromantici ​ who resuscitate and  \n",
              " interrogate the dead\" <span style=\"font-weight: bold\">(</span>Kickehefer, <span style=\"color: #008080; text-decoration-color: #008080; font-weight: bold\">33</span><span style=\"font-weight: bold\">)</span>. This definition is preserved by Hugh of S t. Victor in  \n",
              " the ​ Didascalicon ​  of the early twelfth century, but with the addition of  the diabolical element  \n",
              " and the positioning of necromancy as first among di vinations which are apparent in Ha rtlieb:  \n",
              "  \n",
              " primam, necromantiam, quod interpretatur divinatio in mortuis, necros enim Graece,  \n",
              " mortuus Latine, unde necromantia, divinatio, qua e fit per sacrificium sanguinis  \n",
              " humani, quem daemones sitiunt, et in eo delectantur effuso <span style=\"font-weight: bold\">(</span>810D<span style=\"font-weight: bold\">)</span> .  \n",
              "  \n",
              " I shan't embarrass myself and my schoolboy La tin further by a ttempting a complete  \n",
              " translation, but the phrasing <span style=\"color: #008000; text-decoration-color: #008000\">\"first, necromancy\"</span> and its definition as divination through t he  \n",
              " dead are apparent even to me, as is the reference to a sacrifice of hum an blood whi ch demons  \n",
              " delight in. It is apparent that the definition of  necromantic practice has changed since the turn  \n",
              " of the millennium, and that Hugh is aware of the change. Von S chlettstadt's ​ Historiae  \n",
              " Memorabiles ​ of the 1280s report the conjuring of demons by a  necromancer named  \n",
              " Walravius, while Elich's ​ Daemonomagia ​ of <span style=\"color: #008080; text-decoration-color: #008080; font-weight: bold\">1607</span> describes witchcraft as a disease both  \n",
              " arising from and only curable by \"strange and ridiculous ceremonies by wi tches and  \n",
              " necromancers\".    \n",
              "  \n",
              " All of this demonstrates that the conflation ha s yet to occur in the seventh century, and can by  \n",
              " no means be called complete in the tenth century, whe n Burchard uses the generic <span style=\"color: #008000; text-decoration-color: #008000\">\"diviners\"</span>,  \n",
              " nor in the eleventh, when Hugh notes the process and cites the historical definition.  B y the  \n",
              " thirteenth century and Von Schlettstadt the conflated definition is used without such  \n",
              " clarification, and by the fifteenth the linguistic shift from ​ necro ​  to ​ nigra ​ is complete.    In the early\n",
              "seventeenth century, meanwhile, that careful distinction be tween witchcraft and  \n",
              " necromancy has been made, suggesting an effort to separate two particular forms of  \n",
              " forbidden practice. The form called <span style=\"color: #008000; text-decoration-color: #008000\">\"necromancy\"</span>, wha t exactly constitutes it, and how i t is  \n",
              " conflated with witchcraft, are all explored by R ichard Kieckhefer in his commentary on t he  \n",
              " trial of Jubertus of Bavaria in <span style=\"color: #008080; text-decoration-color: #008080; font-weight: bold\">1437</span>.    \n",
              "  \n",
              " Kieckhefer determines that \"side from accusations more or less typical of the incipient  \n",
              " profession for conspiratorial witchcraft <span style=\"font-weight: bold\">(</span>flight to noc turnal assemblies, killing of  infants,  \n",
              " etc.<span style=\"font-weight: bold\">)</span>, Jubertus was charged with activities more often found i n conne ction wi th clerical  \n",
              " necromancy\" <span style=\"font-weight: bold\">(</span><span style=\"color: #008080; text-decoration-color: #008080; font-weight: bold\">30</span><span style=\"font-weight: bold\">)</span>. These activities included a kind of  occult apprenticeship to senior conjurer  \n",
              " and grimoire-owner Johannes Cunalis and to the succubus  Luxuriousus, who Jubertus is said  \n",
              " to have <span style=\"color: #008000; text-decoration-color: #008000\">\"adored as a god\"</span>; the commitment of his bodi ly members, after death, into the  \n",
              " custody of his familiar demons; being forbidden by de vils to take confession or  interact with  \n",
              " blessed materials; and the provision of protection from prison, theft, social adversaries and so  \n",
              " on and so forth. It should be noted that, while there is a concern with the fate of Jubertus'  \n",
              " body after death, there is no direct interaction wi th the dead present in this form of  \n",
              " necromancy.  \n",
              "  \n",
              " Quoting Kieckhefer again: \"Judicial and anecdotal evidence sugge sts that demonic magic,  \n",
              " called <span style=\"color: #008000; text-decoration-color: #008000\">'nigromancy'</span> or <span style=\"color: #008000; text-decoration-color: #008000\">'necromancy'</span>, was largely the dom ain of priests\", perhaps because  \n",
              " \"Christian ritual had from early centuries been the enactment not of oral tradition but  of texts  \n",
              " embodied in books\" <span style=\"font-weight: bold\">(</span><span style=\"color: #008080; text-decoration-color: #008080; font-weight: bold\">4</span><span style=\"font-weight: bold\">)</span>. Necromancy, or at least the demonic form assigned to Jubertus, is a  \n",
              " system of belief existing among Christian priests. Characterised by t he adoration of  devils  \n",
              " and the refusal of the sacraments, it is more truly a form of heresy, constructed in the terms of  \n",
              " Christian orthodoxy and yet inherently oppose d to it. What, then, of the traditional form? Can  \n",
              " divination using the dead be viewed in a similar way, and doe s this illuminate the conflation  \n",
              " of divination with diabolism?  \n",
              "  \n",
              " Before that question can be answered, it is necessary to out line the orthodox i dea of Christian  \n",
              " death. Medieval Christianity predicated its concept of death on t he idea that separation  \n",
              " between the living and dead, while ritually enforced, wa s not total and that the interest of the  \n",
              " dead in the affairs of the living and ​ vice versa ​  was desirable.    In <span style=\"color: #008080; text-decoration-color: #008080; font-weight: bold\">1025</span>, Bishop Gerard of Cambrai addressed\n",
              "those heretics who de nied the effectiveness of  \n",
              " praying on behalf of the dead:  \n",
              "  \n",
              " It is true, lest anyone believe that penitence is of use only to the living and not  to the  \n",
              " dead, that many of the dead have been rescued from punishment by the piety of their  \n",
              " living <span style=\"color: #808000; text-decoration-color: #808000\">...</span> <span style=\"font-weight: bold\">(</span>in Le Goff, <span style=\"color: #008080; text-decoration-color: #008080; font-weight: bold\">106</span><span style=\"font-weight: bold\">)</span> .  \n",
              "  \n",
              " This relief from punishment was an important element of acceptable Christian interaction  \n",
              " with the dead. Since elevation or damnation of  the deceased could not  occur until the Last  \n",
              " Judgment <span style=\"font-weight: bold\">(</span>save in the cases of martyred saints and m ortal sinners<span style=\"font-weight: bold\">)</span>, the continued failure of  \n",
              " the apocalypse to occur caused what Jacques le Goff calls an <span style=\"color: #008000; text-decoration-color: #008000\">\"eschatological interlude\"</span> <span style=\"font-weight: bold\">(</span><span style=\"color: #008080; text-decoration-color: #008080; font-weight: bold\">3</span><span style=\"font-weight: bold\">)</span>.  \n",
              " Christian thinkers set themselves to the fate of the soul during this time, and \"conceived that  \n",
              " certain sinners might be saved, most probably by be ing subjected to a trial of some sort<span style=\"font-weight: bold\">[</span>;<span style=\"font-weight: bold\">]</span> a  \n",
              " new belief was born, a belief that gradually matured unt il in the twelfth century it became the  \n",
              " belief in Purgatory\" <span style=\"font-weight: bold\">(</span>Le Goff, <span style=\"color: #008080; text-decoration-color: #008080; font-weight: bold\">3</span><span style=\"font-weight: bold\">)</span>.  \n",
              "  \n",
              " From this, it can be seen that the dead have a vested interest in the affairs of the living, a n  \n",
              " interest which is also apparent in the doctrine of intercession, in whi ch a living pe rson m ight  \n",
              " pray to ​  ​ a particular saint to cure a particular worldly ill. As Paul Binski says, \"The doctrine of  \n",
              " the intercession of the saints was based upon the capacity of the saints to break the ancient  \n",
              " boundaries between the living and the dead. But the notion of  intercession could be widened  \n",
              " into a form of two-way traffic, whereby not  only the saints but also the living could act, by  \n",
              " prayers or other actions, on behalf of the dead\" <span style=\"font-weight: bold\">(</span><span style=\"color: #008080; text-decoration-color: #008080; font-weight: bold\">24</span><span style=\"font-weight: bold\">)</span>. Necromancy, meanwhi le, has as its  \n",
              " prerequisite \"belief in both a form of life after death and the continued interest of the dead in  \n",
              " the affairs of the living\" <span style=\"font-weight: bold\">(</span>Jones <span style=\"color: #008080; text-decoration-color: #008080; font-weight: bold\">6541</span><span style=\"font-weight: bold\">)</span>. Christianity posse ssed the former, but Purgatory  \n",
              " provided the latter, and gave Christians a reason to interact with the deceased in wha t  \n",
              " amounted to a transaction between the dead and the living, c oncerning the future; essentially,  \n",
              " an act of necromancy.  \n",
              "  \n",
              "    Tellingly, Le Goff also identifies a period \"between Gregory the Great and the twelfth  \n",
              " century\" <span style=\"font-weight: bold\">(</span><span style=\"color: #008080; text-decoration-color: #008080; font-weight: bold\">96</span><span style=\"font-weight: bold\">)</span> in which <span style=\"color: #008000; text-decoration-color: #008000\">\"little progress was made in the construction of  Purgatory\"</span>, in whi ch a  \n",
              " <span style=\"color: #008000; text-decoration-color: #008000\">\"typology of sins\"</span> is constructed instead. Perhaps this theological stagnation, this reluctance  \n",
              " to affirm what occurs between the first and Last Judgm ents, caused an upsur ge in  \n",
              " speculations on the topic, which themselves gave rise to necromantic - in the traditional sense  \n",
              " - practices.  \n",
              "  \n",
              " The necromancy constructed by this theological silence was based in Christian theology, a nd  \n",
              " upon the behaviour of the dead as reported in Christian ​ exempla ​ or, for that matter, secular  \n",
              " stories in which the dead, concerned for their souls, are more than prepared to enact influence  \n",
              " upon the living. An individual possessed of will and spiritual fortitude could perhaps  \n",
              " negotiate with them and bargain with them in much the same way as the clerical diabolist did  \n",
              " with devils. I contend that medieval Christian necromancy wa s so similar to clerical  \n",
              " devil-wrangling in its heretical perception of doctrine, its technical practices, in its  \n",
              " practitioners, and in its essentially transactive nature, that a conflation be tween the two wa s  \n",
              " largely inevitable. Indeed, the conflation originates within necromantic rituals themselves, as  \n",
              " practitioners used the devils as a bargaining chip in their interactions with the dead. Al as,  \n",
              " there isn't time to discuss the wide breadth of rituals and ​ exempla ​  that I'd like to, but I hope  \n",
              " the examples I'm about to give will illustrate the point adequately.  \n",
              "  \n",
              " Shinners' collection includes two texts concerned entirely with the manifestation of  the dead:  \n",
              " <span style=\"color: #008000; text-decoration-color: #008000\">'The Young Priest Walchelin'</span>s Purgatorial Vision' <span style=\"font-weight: bold\">(</span><span style=\"color: #008080; text-decoration-color: #008080; font-weight: bold\">246</span><span style=\"font-weight: bold\">)</span> and the popul ar fifteenth-century  \n",
              " ghost stories which follow it <span style=\"font-weight: bold\">(</span><span style=\"color: #008080; text-decoration-color: #008080; font-weight: bold\">252</span><span style=\"font-weight: bold\">)</span>. The Purgatorial Vision is an exemplary tale, an  \n",
              " exploration of individuals' transgressions and the resultant puni shments in the after-death.  \n",
              " Dating from about <span style=\"color: #008080; text-decoration-color: #008080; font-weight: bold\">1131</span>, it reports the manifestation of  a veritable cavalcade of the damned  \n",
              " before the eyes of the titular cleric. Among the damned souls, who \" lamented bitterly and  \n",
              " urged each other to hurry\" toward their destination, W alchelin recognises \"many of  his  \n",
              " neighbours who had recently died\", among them a known m urderer attended by a  \"fearful  \n",
              " demon\" who is \"mercilessly goading his back and loins with red-hot spurs while he streamed  \n",
              " with blood\" <span style=\"font-weight: bold\">(</span><span style=\"color: #008080; text-decoration-color: #008080; font-weight: bold\">247</span><span style=\"font-weight: bold\">)</span>. Note the separation between the deceased individual and the demon - there  \n",
              " is no hint that the manifested dead are themselves demons, <span style=\"color: #008000; text-decoration-color: #008000\">\"pythonic spirits\"</span> or anything but  \n",
              " actually deceased persons of Walchelin's acquaintance.       This is a story intended to show the dead to the \n",
              "living, who \" should constantly have these  \n",
              " things in mind and should tremble and take heed not  to incur such dire penalties for their  \n",
              " sins\" <span style=\"font-weight: bold\">(</span><span style=\"color: #008080; text-decoration-color: #008080; font-weight: bold\">251</span><span style=\"font-weight: bold\">)</span>. It is also worth considering that this encounter does not feature the necromantic  \n",
              " transaction - Walchelin has not conjured up t he dead but  stumbled across them, and he  does  \n",
              " not request service of them in return for their salvation. The  spectre of William of Glos tells  \n",
              " Walchelin his story - concerning his usury and interference with rites of inheritance while  \n",
              " alive - and begs the priest to tell \"my wife Beatrice and son R oger that they must help me by  \n",
              " quickly restoring to the heir the pledge\" William denied to its rightful owne r <span style=\"font-weight: bold\">(</span><span style=\"color: #008080; text-decoration-color: #008080; font-weight: bold\">250</span><span style=\"font-weight: bold\">)</span>. Walchelin  \n",
              " is initially reluctant, saying <span style=\"color: #008000; text-decoration-color: #008000\">\"Roger of Glos... wi ll deride me as a madman\"</span>, but yields after  \n",
              " <span style=\"color: #008000; text-decoration-color: #008000\">\"repeated prayers\"</span> <span style=\"font-weight: bold\">(</span><span style=\"color: #008080; text-decoration-color: #008080; font-weight: bold\">250</span><span style=\"font-weight: bold\">)</span>. The dead who manifest themselves to Walchelin offer no temporal  \n",
              " reward or knowledge of the future in return for their salvation.  \n",
              "  \n",
              " The ghost stories of some three centuries later are rather more transactory. In the very first  \n",
              " <span style=\"font-weight: bold\">(</span><span style=\"color: #008080; text-decoration-color: #008080; font-weight: bold\">253</span><span style=\"font-weight: bold\">)</span>, a man is frightened by a spirit which looks  like \"a horse standing on i ts hind legs with  \n",
              " its forelegs outstretched\", which he orders <span style=\"color: #008000; text-decoration-color: #008000\">\"in the name of Jesus Christ not to harm him\"</span>,  \n",
              " before he <span style=\"color: #008000; text-decoration-color: #008000\">\"conjured it \"</span>. Only when conjured doe s the spirit identify itself as a  \n",
              " deceased person and explain its damnation - and it offers to serve the living m an, carrying hi s  \n",
              " burden to a nearby river. The man <span style=\"color: #008000; text-decoration-color: #008000\">\"had the ghost  absolved, and ha d masses sung f or him\"</span>.  \n",
              " The initial manifestation, an animal doing something unna tural, has a somewhat demonic  \n",
              " aspect, and it offers a service automatically, in return for the salvation onl y a living pe rson's  \n",
              " piety can grant it. No knowledge of the future is offered, but  the transaction, be ginning wi th  \n",
              " the dead serving the living, is there.  \n",
              "  \n",
              " In the next story, a tailor being vexed by the spirit of an excommunicated man is told to  \n",
              " arrange masses for the spirit if he wishes to be left alone. In order to inform the ghost  that this  \n",
              " has been done, the tailor and his neighbour must wait several days before taking \"inscribed  \n",
              " amulets<span style=\"color: #808000; text-decoration-color: #808000\">...</span> to ward off the terrors of the night\" <span style=\"font-weight: bold\">(</span><span style=\"color: #008080; text-decoration-color: #008080; font-weight: bold\">255</span><span style=\"font-weight: bold\">)</span> to a hill near an abbey. Upon a rrival at  \n",
              " the hill, they \"drew a large circle on the ground, a nd inscribed a cross inside it. He carried on  \n",
              " him the four Gospels and other sacred writings, and as he stood i n the middle of the circle, he  \n",
              " put four small medallions at the borders of the circle to form the shape of a cross. On e ach  \n",
              " medallion were written saving words, like <span style=\"font-weight: bold\">[</span><span style=\"color: #008000; text-decoration-color: #008000\">']Jesus of Nazareth['</span><span style=\"font-weight: bold\">]</span> and so forth. The n he  \n",
              " awaited the arrival of the ghost\", which informs him that <span style=\"color: #008000; text-decoration-color: #008000\">\"on this coming M onda y  will  enter into everlasting </span>\n",
              "<span style=\"color: #008000; text-decoration-color: #008000\">joy along with thirty other souls\"</span>. The  tailor asks the ghost  about his  \n",
              " own sins, and how he can avoid such a fate in the afterworld, and wha t can be done  to  \n",
              " mediate his sins - the ghost tells him, and furthermore informs him that \"if you wi ll move to  \n",
              " such and such a place, you will be rich; and if you r emain in the other place, you wi ll be poor .  \n",
              " You have some enemies where you are now\" <span style=\"font-weight: bold\">(</span><span style=\"color: #008080; text-decoration-color: #008080; font-weight: bold\">256</span><span style=\"font-weight: bold\">)</span>. Thi s encounter is more complex; while  \n",
              " the tailor does not summon the spirit in the first place, and whi le it can be argued that he is  \n",
              " blackmailed into absolving the spirit <span style=\"font-weight: bold\">(</span>itself a difference from the earlier spirits who be g and  \n",
              " pray for salvation<span style=\"font-weight: bold\">)</span>, he uses ritual means to summon it, he asks it questions about the future,  \n",
              " and he is granted information that will benefit him in his mortal life and after it.  \n",
              "  \n",
              " A. E. Waite includes three overtly necromantic rituals in the appendix of his ​ Book of Black  \n",
              " Magic and of Pacts ​ . His first example, an exorcism and interrogation from the ​ Grand  \n",
              " Grimoire ​ of Sibley, actually involves an invocation of  demons to act as a motivating force  \n",
              " upon the deceased:  \n",
              "  \n",
              " \"I conjure and exercise thee<span style=\"color: #808000; text-decoration-color: #808000\">...</span> to answer my liege demands, being obe dient unto these  \n",
              " sacred ceremonies, on pain of everlasting torment and di stress. <span style=\"color: #808000; text-decoration-color: #808000\">...</span> B erald, Beroald,  \n",
              " Balbin, Gab, Gebor, Agaba<span style=\"color: #808000; text-decoration-color: #808000\">...</span> After these forms and ceremonies, the ghost  or  \n",
              " apparition will become visible, and will answer any que stion put  to it by the exorcist\"  \n",
              " <span style=\"font-weight: bold\">(</span><span style=\"color: #008080; text-decoration-color: #008080; font-weight: bold\">290</span><span style=\"font-weight: bold\">)</span>.    \n",
              "  \n",
              " The ritual requires access to the naked body i n the place where it was buried, and ope rates by  \n",
              " the <span style=\"color: #008000; text-decoration-color: #008000\">\"virtue of the Holy Resurrection\"</span> <span style=\"font-weight: bold\">(</span><span style=\"color: #008080; text-decoration-color: #008080; font-weight: bold\">291</span><span style=\"font-weight: bold\">)</span>. His second i s similarly interrogative, a kind of  \n",
              " <span style=\"color: #008000; text-decoration-color: #008000\">'forensic necromancy'</span> which requires the necromancer to stand whe re a body wa s found,  \n",
              " before it has been removed, and bind the deceased individual's soul \"by the Holy Rites of  \n",
              " Hecate &amp; Blood of Jesus which he shed for thy soul\" <span style=\"font-weight: bold\">(</span><span style=\"color: #008080; text-decoration-color: #008080; font-weight: bold\">291</span><span style=\"font-weight: bold\">)</span>. Aga in, the machinery is not  \n",
              " wholly Christian, but it refers to resurrection, torments and the exclamation, a nd its  \n",
              " concluding <span style=\"color: #008000; text-decoration-color: #008000\">\"So help thee God and the prayers of the Holy Church\"</span>, indicate where the  \n",
              " symbolic weight lies - with the Christian doctrine of Purgatory and forgiveness.    \n",
              "  \n",
              "    Each of these rituals relies on a proximity to the body si milar to that of intercession - saints'  \n",
              " relics being inserted into churches meant \"that saint was fully and freely manifest as minister  \n",
              " and witness, and ambassador, at that place. The  saints could act and feel like the living, a nd  \n",
              " were treated as if they were alive and incorrupt, whi ch technically they we re meant to be\"  \n",
              " <span style=\"font-weight: bold\">(</span>Binski <span style=\"color: #008080; text-decoration-color: #008080; font-weight: bold\">15</span><span style=\"font-weight: bold\">)</span>. Each incorporates repeated reference to prayers, to the sacrifice of Jesus which  \n",
              " allows the dead into Paradise and motivates their interest in the living. F inally, there is the  \n",
              " equally compelling threat of Purgatory in Christian death, and of  \"everlasting torment and  \n",
              " distress\" if the dead do not buy their salvation by pe rforming some service for the living. The  \n",
              " service is information, the reward release into the proper Christian machinery of death, the  \n",
              " means of coercion diabolical: conflation is thus inherent.  \n",
              "    Bibliography  \n",
              "  \n",
              " <span style=\"color: #008000; text-decoration-color: #008000\">'Necromancy'</span>, ​ Oxford English Dictionary ​ , accessed at <span style=\"font-weight: bold\">&lt;</span><span style=\"color: #0000ff; text-decoration-color: #0000ff; text-decoration: underline\">http://dictionary.oed.com</span><span style=\"font-weight: bold\">&gt;</span> on 27t h  \n",
              " November <span style=\"color: #008080; text-decoration-color: #008080; font-weight: bold\">2008</span>.  \n",
              "  \n",
              " Barrett, ​ W.F. Necromancy and Ancient Magic in its Relation to Spiritualism ​ . <span style=\"font-weight: bold\">(</span>London: The  \n",
              " Friars Printing Association Ltd., year of publication unknown<span style=\"font-weight: bold\">)</span>.  \n",
              "  \n",
              " Binski, Paul. ​  Medieval Death ​ . <span style=\"font-weight: bold\">(</span>London: British Museum Press, <span style=\"color: #008080; text-decoration-color: #008080; font-weight: bold\">1996</span><span style=\"font-weight: bold\">)</span>.  \n",
              "  \n",
              " Jones, Lindsay, et al. ​ Encyclopaedia of Religion ​ , volume <span style=\"color: #008080; text-decoration-color: #008080; font-weight: bold\">10</span>, second edition. <span style=\"font-weight: bold\">(</span>Farmington MI :  \n",
              " Macmillan, <span style=\"color: #008080; text-decoration-color: #008080; font-weight: bold\">2005</span><span style=\"font-weight: bold\">)</span>.  \n",
              "  \n",
              " Kieckhefer, Richard. ​  Forbidden Rites: A Necromancer's Manual of the Fifteenth Century  \n",
              " <span style=\"font-weight: bold\">(</span>Pennsylvania: Pennsylvania State University Press, <span style=\"color: #008080; text-decoration-color: #008080; font-weight: bold\">1998</span><span style=\"font-weight: bold\">)</span> .  \n",
              "  \n",
              " Le Goff, Jacques. ​ The Birth of Purgatory ​ , trans. Arthur Goldhammer. <span style=\"font-weight: bold\">(</span>Aldershot: Scolar  \n",
              " Press, <span style=\"color: #008080; text-decoration-color: #008080; font-weight: bold\">1984</span> <span style=\"font-weight: bold\">[</span><span style=\"color: #008080; text-decoration-color: #008080; font-weight: bold\">1981</span><span style=\"font-weight: bold\">])</span>.  \n",
              "  \n",
              " Lee, Frederick George <span style=\"font-weight: bold\">(</span>editor<span style=\"font-weight: bold\">)</span>. ​ Glimpses of the Supernatural ​  vol. <span style=\"color: #008080; text-decoration-color: #008080; font-weight: bold\">1</span> <span style=\"font-weight: bold\">(</span>London : Henry S. King  \n",
              " &amp; co., <span style=\"color: #008080; text-decoration-color: #008080; font-weight: bold\">1875</span><span style=\"font-weight: bold\">)</span>.  \n",
              "  \n",
              " Rosack, C. W. ​ The Mysteries of Astrology and the Wonde rs of Magic including a Hi story of  \n",
              " the Rise and Progress of Astrology and the various branches of Necromanc y - and so on ​ .  \n",
              " <span style=\"font-weight: bold\">(</span>London: Sampson, Low, Son &amp; Company, <span style=\"color: #008080; text-decoration-color: #008080; font-weight: bold\">1854</span><span style=\"font-weight: bold\">)</span> .  \n",
              "  \n",
              " Shinners, John. ​ Medieval Popular Religion <span style=\"color: #008080; text-decoration-color: #008080; font-weight: bold\">1000</span>-<span style=\"color: #008080; text-decoration-color: #008080; font-weight: bold\">1500</span>: A Reader ​ . Second edition. <span style=\"font-weight: bold\">(</span>Toronto:  \n",
              " Broadview Press, <span style=\"color: #008080; text-decoration-color: #008080; font-weight: bold\">2007</span><span style=\"font-weight: bold\">)</span>.  \n",
              "  \n",
              " Waite, A.E.. ​ The Book of Black Magic and of Pacts ​ . <span style=\"font-weight: bold\">(</span>London: George Redway, <span style=\"color: #008080; text-decoration-color: #008080; font-weight: bold\">1898</span> <span style=\"font-weight: bold\">)</span>.  \n",
              "</pre>\n"
            ]
          },
          "metadata": {}
        }
      ],
      "source": [
        "print(data)"
      ]
    },
    {
      "cell_type": "markdown",
      "metadata": {
        "id": "SW44quPLaTno"
      },
      "source": [
        "Perform Chunking"
      ]
    },
    {
      "cell_type": "code",
      "execution_count": 6,
      "metadata": {
        "id": "B86HzSIxaTnp",
        "outputId": "9ea8cbf2-59cf-4b37-ed05-ac2cb38c89c1",
        "colab": {
          "base_uri": "https://localhost:8080/"
        }
      },
      "outputs": [
        {
          "output_type": "execute_result",
          "data": {
            "text/plain": [
              "['Necromancy, the art or practice of magically conjuring up t he souls of the dead, is primarily a form of divination. More generally, ne cromancy is often considered synonymous with black magic, sorcery or witchcraft, perhaps because the calling up of the dead may occur for purposes other than information seeking, or because the separation of divination from its consequences is not always clear. The re is also a linguistic basis for the expanded use of the word: the term \\u200b black art \\u200b for magic appears to be based on a corruption of \\u200b necromancy \\u200b (from Greek \\u200b',\n",
              " '\\u200b black art \\u200b for magic appears to be based on a corruption of \\u200b necromancy \\u200b (from Greek \\u200b necros \\u200b , \\'dead\\') to \\u200b nigramancy (from Latin \\u200b niger \\u200b , \\'black\\'). (Jones, 6451). What fascinates me about this term \"necromancy\" is the process by whi ch it becomes a synonym for other magical practices and is then carefully differentiated from them again. The occult scholarship of the seventeenth century and onwa rds mentions witchcraft and necromancy in almost the same breath, anxious to differentiate the one from the other. Why? If necromancy is synonymous with witchcraft, surely',\n",
              " \"almost the same breath, anxious to differentiate the one from the other. Why? If necromancy is synonymous with witchcraft, surely use of the two terms is redunda nt? The answer, I discovered, is that they were never synonym ous in the first place. The re is a conflation of terms at work here, but it is between necromancy - divination through di scourse with the deceased - and a form of black magic, concerned with discourse and ba rgains made with demons, devils and other diabolical entities. In about 1010, Burchard of Worms' \\u200b Corrector and Doctor \\u200b differentiated between\",\n",
              " 'with demons, devils and other diabolical entities. In about 1010, Burchard of Worms\\' \\u200b Corrector and Doctor \\u200b differentiated between \"magicians\", \"diviners\" - presumably including ne cromancers - witches and the \"you\" being addressed by the text, an ordinary person not identified as any of these particular practitioners but still perhaps enacting magic. However, Burchard doe s not separate these practitioners by their practices; for example, his list of divinations includes the influencing of minds and the weather. John Shinners points out that \"Burchard culled most of the sins and their penances in his collection from older penitentials, some dating',\n",
              " 'points out that \"Burchard culled most of the sins and their penances in his collection from older penitentials, some dating ba ck to the seventh century\" (459): this distinction between practitioners and lack of similar distinction be tween practices appears therefore to be long-established. This lack of distinction is even more apparent in the work of Johannes Hartlieb, who ( in the early fifteenth century) defines necromancy thus: Nygramancia \\u200b is the first forbidden art, and is called the black art. Thi s art is the worst of all, because it proceeds with sacrifices and services that must be rendered',\n",
              " \"art. Thi s art is the worst of all, because it proceeds with sacrifices and services that must be rendered to the devils. One who wishes to exerciese this art must give all sorts of sacrifices to the devils, and must take an oath and pact with the devils (in Kieckhefer, 33). There is no reference to the dead whatsoever here, sugge sting that necromancy and di abolical sorcery have become fully conflated by the early fifteenth century. Ot her texts allow the process to be tracked more clearly. Isidore of Seville's \\u200b Etymologies, \\u200b from the early seventh century,\",\n",
              " 'texts allow the process to be tracked more clearly. Isidore of Seville\\'s \\u200b Etymologies, \\u200b from the early seventh century, \\u200b \\u200b mentions among the forms of divination \"the \\u200b necromantici \\u200b who resuscitate and interrogate the dead\" (Kickehefer, 33). This definition is preserved by Hugh of S t. Victor in the \\u200b Didascalicon \\u200b of the early twelfth century, but with the addition of the diabolical element and the positioning of necromancy as first among di vinations which are apparent in Ha rtlieb: primam, necromantiam, quod interpretatur divinatio in mortuis, necros enim Graece, mortuus Latine, unde necromantia, divinatio, qua',\n",
              " 'apparent in Ha rtlieb: primam, necromantiam, quod interpretatur divinatio in mortuis, necros enim Graece, mortuus Latine, unde necromantia, divinatio, qua e fit per sacrificium sanguinis humani, quem daemones sitiunt, et in eo delectantur effuso (810D) . I shan\\'t embarrass myself and my schoolboy La tin further by a ttempting a complete translation, but the phrasing \"first, necromancy\" and its definition as divination through t he dead are apparent even to me, as is the reference to a sacrifice of hum an blood whi ch demons delight in. It is apparent that the definition of necromantic practice has changed since the',\n",
              " 'an blood whi ch demons delight in. It is apparent that the definition of necromantic practice has changed since the turn of the millennium, and that Hugh is aware of the change. Von S chlettstadt\\'s \\u200b Historiae Memorabiles \\u200b of the 1280s report the conjuring of demons by a necromancer named Walravius, while Elich\\'s \\u200b Daemonomagia \\u200b of 1607 describes witchcraft as a disease both arising from and only curable by \"strange and ridiculous ceremonies by wi tches and necromancers\". All of this demonstrates that the conflation ha s yet to occur in the seventh century, and can by no',\n",
              " 'All of this demonstrates that the conflation ha s yet to occur in the seventh century, and can by no means be called complete in the tenth century, whe n Burchard uses the generic \"diviners\", nor in the eleventh, when Hugh notes the process and cites the historical definition. B y the thirteenth century and Von Schlettstadt the conflated definition is used without such clarification, and by the fifteenth the linguistic shift from \\u200b necro \\u200b to \\u200b nigra \\u200b is complete. In the early seventeenth century, meanwhile, that careful distinction be tween witchcraft and necromancy has been made, suggesting',\n",
              " 'is complete. In the early seventeenth century, meanwhile, that careful distinction be tween witchcraft and necromancy has been made, suggesting an effort to separate two particular forms of forbidden practice. The form called \"necromancy\", wha t exactly constitutes it, and how i t is conflated with witchcraft, are all explored by R ichard Kieckhefer in his commentary on t he trial of Jubertus of Bavaria in 1437. Kieckhefer determines that \"[a]side from accusations more or less typical of the incipient profession for conspiratorial witchcraft (flight to noc turnal assemblies, killing of infants, etc.), Jubertus was charged with activities more often',\n",
              " 'profession for conspiratorial witchcraft (flight to noc turnal assemblies, killing of infants, etc.), Jubertus was charged with activities more often found i n conne ction wi th clerical necromancy\" (30). These activities included a kind of occult apprenticeship to senior conjurer and grimoire-owner Johannes Cunalis and to the succubus Luxuriousus, who Jubertus is said to have \"adored as a god\"; the commitment of his bodi ly members, after death, into the custody of his familiar demons; being forbidden by de vils to take confession or interact with blessed materials; and the provision of protection from prison, theft, social adversaries and',\n",
              " 'vils to take confession or interact with blessed materials; and the provision of protection from prison, theft, social adversaries and so on and so forth. It should be noted that, while there is a concern with the fate of Jubertus\\' body after death, there is no direct interaction wi th the dead present in this form of necromancy. Quoting Kieckhefer again: \"Judicial and anecdotal evidence sugge sts that demonic magic, called \\'nigromancy\\' or \\'necromancy\\', was largely the dom ain of priests\", perhaps because \"Christian ritual had from early centuries been the enactment not of oral tradition but of texts embodied',\n",
              " 'priests\", perhaps because \"Christian ritual had from early centuries been the enactment not of oral tradition but of texts embodied in books\" (4). Necromancy, or at least the demonic form assigned to Jubertus, is a system of belief existing among Christian priests. Characterised by t he adoration of devils and the refusal of the sacraments, it is more truly a form of heresy, constructed in the terms of Christian orthodoxy and yet inherently oppose d to it. What, then, of the traditional form? Can divination using the dead be viewed in a similar way, and doe s this illuminate the',\n",
              " 'the traditional form? Can divination using the dead be viewed in a similar way, and doe s this illuminate the conflation of divination with diabolism? Before that question can be answered, it is necessary to out line the orthodox i dea of Christian death. Medieval Christianity predicated its concept of death on t he idea that separation between the living and dead, while ritually enforced, wa s not total and that the interest of the dead in the affairs of the living and \\u200b vice versa \\u200b was desirable. In 1025, Bishop Gerard of Cambrai addressed those heretics who de',\n",
              " 'the living and \\u200b vice versa \\u200b was desirable. In 1025, Bishop Gerard of Cambrai addressed those heretics who de nied the effectiveness of praying on behalf of the dead: It is true, lest anyone believe that penitence is of use only to the living and not to the dead, that many of the dead have been rescued from punishment by the piety of their living [friends and relatives]... (in Le Goff, 106) . This relief from punishment was an important element of acceptable Christian interaction with the dead. Since elevation or damnation of the deceased could not occur until',\n",
              " 'important element of acceptable Christian interaction with the dead. Since elevation or damnation of the deceased could not occur until the Last Judgment (save in the cases of martyred saints and m ortal sinners), the continued failure of the apocalypse to occur caused what Jacques le Goff calls an \"eschatological interlude\" (3). Christian thinkers set themselves to the fate of the soul during this time, and \"conceived that certain sinners might be saved, most probably by be ing subjected to a trial of some sort[;] a new belief was born, a belief that gradually matured unt il in the twelfth',\n",
              " 'a trial of some sort[;] a new belief was born, a belief that gradually matured unt il in the twelfth century it became the belief in Purgatory\" (Le Goff, 3). From this, it can be seen that the dead have a vested interest in the affairs of the living, a n interest which is also apparent in the doctrine of intercession, in whi ch a living pe rson m ight pray to \\u200b \\u200b a particular saint to cure a particular worldly ill. As Paul Binski says, \"The doctrine of the intercession of the saints was based upon the capacity',\n",
              " 'particular worldly ill. As Paul Binski says, \"The doctrine of the intercession of the saints was based upon the capacity of the saints to break the ancient boundaries between the living and the dead. But the notion of intercession could be widened into a form of two-way traffic, whereby not only the saints but also the living could act, by prayers or other actions, on behalf of the dead\" (24). Necromancy, meanwhi le, has as its prerequisite \"belief in both a form of life after death and the continued interest of the dead in the affairs of the living\" (Jones',\n",
              " 'a form of life after death and the continued interest of the dead in the affairs of the living\" (Jones 6541). Christianity posse ssed the former, but Purgatory provided the latter, and gave Christians a reason to interact with the deceased in wha t amounted to a transaction between the dead and the living, c oncerning the future; essentially, an act of necromancy. Tellingly, Le Goff also identifies a period \"between Gregory the Great and the twelfth century\" (96) in which \"little progress was made in the construction of Purgatory\", in whi ch a \"typology of sins\" is constructed instead.',\n",
              " 'which \"little progress was made in the construction of Purgatory\", in whi ch a \"typology of sins\" is constructed instead. Perhaps this theological stagnation, this reluctance to affirm what occurs between the first and Last Judgm ents, caused an upsur ge in speculations on the topic, which themselves gave rise to necromantic - in the traditional sense - practices. The necromancy constructed by this theological silence was based in Christian theology, a nd upon the behaviour of the dead as reported in Christian \\u200b exempla \\u200b or, for that matter, secular stories in which the dead, concerned for their souls,',\n",
              " 'reported in Christian \\u200b exempla \\u200b or, for that matter, secular stories in which the dead, concerned for their souls, are more than prepared to enact influence upon the living. An individual possessed of will and spiritual fortitude could perhaps negotiate with them and bargain with them in much the same way as the clerical diabolist did with devils. I contend that medieval Christian necromancy wa s so similar to clerical devil-wrangling in its heretical perception of doctrine, its technical practices, in its practitioners, and in its essentially transactive nature, that a conflation be tween the two wa s largely',\n",
              " \"practices, in its practitioners, and in its essentially transactive nature, that a conflation be tween the two wa s largely inevitable. Indeed, the conflation originates within necromantic rituals themselves, as practitioners used the devils as a bargaining chip in their interactions with the dead. Al as, there isn't time to discuss the wide breadth of rituals and \\u200b exempla \\u200b that I'd like to, but I hope the examples I'm about to give will illustrate the point adequately. Shinners' collection includes two texts concerned entirely with the manifestation of the dead: 'The Young Priest Walchelin's Purgatorial Vision' (246) and the\",\n",
              " 'includes two texts concerned entirely with the manifestation of the dead: \\'The Young Priest Walchelin\\'s Purgatorial Vision\\' (246) and the popul ar fifteenth-century ghost stories which follow it (252). The Purgatorial Vision is an exemplary tale, an exploration of individuals\\' transgressions and the resultant puni shments in the after-death. Dating from about 1131, it reports the manifestation of a veritable cavalcade of the damned before the eyes of the titular cleric. Among the damned souls, who \" lamented bitterly and urged each other to hurry\" toward their destination, W alchelin recognises \"many of his neighbours who had recently died\", among',\n",
              " 'urged each other to hurry\" toward their destination, W alchelin recognises \"many of his neighbours who had recently died\", among them a known m urderer attended by a \"fearful demon\" who is \"mercilessly goading his back and loins with red-hot spurs while he streamed with blood\" (247). Note the separation between the deceased individual and the demon - there is no hint that the manifested dead are themselves demons, \"pythonic spirits\" or anything but actually deceased persons of Walchelin\\'s acquaintance. This is a story intended to show the dead to the living, who \" should constantly have these things in',\n",
              " 'This is a story intended to show the dead to the living, who \" should constantly have these things in mind and should tremble and take heed not to incur such dire penalties for their sins\" (251). It is also worth considering that this encounter does not feature the necromantic transaction - Walchelin has not conjured up t he dead but stumbled across them, and he does not request service of them in return for their salvation. The spectre of William of Glos tells Walchelin his story - concerning his usury and interference with rites of inheritance while alive -',\n",
              " 'William of Glos tells Walchelin his story - concerning his usury and interference with rites of inheritance while alive - and begs the priest to tell \"my wife Beatrice and son R oger that they must help me by quickly restoring to the heir the pledge\" William denied to its rightful owne r (250). Walchelin is initially reluctant, saying \"Roger of Glos... wi ll deride me as a madman\", but yields after \"repeated prayers\" (250). The dead who manifest themselves to Walchelin offer no temporal reward or knowledge of the future in return for their salvation. The ghost stories of',\n",
              " 'to Walchelin offer no temporal reward or knowledge of the future in return for their salvation. The ghost stories of some three centuries later are rather more transactory. In the very first (253), a man is frightened by a spirit which looks like \"a horse standing on i ts hind legs with its forelegs outstretched\", which he orders \"in the name of Jesus Christ not to harm him\", before he \"conjured it [to speak]\". Only when conjured doe s the spirit identify itself as a deceased person and explain its damnation - and it offers to serve the living m',\n",
              " 'spirit identify itself as a deceased person and explain its damnation - and it offers to serve the living m an, carrying hi s burden to a nearby river. The man \"had the ghost absolved, and ha d masses sung f or him\". The initial manifestation, an animal doing something unna tural, has a somewhat demonic aspect, and it offers a service automatically, in return for the salvation onl y a living pe rson\\'s piety can grant it. No knowledge of the future is offered, but the transaction, be ginning wi th the dead serving the living, is there. In',\n",
              " 'of the future is offered, but the transaction, be ginning wi th the dead serving the living, is there. In the next story, a tailor being vexed by the spirit of an excommunicated man is told to arrange masses for the spirit if he wishes to be left alone. In order to inform the ghost that this has been done, the tailor and his neighbour must wait several days before taking \"inscribed amulets... to ward off the terrors of the night\" (255) to a hill near an abbey. Upon a rrival at the hill, they \"drew a large circle on',\n",
              " 'night\" (255) to a hill near an abbey. Upon a rrival at the hill, they \"drew a large circle on the ground, a nd inscribed a cross inside it. He carried on him the four Gospels and other sacred writings, and as he stood i n the middle of the circle, he put four small medallions at the borders of the circle to form the shape of a cross. On e ach medallion were written saving words, like [\\']Jesus of Nazareth[\\'] and so forth. The n he awaited the arrival of the ghost\", which informs him that \"on this coming',\n",
              " 'Nazareth[\\'] and so forth. The n he awaited the arrival of the ghost\", which informs him that \"on this coming M onda y [it] will enter into everlasting joy along with thirty other souls\". The tailor asks the ghost about his own sins, and how he can avoid such a fate in the afterworld, and wha t can be done to mediate his sins - the ghost tells him, and furthermore informs him that \"if you wi ll move to such and such a place, you will be rich; and if you r emain in the other place, you wi',\n",
              " 'such and such a place, you will be rich; and if you r emain in the other place, you wi ll be poor . You have some enemies where you are now\" (256). Thi s encounter is more complex; while the tailor does not summon the spirit in the first place, and whi le it can be argued that he is blackmailed into absolving the spirit (itself a difference from the earlier spirits who be g and pray for salvation), he uses ritual means to summon it, he asks it questions about the future, and he is granted information that',\n",
              " 'he uses ritual means to summon it, he asks it questions about the future, and he is granted information that will benefit him in his mortal life and after it. A. E. Waite includes three overtly necromantic rituals in the appendix of his \\u200b Book of Black Magic and of Pacts \\u200b . His first example, an exorcism and interrogation from the \\u200b Grand Grimoire \\u200b of Sibley, actually involves an invocation of demons to act as a motivating force upon the deceased: \"I conjure and exercise thee... to answer my liege demands, being obe dient unto these sacred ceremonies,',\n",
              " 'upon the deceased: \"I conjure and exercise thee... to answer my liege demands, being obe dient unto these sacred ceremonies, on pain of everlasting torment and di stress. ... B erald, Beroald, Balbin, Gab, Gebor, Agaba... After these forms and ceremonies, the ghost or apparition will become visible, and will answer any que stion put to it by the exorcist\" (290). The ritual requires access to the naked body i n the place where it was buried, and ope rates by the \"virtue of the Holy Resurrection\" (291). His second i s similarly interrogative, a kind of \\'forensic necromancy\\' which',\n",
              " 'by the \"virtue of the Holy Resurrection\" (291). His second i s similarly interrogative, a kind of \\'forensic necromancy\\' which requires the necromancer to stand whe re a body wa s found, before it has been removed, and bind the deceased individual\\'s soul \"by the Holy Rites of Hecate & Blood of Jesus which he shed for thy soul\" (291). Aga in, the machinery is not wholly Christian, but it refers to resurrection, torments and the exclamation, a nd its concluding \"So help thee God and the prayers of the Holy Church\", indicate where the symbolic weight lies - with',\n",
              " 'concluding \"So help thee God and the prayers of the Holy Church\", indicate where the symbolic weight lies - with the Christian doctrine of Purgatory and forgiveness. Each of these rituals relies on a proximity to the body si milar to that of intercession - saints\\' relics being inserted into churches meant \"that saint was fully and freely manifest as minister and witness, and ambassador, at that place. The saints could act and feel like the living, a nd were treated as if they were alive and incorrupt, whi ch technically they we re meant to be\" (Binski 15). Each',\n",
              " 'treated as if they were alive and incorrupt, whi ch technically they we re meant to be\" (Binski 15). Each incorporates repeated reference to prayers, to the sacrifice of Jesus which allows the dead into Paradise and motivates their interest in the living. F inally, there is the equally compelling threat of Purgatory in Christian death, and of \"everlasting torment and distress\" if the dead do not buy their salvation by pe rforming some service for the living. The service is information, the reward release into the proper Christian machinery of death, the means of coercion diabolical: conflation is thus',\n",
              " \"is information, the reward release into the proper Christian machinery of death, the means of coercion diabolical: conflation is thus inherent. Bibliography 'Necromancy', \\u200b Oxford English Dictionary \\u200b , accessed at <http://dictionary.oed.com> on 27t h November 2008. Barrett, \\u200b W.F. Necromancy and Ancient Magic in its Relation to Spiritualism \\u200b . (London: The Friars Printing Association Ltd., year of publication unknown). Binski, Paul. \\u200b Medieval Death \\u200b . (London: British Museum Press, 1996). Jones, Lindsay, et al. \\u200b Encyclopaedia of Religion \\u200b , volume 10, second edition. (Farmington MI : Macmillan, 2005). Kieckhefer, Richard. \\u200b Forbidden Rites: A Necromancer's Manual\",\n",
              " \"Religion \\u200b , volume 10, second edition. (Farmington MI : Macmillan, 2005). Kieckhefer, Richard. \\u200b Forbidden Rites: A Necromancer's Manual of the Fifteenth Century (Pennsylvania: Pennsylvania State University Press, 1998) . Le Goff, Jacques. \\u200b The Birth of Purgatory \\u200b , trans. Arthur Goldhammer. (Aldershot: Scolar Press, 1984 [1981]). Lee, Frederick George (editor). \\u200b Glimpses of the Supernatural \\u200b vol. 1 (London : Henry S. King & co., 1875). Rosack, C. W. \\u200b The Mysteries of Astrology and the Wonde rs of Magic including a Hi story of the Rise and Progress of Astrology and the various branches of Necromanc\",\n",
              " 'rs of Magic including a Hi story of the Rise and Progress of Astrology and the various branches of Necromanc y - and so on \\u200b . (London: Sampson, Low, Son & Company, 1854) . Shinners, John. \\u200b Medieval Popular Religion 1000-1500: A Reader \\u200b . Second edition. (Toronto: Broadview Press, 2007). Waite, A.E.. \\u200b The Book of Black Magic and of Pacts \\u200b . (London: George Redway, 1898 ).']"
            ]
          },
          "metadata": {},
          "execution_count": 6
        }
      ],
      "source": [
        "def chunk_text(text, chunk_size=100, overlap=20):\n",
        "    \"\"\"\n",
        "    Split the text into chunks based on the number of words and word overlap.\n",
        "    \"\"\"\n",
        "    words = text.split()\n",
        "    chunks = []\n",
        "    for i in range(0, len(words), chunk_size - overlap):\n",
        "        chunk = ' '.join(words[i:i + chunk_size])\n",
        "        chunks.append(chunk)\n",
        "    return chunks\n",
        "\n",
        "chunked_data = chunk_text(data)\n",
        "\n",
        "chunked_data"
      ]
    },
    {
      "cell_type": "markdown",
      "metadata": {
        "id": "0ckWt4vAaTnp"
      },
      "source": [
        "Visualise Chunking"
      ]
    },
    {
      "cell_type": "code",
      "execution_count": 7,
      "metadata": {
        "id": "iRuGxJLfaTnq",
        "outputId": "753ec462-3718-4f98-d58a-346d41c39ad7",
        "colab": {
          "base_uri": "https://localhost:8080/",
          "height": 1000
        }
      },
      "outputs": [
        {
          "output_type": "display_data",
          "data": {
            "text/plain": [
              "Chunk \u001b[1;36m1\u001b[0m:\n"
            ],
            "text/html": [
              "<pre style=\"white-space:pre;overflow-x:auto;line-height:normal;font-family:Menlo,'DejaVu Sans Mono',consolas,'Courier New',monospace\">Chunk <span style=\"color: #008080; text-decoration-color: #008080; font-weight: bold\">1</span>:\n",
              "</pre>\n"
            ]
          },
          "metadata": {}
        },
        {
          "output_type": "display_data",
          "data": {
            "text/plain": [
              "Necromancy, the art or practice of magically conjuring up t he souls of the dead, is primarily a form of \n",
              "divination. More generally, ne cromancy is often considered synonymous with black magic, sorcery or witchcraft, \n",
              "perhaps because the calling up of the dead may occur for purposes other than information seeking, or because the \n",
              "separation of divination from its consequences is not always clear. The re is also a linguistic basis for the \n",
              "expanded use of the word: the term ​ black art ​ for magic appears to be based on a corruption of ​ necromancy ​ \u001b[1m(\u001b[0mfrom\n",
              "Greek ​\n"
            ],
            "text/html": [
              "<pre style=\"white-space:pre;overflow-x:auto;line-height:normal;font-family:Menlo,'DejaVu Sans Mono',consolas,'Courier New',monospace\">Necromancy, the art or practice of magically conjuring up t he souls of the dead, is primarily a form of \n",
              "divination. More generally, ne cromancy is often considered synonymous with black magic, sorcery or witchcraft, \n",
              "perhaps because the calling up of the dead may occur for purposes other than information seeking, or because the \n",
              "separation of divination from its consequences is not always clear. The re is also a linguistic basis for the \n",
              "expanded use of the word: the term ​ black art ​ for magic appears to be based on a corruption of ​ necromancy ​ <span style=\"font-weight: bold\">(</span>from\n",
              "Greek ​\n",
              "</pre>\n"
            ]
          },
          "metadata": {}
        },
        {
          "output_type": "display_data",
          "data": {
            "text/plain": [
              "--------------------------------------------------\n"
            ],
            "text/html": [
              "<pre style=\"white-space:pre;overflow-x:auto;line-height:normal;font-family:Menlo,'DejaVu Sans Mono',consolas,'Courier New',monospace\">--------------------------------------------------\n",
              "</pre>\n"
            ]
          },
          "metadata": {}
        },
        {
          "output_type": "display_data",
          "data": {
            "text/plain": [
              "Chunk \u001b[1;36m2\u001b[0m:\n"
            ],
            "text/html": [
              "<pre style=\"white-space:pre;overflow-x:auto;line-height:normal;font-family:Menlo,'DejaVu Sans Mono',consolas,'Courier New',monospace\">Chunk <span style=\"color: #008080; text-decoration-color: #008080; font-weight: bold\">2</span>:\n",
              "</pre>\n"
            ]
          },
          "metadata": {}
        },
        {
          "output_type": "display_data",
          "data": {
            "text/plain": [
              "​ black art ​ for magic appears to be based on a corruption of ​ necromancy ​ \u001b[1m(\u001b[0mfrom Greek ​ necros ​ , \u001b[32m'dead'\u001b[0m\u001b[1m)\u001b[0m to ​\n",
              "nigramancy \u001b[1m(\u001b[0mfrom Latin ​ niger ​ , \u001b[32m'black'\u001b[0m\u001b[1m)\u001b[0m. \u001b[1m(\u001b[0mJones, \u001b[1;36m6451\u001b[0m\u001b[1m)\u001b[0m. What fascinates me about this term \u001b[32m\"necromancy\"\u001b[0m is the \n",
              "process by whi ch it becomes a synonym for other magical practices and is then carefully differentiated from them \n",
              "again. The occult scholarship of the seventeenth century and onwa rds mentions witchcraft and necromancy in almost \n",
              "the same breath, anxious to differentiate the one from the other. Why? If necromancy is synonymous with witchcraft,\n",
              "surely\n"
            ],
            "text/html": [
              "<pre style=\"white-space:pre;overflow-x:auto;line-height:normal;font-family:Menlo,'DejaVu Sans Mono',consolas,'Courier New',monospace\">​ black art ​ for magic appears to be based on a corruption of ​ necromancy ​ <span style=\"font-weight: bold\">(</span>from Greek ​ necros ​ , <span style=\"color: #008000; text-decoration-color: #008000\">'dead'</span><span style=\"font-weight: bold\">)</span> to ​\n",
              "nigramancy <span style=\"font-weight: bold\">(</span>from Latin ​ niger ​ , <span style=\"color: #008000; text-decoration-color: #008000\">'black'</span><span style=\"font-weight: bold\">)</span>. <span style=\"font-weight: bold\">(</span>Jones, <span style=\"color: #008080; text-decoration-color: #008080; font-weight: bold\">6451</span><span style=\"font-weight: bold\">)</span>. What fascinates me about this term <span style=\"color: #008000; text-decoration-color: #008000\">\"necromancy\"</span> is the \n",
              "process by whi ch it becomes a synonym for other magical practices and is then carefully differentiated from them \n",
              "again. The occult scholarship of the seventeenth century and onwa rds mentions witchcraft and necromancy in almost \n",
              "the same breath, anxious to differentiate the one from the other. Why? If necromancy is synonymous with witchcraft,\n",
              "surely\n",
              "</pre>\n"
            ]
          },
          "metadata": {}
        },
        {
          "output_type": "display_data",
          "data": {
            "text/plain": [
              "--------------------------------------------------\n"
            ],
            "text/html": [
              "<pre style=\"white-space:pre;overflow-x:auto;line-height:normal;font-family:Menlo,'DejaVu Sans Mono',consolas,'Courier New',monospace\">--------------------------------------------------\n",
              "</pre>\n"
            ]
          },
          "metadata": {}
        },
        {
          "output_type": "display_data",
          "data": {
            "text/plain": [
              "Chunk \u001b[1;36m3\u001b[0m:\n"
            ],
            "text/html": [
              "<pre style=\"white-space:pre;overflow-x:auto;line-height:normal;font-family:Menlo,'DejaVu Sans Mono',consolas,'Courier New',monospace\">Chunk <span style=\"color: #008080; text-decoration-color: #008080; font-weight: bold\">3</span>:\n",
              "</pre>\n"
            ]
          },
          "metadata": {}
        },
        {
          "output_type": "display_data",
          "data": {
            "text/plain": [
              "almost the same breath, anxious to differentiate the one from the other. Why? If necromancy is synonymous with \n",
              "witchcraft, surely use of the two terms is redunda nt? The answer, I discovered, is that they were never synonym \n",
              "ous in the first place. The re is a conflation of terms at work here, but it is between necromancy - divination \n",
              "through di scourse with the deceased - and a form of black magic, concerned with discourse and ba rgains made with \n",
              "demons, devils and other diabolical entities. In about \u001b[1;36m1010\u001b[0m, Burchard of Worms' ​ Corrector and Doctor ​ \n",
              "differentiated between\n"
            ],
            "text/html": [
              "<pre style=\"white-space:pre;overflow-x:auto;line-height:normal;font-family:Menlo,'DejaVu Sans Mono',consolas,'Courier New',monospace\">almost the same breath, anxious to differentiate the one from the other. Why? If necromancy is synonymous with \n",
              "witchcraft, surely use of the two terms is redunda nt? The answer, I discovered, is that they were never synonym \n",
              "ous in the first place. The re is a conflation of terms at work here, but it is between necromancy - divination \n",
              "through di scourse with the deceased - and a form of black magic, concerned with discourse and ba rgains made with \n",
              "demons, devils and other diabolical entities. In about <span style=\"color: #008080; text-decoration-color: #008080; font-weight: bold\">1010</span>, Burchard of Worms' ​ Corrector and Doctor ​ \n",
              "differentiated between\n",
              "</pre>\n"
            ]
          },
          "metadata": {}
        },
        {
          "output_type": "display_data",
          "data": {
            "text/plain": [
              "--------------------------------------------------\n"
            ],
            "text/html": [
              "<pre style=\"white-space:pre;overflow-x:auto;line-height:normal;font-family:Menlo,'DejaVu Sans Mono',consolas,'Courier New',monospace\">--------------------------------------------------\n",
              "</pre>\n"
            ]
          },
          "metadata": {}
        },
        {
          "output_type": "display_data",
          "data": {
            "text/plain": [
              "Chunk \u001b[1;36m4\u001b[0m:\n"
            ],
            "text/html": [
              "<pre style=\"white-space:pre;overflow-x:auto;line-height:normal;font-family:Menlo,'DejaVu Sans Mono',consolas,'Courier New',monospace\">Chunk <span style=\"color: #008080; text-decoration-color: #008080; font-weight: bold\">4</span>:\n",
              "</pre>\n"
            ]
          },
          "metadata": {}
        },
        {
          "output_type": "display_data",
          "data": {
            "text/plain": [
              "with demons, devils and other diabolical entities. In about \u001b[1;36m1010\u001b[0m, Burchard of Worms' ​ Corrector and Doctor ​ \n",
              "differentiated between \u001b[32m\"magicians\"\u001b[0m, \u001b[32m\"diviners\"\u001b[0m - presumably including ne cromancers - witches and the \u001b[32m\"you\"\u001b[0m being \n",
              "addressed by the text, an ordinary person not identified as any of these particular practitioners but still perhaps\n",
              "enacting magic. However, Burchard doe s not separate these practitioners by their practices; for example, his list \n",
              "of divinations includes the influencing of minds and the weather. John Shinners points out that \"Burchard culled \n",
              "most of the sins and their penances in his collection from older penitentials, some dating\n"
            ],
            "text/html": [
              "<pre style=\"white-space:pre;overflow-x:auto;line-height:normal;font-family:Menlo,'DejaVu Sans Mono',consolas,'Courier New',monospace\">with demons, devils and other diabolical entities. In about <span style=\"color: #008080; text-decoration-color: #008080; font-weight: bold\">1010</span>, Burchard of Worms' ​ Corrector and Doctor ​ \n",
              "differentiated between <span style=\"color: #008000; text-decoration-color: #008000\">\"magicians\"</span>, <span style=\"color: #008000; text-decoration-color: #008000\">\"diviners\"</span> - presumably including ne cromancers - witches and the <span style=\"color: #008000; text-decoration-color: #008000\">\"you\"</span> being \n",
              "addressed by the text, an ordinary person not identified as any of these particular practitioners but still perhaps\n",
              "enacting magic. However, Burchard doe s not separate these practitioners by their practices; for example, his list \n",
              "of divinations includes the influencing of minds and the weather. John Shinners points out that \"Burchard culled \n",
              "most of the sins and their penances in his collection from older penitentials, some dating\n",
              "</pre>\n"
            ]
          },
          "metadata": {}
        },
        {
          "output_type": "display_data",
          "data": {
            "text/plain": [
              "--------------------------------------------------\n"
            ],
            "text/html": [
              "<pre style=\"white-space:pre;overflow-x:auto;line-height:normal;font-family:Menlo,'DejaVu Sans Mono',consolas,'Courier New',monospace\">--------------------------------------------------\n",
              "</pre>\n"
            ]
          },
          "metadata": {}
        },
        {
          "output_type": "display_data",
          "data": {
            "text/plain": [
              "Chunk \u001b[1;36m5\u001b[0m:\n"
            ],
            "text/html": [
              "<pre style=\"white-space:pre;overflow-x:auto;line-height:normal;font-family:Menlo,'DejaVu Sans Mono',consolas,'Courier New',monospace\">Chunk <span style=\"color: #008080; text-decoration-color: #008080; font-weight: bold\">5</span>:\n",
              "</pre>\n"
            ]
          },
          "metadata": {}
        },
        {
          "output_type": "display_data",
          "data": {
            "text/plain": [
              "points out that \u001b[32m\"Burchard culled most of the sins and their penances in his collection from older penitentials, \u001b[0m\n",
              "\u001b[32msome dating ba ck to the seventh century\"\u001b[0m \u001b[1m(\u001b[0m\u001b[1;36m459\u001b[0m\u001b[1m)\u001b[0m: this distinction between practitioners and lack of similar \n",
              "distinction be tween practices appears therefore to be long-established. This lack of distinction is even more \n",
              "apparent in the work of Johannes Hartlieb, who \u001b[1m(\u001b[0m in the early fifteenth century\u001b[1m)\u001b[0m defines necromancy thus: \n",
              "Nygramancia ​ is the first forbidden art, and is called the black art. Thi s art is the worst of all, because it \n",
              "proceeds with sacrifices and services that must be rendered\n"
            ],
            "text/html": [
              "<pre style=\"white-space:pre;overflow-x:auto;line-height:normal;font-family:Menlo,'DejaVu Sans Mono',consolas,'Courier New',monospace\">points out that <span style=\"color: #008000; text-decoration-color: #008000\">\"Burchard culled most of the sins and their penances in his collection from older penitentials, </span>\n",
              "<span style=\"color: #008000; text-decoration-color: #008000\">some dating ba ck to the seventh century\"</span> <span style=\"font-weight: bold\">(</span><span style=\"color: #008080; text-decoration-color: #008080; font-weight: bold\">459</span><span style=\"font-weight: bold\">)</span>: this distinction between practitioners and lack of similar \n",
              "distinction be tween practices appears therefore to be long-established. This lack of distinction is even more \n",
              "apparent in the work of Johannes Hartlieb, who <span style=\"font-weight: bold\">(</span> in the early fifteenth century<span style=\"font-weight: bold\">)</span> defines necromancy thus: \n",
              "Nygramancia ​ is the first forbidden art, and is called the black art. Thi s art is the worst of all, because it \n",
              "proceeds with sacrifices and services that must be rendered\n",
              "</pre>\n"
            ]
          },
          "metadata": {}
        },
        {
          "output_type": "display_data",
          "data": {
            "text/plain": [
              "--------------------------------------------------\n"
            ],
            "text/html": [
              "<pre style=\"white-space:pre;overflow-x:auto;line-height:normal;font-family:Menlo,'DejaVu Sans Mono',consolas,'Courier New',monospace\">--------------------------------------------------\n",
              "</pre>\n"
            ]
          },
          "metadata": {}
        },
        {
          "output_type": "display_data",
          "data": {
            "text/plain": [
              "Chunk \u001b[1;36m6\u001b[0m:\n"
            ],
            "text/html": [
              "<pre style=\"white-space:pre;overflow-x:auto;line-height:normal;font-family:Menlo,'DejaVu Sans Mono',consolas,'Courier New',monospace\">Chunk <span style=\"color: #008080; text-decoration-color: #008080; font-weight: bold\">6</span>:\n",
              "</pre>\n"
            ]
          },
          "metadata": {}
        },
        {
          "output_type": "display_data",
          "data": {
            "text/plain": [
              "art. Thi s art is the worst of all, because it proceeds with sacrifices and services that must be rendered to the \n",
              "devils. One who wishes to exerciese this art must give all sorts of sacrifices to the devils, and must take an oath\n",
              "and pact with the devils \u001b[1m(\u001b[0min Kieckhefer, \u001b[1;36m33\u001b[0m\u001b[1m)\u001b[0m. There is no reference to the dead whatsoever here, sugge sting that \n",
              "necromancy and di abolical sorcery have become fully conflated by the early fifteenth century. Ot her texts allow \n",
              "the process to be tracked more clearly. Isidore of Seville's ​ Etymologies, ​ from the early seventh century,\n"
            ],
            "text/html": [
              "<pre style=\"white-space:pre;overflow-x:auto;line-height:normal;font-family:Menlo,'DejaVu Sans Mono',consolas,'Courier New',monospace\">art. Thi s art is the worst of all, because it proceeds with sacrifices and services that must be rendered to the \n",
              "devils. One who wishes to exerciese this art must give all sorts of sacrifices to the devils, and must take an oath\n",
              "and pact with the devils <span style=\"font-weight: bold\">(</span>in Kieckhefer, <span style=\"color: #008080; text-decoration-color: #008080; font-weight: bold\">33</span><span style=\"font-weight: bold\">)</span>. There is no reference to the dead whatsoever here, sugge sting that \n",
              "necromancy and di abolical sorcery have become fully conflated by the early fifteenth century. Ot her texts allow \n",
              "the process to be tracked more clearly. Isidore of Seville's ​ Etymologies, ​ from the early seventh century,\n",
              "</pre>\n"
            ]
          },
          "metadata": {}
        },
        {
          "output_type": "display_data",
          "data": {
            "text/plain": [
              "--------------------------------------------------\n"
            ],
            "text/html": [
              "<pre style=\"white-space:pre;overflow-x:auto;line-height:normal;font-family:Menlo,'DejaVu Sans Mono',consolas,'Courier New',monospace\">--------------------------------------------------\n",
              "</pre>\n"
            ]
          },
          "metadata": {}
        },
        {
          "output_type": "display_data",
          "data": {
            "text/plain": [
              "Chunk \u001b[1;36m7\u001b[0m:\n"
            ],
            "text/html": [
              "<pre style=\"white-space:pre;overflow-x:auto;line-height:normal;font-family:Menlo,'DejaVu Sans Mono',consolas,'Courier New',monospace\">Chunk <span style=\"color: #008080; text-decoration-color: #008080; font-weight: bold\">7</span>:\n",
              "</pre>\n"
            ]
          },
          "metadata": {}
        },
        {
          "output_type": "display_data",
          "data": {
            "text/plain": [
              "texts allow the process to be tracked more clearly. Isidore of Seville's ​ Etymologies, ​ from the early seventh \n",
              "century, ​ ​ mentions among the forms of divination \u001b[32m\"the ​ necromantici ​ who resuscitate and interrogate the dead\"\u001b[0m\n",
              "\u001b[1m(\u001b[0mKickehefer, \u001b[1;36m33\u001b[0m\u001b[1m)\u001b[0m. This definition is preserved by Hugh of S t. Victor in the ​ Didascalicon ​ of the early twelfth \n",
              "century, but with the addition of the diabolical element and the positioning of necromancy as first among di \n",
              "vinations which are apparent in Ha rtlieb: primam, necromantiam, quod interpretatur divinatio in mortuis, necros \n",
              "enim Graece, mortuus Latine, unde necromantia, divinatio, qua\n"
            ],
            "text/html": [
              "<pre style=\"white-space:pre;overflow-x:auto;line-height:normal;font-family:Menlo,'DejaVu Sans Mono',consolas,'Courier New',monospace\">texts allow the process to be tracked more clearly. Isidore of Seville's ​ Etymologies, ​ from the early seventh \n",
              "century, ​ ​ mentions among the forms of divination <span style=\"color: #008000; text-decoration-color: #008000\">\"the ​ necromantici ​ who resuscitate and interrogate the dead\"</span>\n",
              "<span style=\"font-weight: bold\">(</span>Kickehefer, <span style=\"color: #008080; text-decoration-color: #008080; font-weight: bold\">33</span><span style=\"font-weight: bold\">)</span>. This definition is preserved by Hugh of S t. Victor in the ​ Didascalicon ​ of the early twelfth \n",
              "century, but with the addition of the diabolical element and the positioning of necromancy as first among di \n",
              "vinations which are apparent in Ha rtlieb: primam, necromantiam, quod interpretatur divinatio in mortuis, necros \n",
              "enim Graece, mortuus Latine, unde necromantia, divinatio, qua\n",
              "</pre>\n"
            ]
          },
          "metadata": {}
        },
        {
          "output_type": "display_data",
          "data": {
            "text/plain": [
              "--------------------------------------------------\n"
            ],
            "text/html": [
              "<pre style=\"white-space:pre;overflow-x:auto;line-height:normal;font-family:Menlo,'DejaVu Sans Mono',consolas,'Courier New',monospace\">--------------------------------------------------\n",
              "</pre>\n"
            ]
          },
          "metadata": {}
        },
        {
          "output_type": "display_data",
          "data": {
            "text/plain": [
              "Chunk \u001b[1;36m8\u001b[0m:\n"
            ],
            "text/html": [
              "<pre style=\"white-space:pre;overflow-x:auto;line-height:normal;font-family:Menlo,'DejaVu Sans Mono',consolas,'Courier New',monospace\">Chunk <span style=\"color: #008080; text-decoration-color: #008080; font-weight: bold\">8</span>:\n",
              "</pre>\n"
            ]
          },
          "metadata": {}
        },
        {
          "output_type": "display_data",
          "data": {
            "text/plain": [
              "apparent in Ha rtlieb: primam, necromantiam, quod interpretatur divinatio in mortuis, necros enim Graece, mortuus \n",
              "Latine, unde necromantia, divinatio, qua e fit per sacrificium sanguinis humani, quem daemones sitiunt, et in eo \n",
              "delectantur effuso \u001b[1m(\u001b[0m810D\u001b[1m)\u001b[0m . I shan't embarrass myself and my schoolboy La tin further by a ttempting a complete \n",
              "translation, but the phrasing \u001b[32m\"first, necromancy\"\u001b[0m and its definition as divination through t he dead are apparent \n",
              "even to me, as is the reference to a sacrifice of hum an blood whi ch demons delight in. It is apparent that the \n",
              "definition of necromantic practice has changed since the\n"
            ],
            "text/html": [
              "<pre style=\"white-space:pre;overflow-x:auto;line-height:normal;font-family:Menlo,'DejaVu Sans Mono',consolas,'Courier New',monospace\">apparent in Ha rtlieb: primam, necromantiam, quod interpretatur divinatio in mortuis, necros enim Graece, mortuus \n",
              "Latine, unde necromantia, divinatio, qua e fit per sacrificium sanguinis humani, quem daemones sitiunt, et in eo \n",
              "delectantur effuso <span style=\"font-weight: bold\">(</span>810D<span style=\"font-weight: bold\">)</span> . I shan't embarrass myself and my schoolboy La tin further by a ttempting a complete \n",
              "translation, but the phrasing <span style=\"color: #008000; text-decoration-color: #008000\">\"first, necromancy\"</span> and its definition as divination through t he dead are apparent \n",
              "even to me, as is the reference to a sacrifice of hum an blood whi ch demons delight in. It is apparent that the \n",
              "definition of necromantic practice has changed since the\n",
              "</pre>\n"
            ]
          },
          "metadata": {}
        },
        {
          "output_type": "display_data",
          "data": {
            "text/plain": [
              "--------------------------------------------------\n"
            ],
            "text/html": [
              "<pre style=\"white-space:pre;overflow-x:auto;line-height:normal;font-family:Menlo,'DejaVu Sans Mono',consolas,'Courier New',monospace\">--------------------------------------------------\n",
              "</pre>\n"
            ]
          },
          "metadata": {}
        },
        {
          "output_type": "display_data",
          "data": {
            "text/plain": [
              "Chunk \u001b[1;36m9\u001b[0m:\n"
            ],
            "text/html": [
              "<pre style=\"white-space:pre;overflow-x:auto;line-height:normal;font-family:Menlo,'DejaVu Sans Mono',consolas,'Courier New',monospace\">Chunk <span style=\"color: #008080; text-decoration-color: #008080; font-weight: bold\">9</span>:\n",
              "</pre>\n"
            ]
          },
          "metadata": {}
        },
        {
          "output_type": "display_data",
          "data": {
            "text/plain": [
              "an blood whi ch demons delight in. It is apparent that the definition of necromantic practice has changed since the\n",
              "turn of the millennium, and that Hugh is aware of the change. Von S chlettstadt's ​ Historiae Memorabiles ​ of the \n",
              "1280s report the conjuring of demons by a necromancer named Walravius, while Elich's ​ Daemonomagia ​ of \u001b[1;36m1607\u001b[0m \n",
              "describes witchcraft as a disease both arising from and only curable by \u001b[32m\"strange and ridiculous ceremonies by wi \u001b[0m\n",
              "\u001b[32mtches and necromancers\"\u001b[0m. All of this demonstrates that the conflation ha s yet to occur in the seventh century, and\n",
              "can by no\n"
            ],
            "text/html": [
              "<pre style=\"white-space:pre;overflow-x:auto;line-height:normal;font-family:Menlo,'DejaVu Sans Mono',consolas,'Courier New',monospace\">an blood whi ch demons delight in. It is apparent that the definition of necromantic practice has changed since the\n",
              "turn of the millennium, and that Hugh is aware of the change. Von S chlettstadt's ​ Historiae Memorabiles ​ of the \n",
              "1280s report the conjuring of demons by a necromancer named Walravius, while Elich's ​ Daemonomagia ​ of <span style=\"color: #008080; text-decoration-color: #008080; font-weight: bold\">1607</span> \n",
              "describes witchcraft as a disease both arising from and only curable by <span style=\"color: #008000; text-decoration-color: #008000\">\"strange and ridiculous ceremonies by wi </span>\n",
              "<span style=\"color: #008000; text-decoration-color: #008000\">tches and necromancers\"</span>. All of this demonstrates that the conflation ha s yet to occur in the seventh century, and\n",
              "can by no\n",
              "</pre>\n"
            ]
          },
          "metadata": {}
        },
        {
          "output_type": "display_data",
          "data": {
            "text/plain": [
              "--------------------------------------------------\n"
            ],
            "text/html": [
              "<pre style=\"white-space:pre;overflow-x:auto;line-height:normal;font-family:Menlo,'DejaVu Sans Mono',consolas,'Courier New',monospace\">--------------------------------------------------\n",
              "</pre>\n"
            ]
          },
          "metadata": {}
        },
        {
          "output_type": "display_data",
          "data": {
            "text/plain": [
              "Chunk \u001b[1;36m10\u001b[0m:\n"
            ],
            "text/html": [
              "<pre style=\"white-space:pre;overflow-x:auto;line-height:normal;font-family:Menlo,'DejaVu Sans Mono',consolas,'Courier New',monospace\">Chunk <span style=\"color: #008080; text-decoration-color: #008080; font-weight: bold\">10</span>:\n",
              "</pre>\n"
            ]
          },
          "metadata": {}
        },
        {
          "output_type": "display_data",
          "data": {
            "text/plain": [
              "All of this demonstrates that the conflation ha s yet to occur in the seventh century, and can by no means be \n",
              "called complete in the tenth century, whe n Burchard uses the generic \u001b[32m\"diviners\"\u001b[0m, nor in the eleventh, when Hugh \n",
              "notes the process and cites the historical definition. B y the thirteenth century and Von Schlettstadt the \n",
              "conflated definition is used without such clarification, and by the fifteenth the linguistic shift from ​ necro ​ to ​\n",
              "nigra ​ is complete. In the early seventeenth century, meanwhile, that careful distinction be tween witchcraft and \n",
              "necromancy has been made, suggesting\n"
            ],
            "text/html": [
              "<pre style=\"white-space:pre;overflow-x:auto;line-height:normal;font-family:Menlo,'DejaVu Sans Mono',consolas,'Courier New',monospace\">All of this demonstrates that the conflation ha s yet to occur in the seventh century, and can by no means be \n",
              "called complete in the tenth century, whe n Burchard uses the generic <span style=\"color: #008000; text-decoration-color: #008000\">\"diviners\"</span>, nor in the eleventh, when Hugh \n",
              "notes the process and cites the historical definition. B y the thirteenth century and Von Schlettstadt the \n",
              "conflated definition is used without such clarification, and by the fifteenth the linguistic shift from ​ necro ​ to ​\n",
              "nigra ​ is complete. In the early seventeenth century, meanwhile, that careful distinction be tween witchcraft and \n",
              "necromancy has been made, suggesting\n",
              "</pre>\n"
            ]
          },
          "metadata": {}
        },
        {
          "output_type": "display_data",
          "data": {
            "text/plain": [
              "--------------------------------------------------\n"
            ],
            "text/html": [
              "<pre style=\"white-space:pre;overflow-x:auto;line-height:normal;font-family:Menlo,'DejaVu Sans Mono',consolas,'Courier New',monospace\">--------------------------------------------------\n",
              "</pre>\n"
            ]
          },
          "metadata": {}
        },
        {
          "output_type": "display_data",
          "data": {
            "text/plain": [
              "Chunk \u001b[1;36m11\u001b[0m:\n"
            ],
            "text/html": [
              "<pre style=\"white-space:pre;overflow-x:auto;line-height:normal;font-family:Menlo,'DejaVu Sans Mono',consolas,'Courier New',monospace\">Chunk <span style=\"color: #008080; text-decoration-color: #008080; font-weight: bold\">11</span>:\n",
              "</pre>\n"
            ]
          },
          "metadata": {}
        },
        {
          "output_type": "display_data",
          "data": {
            "text/plain": [
              "is complete. In the early seventeenth century, meanwhile, that careful distinction be tween witchcraft and \n",
              "necromancy has been made, suggesting an effort to separate two particular forms of forbidden practice. The form \n",
              "called \u001b[32m\"necromancy\"\u001b[0m, wha t exactly constitutes it, and how i t is conflated with witchcraft, are all explored by R \n",
              "ichard Kieckhefer in his commentary on t he trial of Jubertus of Bavaria in \u001b[1;36m1437\u001b[0m. Kieckhefer determines that \"side \n",
              "from accusations more or less typical of the incipient profession for conspiratorial witchcraft \u001b[1m(\u001b[0mflight to noc \n",
              "turnal assemblies, killing of infants, etc.\u001b[1m)\u001b[0m, Jubertus was charged with activities more often\n"
            ],
            "text/html": [
              "<pre style=\"white-space:pre;overflow-x:auto;line-height:normal;font-family:Menlo,'DejaVu Sans Mono',consolas,'Courier New',monospace\">is complete. In the early seventeenth century, meanwhile, that careful distinction be tween witchcraft and \n",
              "necromancy has been made, suggesting an effort to separate two particular forms of forbidden practice. The form \n",
              "called <span style=\"color: #008000; text-decoration-color: #008000\">\"necromancy\"</span>, wha t exactly constitutes it, and how i t is conflated with witchcraft, are all explored by R \n",
              "ichard Kieckhefer in his commentary on t he trial of Jubertus of Bavaria in <span style=\"color: #008080; text-decoration-color: #008080; font-weight: bold\">1437</span>. Kieckhefer determines that \"side \n",
              "from accusations more or less typical of the incipient profession for conspiratorial witchcraft <span style=\"font-weight: bold\">(</span>flight to noc \n",
              "turnal assemblies, killing of infants, etc.<span style=\"font-weight: bold\">)</span>, Jubertus was charged with activities more often\n",
              "</pre>\n"
            ]
          },
          "metadata": {}
        },
        {
          "output_type": "display_data",
          "data": {
            "text/plain": [
              "--------------------------------------------------\n"
            ],
            "text/html": [
              "<pre style=\"white-space:pre;overflow-x:auto;line-height:normal;font-family:Menlo,'DejaVu Sans Mono',consolas,'Courier New',monospace\">--------------------------------------------------\n",
              "</pre>\n"
            ]
          },
          "metadata": {}
        },
        {
          "output_type": "display_data",
          "data": {
            "text/plain": [
              "Chunk \u001b[1;36m12\u001b[0m:\n"
            ],
            "text/html": [
              "<pre style=\"white-space:pre;overflow-x:auto;line-height:normal;font-family:Menlo,'DejaVu Sans Mono',consolas,'Courier New',monospace\">Chunk <span style=\"color: #008080; text-decoration-color: #008080; font-weight: bold\">12</span>:\n",
              "</pre>\n"
            ]
          },
          "metadata": {}
        },
        {
          "output_type": "display_data",
          "data": {
            "text/plain": [
              "profession for conspiratorial witchcraft \u001b[1m(\u001b[0mflight to noc turnal assemblies, killing of infants, etc.\u001b[1m)\u001b[0m, Jubertus was \n",
              "charged with activities more often found i n conne ction wi th clerical necromancy\" \u001b[1m(\u001b[0m\u001b[1;36m30\u001b[0m\u001b[1m)\u001b[0m. These activities included\n",
              "a kind of occult apprenticeship to senior conjurer and grimoire-owner Johannes Cunalis and to the succubus \n",
              "Luxuriousus, who Jubertus is said to have \u001b[32m\"adored as a god\"\u001b[0m; the commitment of his bodi ly members, after death, \n",
              "into the custody of his familiar demons; being forbidden by de vils to take confession or interact with blessed \n",
              "materials; and the provision of protection from prison, theft, social adversaries and\n"
            ],
            "text/html": [
              "<pre style=\"white-space:pre;overflow-x:auto;line-height:normal;font-family:Menlo,'DejaVu Sans Mono',consolas,'Courier New',monospace\">profession for conspiratorial witchcraft <span style=\"font-weight: bold\">(</span>flight to noc turnal assemblies, killing of infants, etc.<span style=\"font-weight: bold\">)</span>, Jubertus was \n",
              "charged with activities more often found i n conne ction wi th clerical necromancy\" <span style=\"font-weight: bold\">(</span><span style=\"color: #008080; text-decoration-color: #008080; font-weight: bold\">30</span><span style=\"font-weight: bold\">)</span>. These activities included\n",
              "a kind of occult apprenticeship to senior conjurer and grimoire-owner Johannes Cunalis and to the succubus \n",
              "Luxuriousus, who Jubertus is said to have <span style=\"color: #008000; text-decoration-color: #008000\">\"adored as a god\"</span>; the commitment of his bodi ly members, after death, \n",
              "into the custody of his familiar demons; being forbidden by de vils to take confession or interact with blessed \n",
              "materials; and the provision of protection from prison, theft, social adversaries and\n",
              "</pre>\n"
            ]
          },
          "metadata": {}
        },
        {
          "output_type": "display_data",
          "data": {
            "text/plain": [
              "--------------------------------------------------\n"
            ],
            "text/html": [
              "<pre style=\"white-space:pre;overflow-x:auto;line-height:normal;font-family:Menlo,'DejaVu Sans Mono',consolas,'Courier New',monospace\">--------------------------------------------------\n",
              "</pre>\n"
            ]
          },
          "metadata": {}
        },
        {
          "output_type": "display_data",
          "data": {
            "text/plain": [
              "Chunk \u001b[1;36m13\u001b[0m:\n"
            ],
            "text/html": [
              "<pre style=\"white-space:pre;overflow-x:auto;line-height:normal;font-family:Menlo,'DejaVu Sans Mono',consolas,'Courier New',monospace\">Chunk <span style=\"color: #008080; text-decoration-color: #008080; font-weight: bold\">13</span>:\n",
              "</pre>\n"
            ]
          },
          "metadata": {}
        },
        {
          "output_type": "display_data",
          "data": {
            "text/plain": [
              "vils to take confession or interact with blessed materials; and the provision of protection from prison, theft, \n",
              "social adversaries and so on and so forth. It should be noted that, while there is a concern with the fate of \n",
              "Jubertus' body after death, there is no direct interaction wi th the dead present in this form of necromancy. \n",
              "Quoting Kieckhefer again: \u001b[32m\"Judicial and anecdotal evidence sugge sts that demonic magic, called 'nigromancy' or \u001b[0m\n",
              "\u001b[32m'necromancy', was largely the dom ain of priests\"\u001b[0m, perhaps because \"Christian ritual had from early centuries been \n",
              "the enactment not of oral tradition but of texts embodied\n"
            ],
            "text/html": [
              "<pre style=\"white-space:pre;overflow-x:auto;line-height:normal;font-family:Menlo,'DejaVu Sans Mono',consolas,'Courier New',monospace\">vils to take confession or interact with blessed materials; and the provision of protection from prison, theft, \n",
              "social adversaries and so on and so forth. It should be noted that, while there is a concern with the fate of \n",
              "Jubertus' body after death, there is no direct interaction wi th the dead present in this form of necromancy. \n",
              "Quoting Kieckhefer again: <span style=\"color: #008000; text-decoration-color: #008000\">\"Judicial and anecdotal evidence sugge sts that demonic magic, called 'nigromancy' or </span>\n",
              "<span style=\"color: #008000; text-decoration-color: #008000\">'necromancy', was largely the dom ain of priests\"</span>, perhaps because \"Christian ritual had from early centuries been \n",
              "the enactment not of oral tradition but of texts embodied\n",
              "</pre>\n"
            ]
          },
          "metadata": {}
        },
        {
          "output_type": "display_data",
          "data": {
            "text/plain": [
              "--------------------------------------------------\n"
            ],
            "text/html": [
              "<pre style=\"white-space:pre;overflow-x:auto;line-height:normal;font-family:Menlo,'DejaVu Sans Mono',consolas,'Courier New',monospace\">--------------------------------------------------\n",
              "</pre>\n"
            ]
          },
          "metadata": {}
        },
        {
          "output_type": "display_data",
          "data": {
            "text/plain": [
              "Chunk \u001b[1;36m14\u001b[0m:\n"
            ],
            "text/html": [
              "<pre style=\"white-space:pre;overflow-x:auto;line-height:normal;font-family:Menlo,'DejaVu Sans Mono',consolas,'Courier New',monospace\">Chunk <span style=\"color: #008080; text-decoration-color: #008080; font-weight: bold\">14</span>:\n",
              "</pre>\n"
            ]
          },
          "metadata": {}
        },
        {
          "output_type": "display_data",
          "data": {
            "text/plain": [
              "priests\", perhaps because \u001b[32m\"Christian ritual had from early centuries been the enactment not of oral tradition but \u001b[0m\n",
              "\u001b[32mof texts embodied in books\"\u001b[0m \u001b[1m(\u001b[0m\u001b[1;36m4\u001b[0m\u001b[1m)\u001b[0m. Necromancy, or at least the demonic form assigned to Jubertus, is a system of \n",
              "belief existing among Christian priests. Characterised by t he adoration of devils and the refusal of the \n",
              "sacraments, it is more truly a form of heresy, constructed in the terms of Christian orthodoxy and yet inherently \n",
              "oppose d to it. What, then, of the traditional form? Can divination using the dead be viewed in a similar way, and \n",
              "doe s this illuminate the\n"
            ],
            "text/html": [
              "<pre style=\"white-space:pre;overflow-x:auto;line-height:normal;font-family:Menlo,'DejaVu Sans Mono',consolas,'Courier New',monospace\">priests\", perhaps because <span style=\"color: #008000; text-decoration-color: #008000\">\"Christian ritual had from early centuries been the enactment not of oral tradition but </span>\n",
              "<span style=\"color: #008000; text-decoration-color: #008000\">of texts embodied in books\"</span> <span style=\"font-weight: bold\">(</span><span style=\"color: #008080; text-decoration-color: #008080; font-weight: bold\">4</span><span style=\"font-weight: bold\">)</span>. Necromancy, or at least the demonic form assigned to Jubertus, is a system of \n",
              "belief existing among Christian priests. Characterised by t he adoration of devils and the refusal of the \n",
              "sacraments, it is more truly a form of heresy, constructed in the terms of Christian orthodoxy and yet inherently \n",
              "oppose d to it. What, then, of the traditional form? Can divination using the dead be viewed in a similar way, and \n",
              "doe s this illuminate the\n",
              "</pre>\n"
            ]
          },
          "metadata": {}
        },
        {
          "output_type": "display_data",
          "data": {
            "text/plain": [
              "--------------------------------------------------\n"
            ],
            "text/html": [
              "<pre style=\"white-space:pre;overflow-x:auto;line-height:normal;font-family:Menlo,'DejaVu Sans Mono',consolas,'Courier New',monospace\">--------------------------------------------------\n",
              "</pre>\n"
            ]
          },
          "metadata": {}
        },
        {
          "output_type": "display_data",
          "data": {
            "text/plain": [
              "Chunk \u001b[1;36m15\u001b[0m:\n"
            ],
            "text/html": [
              "<pre style=\"white-space:pre;overflow-x:auto;line-height:normal;font-family:Menlo,'DejaVu Sans Mono',consolas,'Courier New',monospace\">Chunk <span style=\"color: #008080; text-decoration-color: #008080; font-weight: bold\">15</span>:\n",
              "</pre>\n"
            ]
          },
          "metadata": {}
        },
        {
          "output_type": "display_data",
          "data": {
            "text/plain": [
              "the traditional form? Can divination using the dead be viewed in a similar way, and doe s this illuminate the \n",
              "conflation of divination with diabolism? Before that question can be answered, it is necessary to out line the \n",
              "orthodox i dea of Christian death. Medieval Christianity predicated its concept of death on t he idea that \n",
              "separation between the living and dead, while ritually enforced, wa s not total and that the interest of the dead \n",
              "in the affairs of the living and ​ vice versa ​ was desirable. In \u001b[1;36m1025\u001b[0m, Bishop Gerard of Cambrai addressed those \n",
              "heretics who de\n"
            ],
            "text/html": [
              "<pre style=\"white-space:pre;overflow-x:auto;line-height:normal;font-family:Menlo,'DejaVu Sans Mono',consolas,'Courier New',monospace\">the traditional form? Can divination using the dead be viewed in a similar way, and doe s this illuminate the \n",
              "conflation of divination with diabolism? Before that question can be answered, it is necessary to out line the \n",
              "orthodox i dea of Christian death. Medieval Christianity predicated its concept of death on t he idea that \n",
              "separation between the living and dead, while ritually enforced, wa s not total and that the interest of the dead \n",
              "in the affairs of the living and ​ vice versa ​ was desirable. In <span style=\"color: #008080; text-decoration-color: #008080; font-weight: bold\">1025</span>, Bishop Gerard of Cambrai addressed those \n",
              "heretics who de\n",
              "</pre>\n"
            ]
          },
          "metadata": {}
        },
        {
          "output_type": "display_data",
          "data": {
            "text/plain": [
              "--------------------------------------------------\n"
            ],
            "text/html": [
              "<pre style=\"white-space:pre;overflow-x:auto;line-height:normal;font-family:Menlo,'DejaVu Sans Mono',consolas,'Courier New',monospace\">--------------------------------------------------\n",
              "</pre>\n"
            ]
          },
          "metadata": {}
        },
        {
          "output_type": "display_data",
          "data": {
            "text/plain": [
              "Chunk \u001b[1;36m16\u001b[0m:\n"
            ],
            "text/html": [
              "<pre style=\"white-space:pre;overflow-x:auto;line-height:normal;font-family:Menlo,'DejaVu Sans Mono',consolas,'Courier New',monospace\">Chunk <span style=\"color: #008080; text-decoration-color: #008080; font-weight: bold\">16</span>:\n",
              "</pre>\n"
            ]
          },
          "metadata": {}
        },
        {
          "output_type": "display_data",
          "data": {
            "text/plain": [
              "the living and ​ vice versa ​ was desirable. In \u001b[1;36m1025\u001b[0m, Bishop Gerard of Cambrai addressed those heretics who de nied\n",
              "the effectiveness of praying on behalf of the dead: It is true, lest anyone believe that penitence is of use only \n",
              "to the living and not to the dead, that many of the dead have been rescued from punishment by the piety of their \n",
              "living \u001b[33m...\u001b[0m \u001b[1m(\u001b[0min Le Goff, \u001b[1;36m106\u001b[0m\u001b[1m)\u001b[0m . This relief from punishment was an important element of acceptable Christian \n",
              "interaction with the dead. Since elevation or damnation of the deceased could not occur until\n"
            ],
            "text/html": [
              "<pre style=\"white-space:pre;overflow-x:auto;line-height:normal;font-family:Menlo,'DejaVu Sans Mono',consolas,'Courier New',monospace\">the living and ​ vice versa ​ was desirable. In <span style=\"color: #008080; text-decoration-color: #008080; font-weight: bold\">1025</span>, Bishop Gerard of Cambrai addressed those heretics who de nied\n",
              "the effectiveness of praying on behalf of the dead: It is true, lest anyone believe that penitence is of use only \n",
              "to the living and not to the dead, that many of the dead have been rescued from punishment by the piety of their \n",
              "living <span style=\"color: #808000; text-decoration-color: #808000\">...</span> <span style=\"font-weight: bold\">(</span>in Le Goff, <span style=\"color: #008080; text-decoration-color: #008080; font-weight: bold\">106</span><span style=\"font-weight: bold\">)</span> . This relief from punishment was an important element of acceptable Christian \n",
              "interaction with the dead. Since elevation or damnation of the deceased could not occur until\n",
              "</pre>\n"
            ]
          },
          "metadata": {}
        },
        {
          "output_type": "display_data",
          "data": {
            "text/plain": [
              "--------------------------------------------------\n"
            ],
            "text/html": [
              "<pre style=\"white-space:pre;overflow-x:auto;line-height:normal;font-family:Menlo,'DejaVu Sans Mono',consolas,'Courier New',monospace\">--------------------------------------------------\n",
              "</pre>\n"
            ]
          },
          "metadata": {}
        },
        {
          "output_type": "display_data",
          "data": {
            "text/plain": [
              "Chunk \u001b[1;36m17\u001b[0m:\n"
            ],
            "text/html": [
              "<pre style=\"white-space:pre;overflow-x:auto;line-height:normal;font-family:Menlo,'DejaVu Sans Mono',consolas,'Courier New',monospace\">Chunk <span style=\"color: #008080; text-decoration-color: #008080; font-weight: bold\">17</span>:\n",
              "</pre>\n"
            ]
          },
          "metadata": {}
        },
        {
          "output_type": "display_data",
          "data": {
            "text/plain": [
              "important element of acceptable Christian interaction with the dead. Since elevation or damnation of the deceased \n",
              "could not occur until the Last Judgment \u001b[1m(\u001b[0msave in the cases of martyred saints and m ortal sinners\u001b[1m)\u001b[0m, the continued \n",
              "failure of the apocalypse to occur caused what Jacques le Goff calls an \u001b[32m\"eschatological interlude\"\u001b[0m \u001b[1m(\u001b[0m\u001b[1;36m3\u001b[0m\u001b[1m)\u001b[0m. Christian \n",
              "thinkers set themselves to the fate of the soul during this time, and \"conceived that certain sinners might be \n",
              "saved, most probably by be ing subjected to a trial of some sort\u001b[1m[\u001b[0m;\u001b[1m]\u001b[0m a new belief was born, a belief that gradually \n",
              "matured unt il in the twelfth\n"
            ],
            "text/html": [
              "<pre style=\"white-space:pre;overflow-x:auto;line-height:normal;font-family:Menlo,'DejaVu Sans Mono',consolas,'Courier New',monospace\">important element of acceptable Christian interaction with the dead. Since elevation or damnation of the deceased \n",
              "could not occur until the Last Judgment <span style=\"font-weight: bold\">(</span>save in the cases of martyred saints and m ortal sinners<span style=\"font-weight: bold\">)</span>, the continued \n",
              "failure of the apocalypse to occur caused what Jacques le Goff calls an <span style=\"color: #008000; text-decoration-color: #008000\">\"eschatological interlude\"</span> <span style=\"font-weight: bold\">(</span><span style=\"color: #008080; text-decoration-color: #008080; font-weight: bold\">3</span><span style=\"font-weight: bold\">)</span>. Christian \n",
              "thinkers set themselves to the fate of the soul during this time, and \"conceived that certain sinners might be \n",
              "saved, most probably by be ing subjected to a trial of some sort<span style=\"font-weight: bold\">[</span>;<span style=\"font-weight: bold\">]</span> a new belief was born, a belief that gradually \n",
              "matured unt il in the twelfth\n",
              "</pre>\n"
            ]
          },
          "metadata": {}
        },
        {
          "output_type": "display_data",
          "data": {
            "text/plain": [
              "--------------------------------------------------\n"
            ],
            "text/html": [
              "<pre style=\"white-space:pre;overflow-x:auto;line-height:normal;font-family:Menlo,'DejaVu Sans Mono',consolas,'Courier New',monospace\">--------------------------------------------------\n",
              "</pre>\n"
            ]
          },
          "metadata": {}
        },
        {
          "output_type": "display_data",
          "data": {
            "text/plain": [
              "Chunk \u001b[1;36m18\u001b[0m:\n"
            ],
            "text/html": [
              "<pre style=\"white-space:pre;overflow-x:auto;line-height:normal;font-family:Menlo,'DejaVu Sans Mono',consolas,'Courier New',monospace\">Chunk <span style=\"color: #008080; text-decoration-color: #008080; font-weight: bold\">18</span>:\n",
              "</pre>\n"
            ]
          },
          "metadata": {}
        },
        {
          "output_type": "display_data",
          "data": {
            "text/plain": [
              "a trial of some sort\u001b[1m[\u001b[0m;\u001b[1m]\u001b[0m a new belief was born, a belief that gradually matured unt il in the twelfth century it \n",
              "became the belief in Purgatory\" \u001b[1m(\u001b[0mLe Goff, \u001b[1;36m3\u001b[0m\u001b[1m)\u001b[0m. From this, it can be seen that the dead have a vested interest in the\n",
              "affairs of the living, a n interest which is also apparent in the doctrine of intercession, in whi ch a living pe \n",
              "rson m ight pray to ​ ​ a particular saint to cure a particular worldly ill. As Paul Binski says, \"The doctrine of \n",
              "the intercession of the saints was based upon the capacity\n"
            ],
            "text/html": [
              "<pre style=\"white-space:pre;overflow-x:auto;line-height:normal;font-family:Menlo,'DejaVu Sans Mono',consolas,'Courier New',monospace\">a trial of some sort<span style=\"font-weight: bold\">[</span>;<span style=\"font-weight: bold\">]</span> a new belief was born, a belief that gradually matured unt il in the twelfth century it \n",
              "became the belief in Purgatory\" <span style=\"font-weight: bold\">(</span>Le Goff, <span style=\"color: #008080; text-decoration-color: #008080; font-weight: bold\">3</span><span style=\"font-weight: bold\">)</span>. From this, it can be seen that the dead have a vested interest in the\n",
              "affairs of the living, a n interest which is also apparent in the doctrine of intercession, in whi ch a living pe \n",
              "rson m ight pray to ​ ​ a particular saint to cure a particular worldly ill. As Paul Binski says, \"The doctrine of \n",
              "the intercession of the saints was based upon the capacity\n",
              "</pre>\n"
            ]
          },
          "metadata": {}
        },
        {
          "output_type": "display_data",
          "data": {
            "text/plain": [
              "--------------------------------------------------\n"
            ],
            "text/html": [
              "<pre style=\"white-space:pre;overflow-x:auto;line-height:normal;font-family:Menlo,'DejaVu Sans Mono',consolas,'Courier New',monospace\">--------------------------------------------------\n",
              "</pre>\n"
            ]
          },
          "metadata": {}
        },
        {
          "output_type": "display_data",
          "data": {
            "text/plain": [
              "Chunk \u001b[1;36m19\u001b[0m:\n"
            ],
            "text/html": [
              "<pre style=\"white-space:pre;overflow-x:auto;line-height:normal;font-family:Menlo,'DejaVu Sans Mono',consolas,'Courier New',monospace\">Chunk <span style=\"color: #008080; text-decoration-color: #008080; font-weight: bold\">19</span>:\n",
              "</pre>\n"
            ]
          },
          "metadata": {}
        },
        {
          "output_type": "display_data",
          "data": {
            "text/plain": [
              "particular worldly ill. As Paul Binski says, \u001b[32m\"The doctrine of the intercession of the saints was based upon the \u001b[0m\n",
              "\u001b[32mcapacity of the saints to break the ancient boundaries between the living and the dead. But the notion of \u001b[0m\n",
              "\u001b[32mintercession could be widened into a form of two-way traffic, whereby not only the saints but also the living could\u001b[0m\n",
              "\u001b[32mact, by prayers or other actions, on behalf of the dead\"\u001b[0m \u001b[1m(\u001b[0m\u001b[1;36m24\u001b[0m\u001b[1m)\u001b[0m. Necromancy, meanwhi le, has as its prerequisite \n",
              "\u001b[32m\"belief in both a form of life after death and the continued interest of the dead in the affairs of the living\"\u001b[0m \n",
              "\u001b[1m(\u001b[0mJones\n"
            ],
            "text/html": [
              "<pre style=\"white-space:pre;overflow-x:auto;line-height:normal;font-family:Menlo,'DejaVu Sans Mono',consolas,'Courier New',monospace\">particular worldly ill. As Paul Binski says, <span style=\"color: #008000; text-decoration-color: #008000\">\"The doctrine of the intercession of the saints was based upon the </span>\n",
              "<span style=\"color: #008000; text-decoration-color: #008000\">capacity of the saints to break the ancient boundaries between the living and the dead. But the notion of </span>\n",
              "<span style=\"color: #008000; text-decoration-color: #008000\">intercession could be widened into a form of two-way traffic, whereby not only the saints but also the living could</span>\n",
              "<span style=\"color: #008000; text-decoration-color: #008000\">act, by prayers or other actions, on behalf of the dead\"</span> <span style=\"font-weight: bold\">(</span><span style=\"color: #008080; text-decoration-color: #008080; font-weight: bold\">24</span><span style=\"font-weight: bold\">)</span>. Necromancy, meanwhi le, has as its prerequisite \n",
              "<span style=\"color: #008000; text-decoration-color: #008000\">\"belief in both a form of life after death and the continued interest of the dead in the affairs of the living\"</span> \n",
              "<span style=\"font-weight: bold\">(</span>Jones\n",
              "</pre>\n"
            ]
          },
          "metadata": {}
        },
        {
          "output_type": "display_data",
          "data": {
            "text/plain": [
              "--------------------------------------------------\n"
            ],
            "text/html": [
              "<pre style=\"white-space:pre;overflow-x:auto;line-height:normal;font-family:Menlo,'DejaVu Sans Mono',consolas,'Courier New',monospace\">--------------------------------------------------\n",
              "</pre>\n"
            ]
          },
          "metadata": {}
        },
        {
          "output_type": "display_data",
          "data": {
            "text/plain": [
              "Chunk \u001b[1;36m20\u001b[0m:\n"
            ],
            "text/html": [
              "<pre style=\"white-space:pre;overflow-x:auto;line-height:normal;font-family:Menlo,'DejaVu Sans Mono',consolas,'Courier New',monospace\">Chunk <span style=\"color: #008080; text-decoration-color: #008080; font-weight: bold\">20</span>:\n",
              "</pre>\n"
            ]
          },
          "metadata": {}
        },
        {
          "output_type": "display_data",
          "data": {
            "text/plain": [
              "a form of life after death and the continued interest of the dead in the affairs of the living\" \u001b[1m(\u001b[0mJones \u001b[1;36m6541\u001b[0m\u001b[1m)\u001b[0m. \n",
              "Christianity posse ssed the former, but Purgatory provided the latter, and gave Christians a reason to interact \n",
              "with the deceased in wha t amounted to a transaction between the dead and the living, c oncerning the future; \n",
              "essentially, an act of necromancy. Tellingly, Le Goff also identifies a period \u001b[32m\"between Gregory the Great and the \u001b[0m\n",
              "\u001b[32mtwelfth century\"\u001b[0m \u001b[1m(\u001b[0m\u001b[1;36m96\u001b[0m\u001b[1m)\u001b[0m in which \u001b[32m\"little progress was made in the construction of Purgatory\"\u001b[0m, in whi ch a \u001b[32m\"typology \u001b[0m\n",
              "\u001b[32mof sins\"\u001b[0m is constructed instead.\n"
            ],
            "text/html": [
              "<pre style=\"white-space:pre;overflow-x:auto;line-height:normal;font-family:Menlo,'DejaVu Sans Mono',consolas,'Courier New',monospace\">a form of life after death and the continued interest of the dead in the affairs of the living\" <span style=\"font-weight: bold\">(</span>Jones <span style=\"color: #008080; text-decoration-color: #008080; font-weight: bold\">6541</span><span style=\"font-weight: bold\">)</span>. \n",
              "Christianity posse ssed the former, but Purgatory provided the latter, and gave Christians a reason to interact \n",
              "with the deceased in wha t amounted to a transaction between the dead and the living, c oncerning the future; \n",
              "essentially, an act of necromancy. Tellingly, Le Goff also identifies a period <span style=\"color: #008000; text-decoration-color: #008000\">\"between Gregory the Great and the </span>\n",
              "<span style=\"color: #008000; text-decoration-color: #008000\">twelfth century\"</span> <span style=\"font-weight: bold\">(</span><span style=\"color: #008080; text-decoration-color: #008080; font-weight: bold\">96</span><span style=\"font-weight: bold\">)</span> in which <span style=\"color: #008000; text-decoration-color: #008000\">\"little progress was made in the construction of Purgatory\"</span>, in whi ch a <span style=\"color: #008000; text-decoration-color: #008000\">\"typology </span>\n",
              "<span style=\"color: #008000; text-decoration-color: #008000\">of sins\"</span> is constructed instead.\n",
              "</pre>\n"
            ]
          },
          "metadata": {}
        },
        {
          "output_type": "display_data",
          "data": {
            "text/plain": [
              "--------------------------------------------------\n"
            ],
            "text/html": [
              "<pre style=\"white-space:pre;overflow-x:auto;line-height:normal;font-family:Menlo,'DejaVu Sans Mono',consolas,'Courier New',monospace\">--------------------------------------------------\n",
              "</pre>\n"
            ]
          },
          "metadata": {}
        },
        {
          "output_type": "display_data",
          "data": {
            "text/plain": [
              "Chunk \u001b[1;36m21\u001b[0m:\n"
            ],
            "text/html": [
              "<pre style=\"white-space:pre;overflow-x:auto;line-height:normal;font-family:Menlo,'DejaVu Sans Mono',consolas,'Courier New',monospace\">Chunk <span style=\"color: #008080; text-decoration-color: #008080; font-weight: bold\">21</span>:\n",
              "</pre>\n"
            ]
          },
          "metadata": {}
        },
        {
          "output_type": "display_data",
          "data": {
            "text/plain": [
              "which \u001b[32m\"little progress was made in the construction of Purgatory\"\u001b[0m, in whi ch a \u001b[32m\"typology of sins\"\u001b[0m is constructed \n",
              "instead. Perhaps this theological stagnation, this reluctance to affirm what occurs between the first and Last \n",
              "Judgm ents, caused an upsur ge in speculations on the topic, which themselves gave rise to necromantic - in the \n",
              "traditional sense - practices. The necromancy constructed by this theological silence was based in Christian \n",
              "theology, a nd upon the behaviour of the dead as reported in Christian ​ exempla ​ or, for that matter, secular \n",
              "stories in which the dead, concerned for their souls,\n"
            ],
            "text/html": [
              "<pre style=\"white-space:pre;overflow-x:auto;line-height:normal;font-family:Menlo,'DejaVu Sans Mono',consolas,'Courier New',monospace\">which <span style=\"color: #008000; text-decoration-color: #008000\">\"little progress was made in the construction of Purgatory\"</span>, in whi ch a <span style=\"color: #008000; text-decoration-color: #008000\">\"typology of sins\"</span> is constructed \n",
              "instead. Perhaps this theological stagnation, this reluctance to affirm what occurs between the first and Last \n",
              "Judgm ents, caused an upsur ge in speculations on the topic, which themselves gave rise to necromantic - in the \n",
              "traditional sense - practices. The necromancy constructed by this theological silence was based in Christian \n",
              "theology, a nd upon the behaviour of the dead as reported in Christian ​ exempla ​ or, for that matter, secular \n",
              "stories in which the dead, concerned for their souls,\n",
              "</pre>\n"
            ]
          },
          "metadata": {}
        },
        {
          "output_type": "display_data",
          "data": {
            "text/plain": [
              "--------------------------------------------------\n"
            ],
            "text/html": [
              "<pre style=\"white-space:pre;overflow-x:auto;line-height:normal;font-family:Menlo,'DejaVu Sans Mono',consolas,'Courier New',monospace\">--------------------------------------------------\n",
              "</pre>\n"
            ]
          },
          "metadata": {}
        },
        {
          "output_type": "display_data",
          "data": {
            "text/plain": [
              "Chunk \u001b[1;36m22\u001b[0m:\n"
            ],
            "text/html": [
              "<pre style=\"white-space:pre;overflow-x:auto;line-height:normal;font-family:Menlo,'DejaVu Sans Mono',consolas,'Courier New',monospace\">Chunk <span style=\"color: #008080; text-decoration-color: #008080; font-weight: bold\">22</span>:\n",
              "</pre>\n"
            ]
          },
          "metadata": {}
        },
        {
          "output_type": "display_data",
          "data": {
            "text/plain": [
              "reported in Christian ​ exempla ​ or, for that matter, secular stories in which the dead, concerned for their souls,\n",
              "are more than prepared to enact influence upon the living. An individual possessed of will and spiritual fortitude \n",
              "could perhaps negotiate with them and bargain with them in much the same way as the clerical diabolist did with \n",
              "devils. I contend that medieval Christian necromancy wa s so similar to clerical devil-wrangling in its heretical \n",
              "perception of doctrine, its technical practices, in its practitioners, and in its essentially transactive nature, \n",
              "that a conflation be tween the two wa s largely\n"
            ],
            "text/html": [
              "<pre style=\"white-space:pre;overflow-x:auto;line-height:normal;font-family:Menlo,'DejaVu Sans Mono',consolas,'Courier New',monospace\">reported in Christian ​ exempla ​ or, for that matter, secular stories in which the dead, concerned for their souls,\n",
              "are more than prepared to enact influence upon the living. An individual possessed of will and spiritual fortitude \n",
              "could perhaps negotiate with them and bargain with them in much the same way as the clerical diabolist did with \n",
              "devils. I contend that medieval Christian necromancy wa s so similar to clerical devil-wrangling in its heretical \n",
              "perception of doctrine, its technical practices, in its practitioners, and in its essentially transactive nature, \n",
              "that a conflation be tween the two wa s largely\n",
              "</pre>\n"
            ]
          },
          "metadata": {}
        },
        {
          "output_type": "display_data",
          "data": {
            "text/plain": [
              "--------------------------------------------------\n"
            ],
            "text/html": [
              "<pre style=\"white-space:pre;overflow-x:auto;line-height:normal;font-family:Menlo,'DejaVu Sans Mono',consolas,'Courier New',monospace\">--------------------------------------------------\n",
              "</pre>\n"
            ]
          },
          "metadata": {}
        },
        {
          "output_type": "display_data",
          "data": {
            "text/plain": [
              "Chunk \u001b[1;36m23\u001b[0m:\n"
            ],
            "text/html": [
              "<pre style=\"white-space:pre;overflow-x:auto;line-height:normal;font-family:Menlo,'DejaVu Sans Mono',consolas,'Courier New',monospace\">Chunk <span style=\"color: #008080; text-decoration-color: #008080; font-weight: bold\">23</span>:\n",
              "</pre>\n"
            ]
          },
          "metadata": {}
        },
        {
          "output_type": "display_data",
          "data": {
            "text/plain": [
              "practices, in its practitioners, and in its essentially transactive nature, that a conflation be tween the two wa s\n",
              "largely inevitable. Indeed, the conflation originates within necromantic rituals themselves, as practitioners used \n",
              "the devils as a bargaining chip in their interactions with the dead. Al as, there isn't time to discuss the wide \n",
              "breadth of rituals and ​ exempla ​ that I'd like to, but I hope the examples I'm about to give will illustrate the \n",
              "point adequately. Shinners' collection includes two texts concerned entirely with the manifestation of the dead: \n",
              "\u001b[32m'The Young Priest Walchelin'\u001b[0ms Purgatorial Vision' \u001b[1m(\u001b[0m\u001b[1;36m246\u001b[0m\u001b[1m)\u001b[0m and the\n"
            ],
            "text/html": [
              "<pre style=\"white-space:pre;overflow-x:auto;line-height:normal;font-family:Menlo,'DejaVu Sans Mono',consolas,'Courier New',monospace\">practices, in its practitioners, and in its essentially transactive nature, that a conflation be tween the two wa s\n",
              "largely inevitable. Indeed, the conflation originates within necromantic rituals themselves, as practitioners used \n",
              "the devils as a bargaining chip in their interactions with the dead. Al as, there isn't time to discuss the wide \n",
              "breadth of rituals and ​ exempla ​ that I'd like to, but I hope the examples I'm about to give will illustrate the \n",
              "point adequately. Shinners' collection includes two texts concerned entirely with the manifestation of the dead: \n",
              "<span style=\"color: #008000; text-decoration-color: #008000\">'The Young Priest Walchelin'</span>s Purgatorial Vision' <span style=\"font-weight: bold\">(</span><span style=\"color: #008080; text-decoration-color: #008080; font-weight: bold\">246</span><span style=\"font-weight: bold\">)</span> and the\n",
              "</pre>\n"
            ]
          },
          "metadata": {}
        },
        {
          "output_type": "display_data",
          "data": {
            "text/plain": [
              "--------------------------------------------------\n"
            ],
            "text/html": [
              "<pre style=\"white-space:pre;overflow-x:auto;line-height:normal;font-family:Menlo,'DejaVu Sans Mono',consolas,'Courier New',monospace\">--------------------------------------------------\n",
              "</pre>\n"
            ]
          },
          "metadata": {}
        },
        {
          "output_type": "display_data",
          "data": {
            "text/plain": [
              "Chunk \u001b[1;36m24\u001b[0m:\n"
            ],
            "text/html": [
              "<pre style=\"white-space:pre;overflow-x:auto;line-height:normal;font-family:Menlo,'DejaVu Sans Mono',consolas,'Courier New',monospace\">Chunk <span style=\"color: #008080; text-decoration-color: #008080; font-weight: bold\">24</span>:\n",
              "</pre>\n"
            ]
          },
          "metadata": {}
        },
        {
          "output_type": "display_data",
          "data": {
            "text/plain": [
              "includes two texts concerned entirely with the manifestation of the dead: \u001b[32m'The Young Priest Walchelin'\u001b[0ms Purgatorial\n",
              "Vision' \u001b[1m(\u001b[0m\u001b[1;36m246\u001b[0m\u001b[1m)\u001b[0m and the popul ar fifteenth-century ghost stories which follow it \u001b[1m(\u001b[0m\u001b[1;36m252\u001b[0m\u001b[1m)\u001b[0m. The Purgatorial Vision is an \n",
              "exemplary tale, an exploration of individuals' transgressions and the resultant puni shments in the after-death. \n",
              "Dating from about \u001b[1;36m1131\u001b[0m, it reports the manifestation of a veritable cavalcade of the damned before the eyes of the \n",
              "titular cleric. Among the damned souls, who \u001b[32m\" lamented bitterly and urged each other to hurry\"\u001b[0m toward their \n",
              "destination, W alchelin recognises \u001b[32m\"many of his neighbours who had recently died\"\u001b[0m, among\n"
            ],
            "text/html": [
              "<pre style=\"white-space:pre;overflow-x:auto;line-height:normal;font-family:Menlo,'DejaVu Sans Mono',consolas,'Courier New',monospace\">includes two texts concerned entirely with the manifestation of the dead: <span style=\"color: #008000; text-decoration-color: #008000\">'The Young Priest Walchelin'</span>s Purgatorial\n",
              "Vision' <span style=\"font-weight: bold\">(</span><span style=\"color: #008080; text-decoration-color: #008080; font-weight: bold\">246</span><span style=\"font-weight: bold\">)</span> and the popul ar fifteenth-century ghost stories which follow it <span style=\"font-weight: bold\">(</span><span style=\"color: #008080; text-decoration-color: #008080; font-weight: bold\">252</span><span style=\"font-weight: bold\">)</span>. The Purgatorial Vision is an \n",
              "exemplary tale, an exploration of individuals' transgressions and the resultant puni shments in the after-death. \n",
              "Dating from about <span style=\"color: #008080; text-decoration-color: #008080; font-weight: bold\">1131</span>, it reports the manifestation of a veritable cavalcade of the damned before the eyes of the \n",
              "titular cleric. Among the damned souls, who <span style=\"color: #008000; text-decoration-color: #008000\">\" lamented bitterly and urged each other to hurry\"</span> toward their \n",
              "destination, W alchelin recognises <span style=\"color: #008000; text-decoration-color: #008000\">\"many of his neighbours who had recently died\"</span>, among\n",
              "</pre>\n"
            ]
          },
          "metadata": {}
        },
        {
          "output_type": "display_data",
          "data": {
            "text/plain": [
              "--------------------------------------------------\n"
            ],
            "text/html": [
              "<pre style=\"white-space:pre;overflow-x:auto;line-height:normal;font-family:Menlo,'DejaVu Sans Mono',consolas,'Courier New',monospace\">--------------------------------------------------\n",
              "</pre>\n"
            ]
          },
          "metadata": {}
        },
        {
          "output_type": "display_data",
          "data": {
            "text/plain": [
              "Chunk \u001b[1;36m25\u001b[0m:\n"
            ],
            "text/html": [
              "<pre style=\"white-space:pre;overflow-x:auto;line-height:normal;font-family:Menlo,'DejaVu Sans Mono',consolas,'Courier New',monospace\">Chunk <span style=\"color: #008080; text-decoration-color: #008080; font-weight: bold\">25</span>:\n",
              "</pre>\n"
            ]
          },
          "metadata": {}
        },
        {
          "output_type": "display_data",
          "data": {
            "text/plain": [
              "urged each other to hurry\" toward their destination, W alchelin recognises \u001b[32m\"many of his neighbours who had recently\u001b[0m\n",
              "\u001b[32mdied\"\u001b[0m, among them a known m urderer attended by a \u001b[32m\"fearful demon\"\u001b[0m who is \u001b[32m\"mercilessly goading his back and loins \u001b[0m\n",
              "\u001b[32mwith red-hot spurs while he streamed with blood\"\u001b[0m \u001b[1m(\u001b[0m\u001b[1;36m247\u001b[0m\u001b[1m)\u001b[0m. Note the separation between the deceased individual and the\n",
              "demon - there is no hint that the manifested dead are themselves demons, \u001b[32m\"pythonic spirits\"\u001b[0m or anything but \n",
              "actually deceased persons of Walchelin's acquaintance. This is a story intended to show the dead to the living, who\n",
              "\" should constantly have these things in\n"
            ],
            "text/html": [
              "<pre style=\"white-space:pre;overflow-x:auto;line-height:normal;font-family:Menlo,'DejaVu Sans Mono',consolas,'Courier New',monospace\">urged each other to hurry\" toward their destination, W alchelin recognises <span style=\"color: #008000; text-decoration-color: #008000\">\"many of his neighbours who had recently</span>\n",
              "<span style=\"color: #008000; text-decoration-color: #008000\">died\"</span>, among them a known m urderer attended by a <span style=\"color: #008000; text-decoration-color: #008000\">\"fearful demon\"</span> who is <span style=\"color: #008000; text-decoration-color: #008000\">\"mercilessly goading his back and loins </span>\n",
              "<span style=\"color: #008000; text-decoration-color: #008000\">with red-hot spurs while he streamed with blood\"</span> <span style=\"font-weight: bold\">(</span><span style=\"color: #008080; text-decoration-color: #008080; font-weight: bold\">247</span><span style=\"font-weight: bold\">)</span>. Note the separation between the deceased individual and the\n",
              "demon - there is no hint that the manifested dead are themselves demons, <span style=\"color: #008000; text-decoration-color: #008000\">\"pythonic spirits\"</span> or anything but \n",
              "actually deceased persons of Walchelin's acquaintance. This is a story intended to show the dead to the living, who\n",
              "\" should constantly have these things in\n",
              "</pre>\n"
            ]
          },
          "metadata": {}
        },
        {
          "output_type": "display_data",
          "data": {
            "text/plain": [
              "--------------------------------------------------\n"
            ],
            "text/html": [
              "<pre style=\"white-space:pre;overflow-x:auto;line-height:normal;font-family:Menlo,'DejaVu Sans Mono',consolas,'Courier New',monospace\">--------------------------------------------------\n",
              "</pre>\n"
            ]
          },
          "metadata": {}
        },
        {
          "output_type": "display_data",
          "data": {
            "text/plain": [
              "Chunk \u001b[1;36m26\u001b[0m:\n"
            ],
            "text/html": [
              "<pre style=\"white-space:pre;overflow-x:auto;line-height:normal;font-family:Menlo,'DejaVu Sans Mono',consolas,'Courier New',monospace\">Chunk <span style=\"color: #008080; text-decoration-color: #008080; font-weight: bold\">26</span>:\n",
              "</pre>\n"
            ]
          },
          "metadata": {}
        },
        {
          "output_type": "display_data",
          "data": {
            "text/plain": [
              "This is a story intended to show the dead to the living, who \u001b[32m\" should constantly have these things in mind and \u001b[0m\n",
              "\u001b[32mshould tremble and take heed not to incur such dire penalties for their sins\"\u001b[0m \u001b[1m(\u001b[0m\u001b[1;36m251\u001b[0m\u001b[1m)\u001b[0m. It is also worth considering \n",
              "that this encounter does not feature the necromantic transaction - Walchelin has not conjured up t he dead but \n",
              "stumbled across them, and he does not request service of them in return for their salvation. The spectre of William\n",
              "of Glos tells Walchelin his story - concerning his usury and interference with rites of inheritance while alive -\n"
            ],
            "text/html": [
              "<pre style=\"white-space:pre;overflow-x:auto;line-height:normal;font-family:Menlo,'DejaVu Sans Mono',consolas,'Courier New',monospace\">This is a story intended to show the dead to the living, who <span style=\"color: #008000; text-decoration-color: #008000\">\" should constantly have these things in mind and </span>\n",
              "<span style=\"color: #008000; text-decoration-color: #008000\">should tremble and take heed not to incur such dire penalties for their sins\"</span> <span style=\"font-weight: bold\">(</span><span style=\"color: #008080; text-decoration-color: #008080; font-weight: bold\">251</span><span style=\"font-weight: bold\">)</span>. It is also worth considering \n",
              "that this encounter does not feature the necromantic transaction - Walchelin has not conjured up t he dead but \n",
              "stumbled across them, and he does not request service of them in return for their salvation. The spectre of William\n",
              "of Glos tells Walchelin his story - concerning his usury and interference with rites of inheritance while alive -\n",
              "</pre>\n"
            ]
          },
          "metadata": {}
        },
        {
          "output_type": "display_data",
          "data": {
            "text/plain": [
              "--------------------------------------------------\n"
            ],
            "text/html": [
              "<pre style=\"white-space:pre;overflow-x:auto;line-height:normal;font-family:Menlo,'DejaVu Sans Mono',consolas,'Courier New',monospace\">--------------------------------------------------\n",
              "</pre>\n"
            ]
          },
          "metadata": {}
        },
        {
          "output_type": "display_data",
          "data": {
            "text/plain": [
              "Chunk \u001b[1;36m27\u001b[0m:\n"
            ],
            "text/html": [
              "<pre style=\"white-space:pre;overflow-x:auto;line-height:normal;font-family:Menlo,'DejaVu Sans Mono',consolas,'Courier New',monospace\">Chunk <span style=\"color: #008080; text-decoration-color: #008080; font-weight: bold\">27</span>:\n",
              "</pre>\n"
            ]
          },
          "metadata": {}
        },
        {
          "output_type": "display_data",
          "data": {
            "text/plain": [
              "William of Glos tells Walchelin his story - concerning his usury and interference with rites of inheritance while \n",
              "alive - and begs the priest to tell \u001b[32m\"my wife Beatrice and son R oger that they must help me by quickly restoring to\u001b[0m\n",
              "\u001b[32mthe heir the pledge\"\u001b[0m William denied to its rightful owne r \u001b[1m(\u001b[0m\u001b[1;36m250\u001b[0m\u001b[1m)\u001b[0m. Walchelin is initially reluctant, saying \u001b[32m\"Roger \u001b[0m\n",
              "\u001b[32mof Glos... wi ll deride me as a madman\"\u001b[0m, but yields after \u001b[32m\"repeated prayers\"\u001b[0m \u001b[1m(\u001b[0m\u001b[1;36m250\u001b[0m\u001b[1m)\u001b[0m. The dead who manifest \n",
              "themselves to Walchelin offer no temporal reward or knowledge of the future in return for their salvation. The \n",
              "ghost stories of\n"
            ],
            "text/html": [
              "<pre style=\"white-space:pre;overflow-x:auto;line-height:normal;font-family:Menlo,'DejaVu Sans Mono',consolas,'Courier New',monospace\">William of Glos tells Walchelin his story - concerning his usury and interference with rites of inheritance while \n",
              "alive - and begs the priest to tell <span style=\"color: #008000; text-decoration-color: #008000\">\"my wife Beatrice and son R oger that they must help me by quickly restoring to</span>\n",
              "<span style=\"color: #008000; text-decoration-color: #008000\">the heir the pledge\"</span> William denied to its rightful owne r <span style=\"font-weight: bold\">(</span><span style=\"color: #008080; text-decoration-color: #008080; font-weight: bold\">250</span><span style=\"font-weight: bold\">)</span>. Walchelin is initially reluctant, saying <span style=\"color: #008000; text-decoration-color: #008000\">\"Roger </span>\n",
              "<span style=\"color: #008000; text-decoration-color: #008000\">of Glos... wi ll deride me as a madman\"</span>, but yields after <span style=\"color: #008000; text-decoration-color: #008000\">\"repeated prayers\"</span> <span style=\"font-weight: bold\">(</span><span style=\"color: #008080; text-decoration-color: #008080; font-weight: bold\">250</span><span style=\"font-weight: bold\">)</span>. The dead who manifest \n",
              "themselves to Walchelin offer no temporal reward or knowledge of the future in return for their salvation. The \n",
              "ghost stories of\n",
              "</pre>\n"
            ]
          },
          "metadata": {}
        },
        {
          "output_type": "display_data",
          "data": {
            "text/plain": [
              "--------------------------------------------------\n"
            ],
            "text/html": [
              "<pre style=\"white-space:pre;overflow-x:auto;line-height:normal;font-family:Menlo,'DejaVu Sans Mono',consolas,'Courier New',monospace\">--------------------------------------------------\n",
              "</pre>\n"
            ]
          },
          "metadata": {}
        },
        {
          "output_type": "display_data",
          "data": {
            "text/plain": [
              "Chunk \u001b[1;36m28\u001b[0m:\n"
            ],
            "text/html": [
              "<pre style=\"white-space:pre;overflow-x:auto;line-height:normal;font-family:Menlo,'DejaVu Sans Mono',consolas,'Courier New',monospace\">Chunk <span style=\"color: #008080; text-decoration-color: #008080; font-weight: bold\">28</span>:\n",
              "</pre>\n"
            ]
          },
          "metadata": {}
        },
        {
          "output_type": "display_data",
          "data": {
            "text/plain": [
              "to Walchelin offer no temporal reward or knowledge of the future in return for their salvation. The ghost stories \n",
              "of some three centuries later are rather more transactory. In the very first \u001b[1m(\u001b[0m\u001b[1;36m253\u001b[0m\u001b[1m)\u001b[0m, a man is frightened by a spirit\n",
              "which looks like \u001b[32m\"a horse standing on i ts hind legs with its forelegs outstretched\"\u001b[0m, which he orders \u001b[32m\"in the name \u001b[0m\n",
              "\u001b[32mof Jesus Christ not to harm him\"\u001b[0m, before he \u001b[32m\"conjured it \u001b[0m\u001b[32m\"\u001b[0m. Only when conjured doe s the spirit identify itself as \n",
              "a deceased person and explain its damnation - and it offers to serve the living m\n"
            ],
            "text/html": [
              "<pre style=\"white-space:pre;overflow-x:auto;line-height:normal;font-family:Menlo,'DejaVu Sans Mono',consolas,'Courier New',monospace\">to Walchelin offer no temporal reward or knowledge of the future in return for their salvation. The ghost stories \n",
              "of some three centuries later are rather more transactory. In the very first <span style=\"font-weight: bold\">(</span><span style=\"color: #008080; text-decoration-color: #008080; font-weight: bold\">253</span><span style=\"font-weight: bold\">)</span>, a man is frightened by a spirit\n",
              "which looks like <span style=\"color: #008000; text-decoration-color: #008000\">\"a horse standing on i ts hind legs with its forelegs outstretched\"</span>, which he orders <span style=\"color: #008000; text-decoration-color: #008000\">\"in the name </span>\n",
              "<span style=\"color: #008000; text-decoration-color: #008000\">of Jesus Christ not to harm him\"</span>, before he <span style=\"color: #008000; text-decoration-color: #008000\">\"conjured it \"</span>. Only when conjured doe s the spirit identify itself as \n",
              "a deceased person and explain its damnation - and it offers to serve the living m\n",
              "</pre>\n"
            ]
          },
          "metadata": {}
        },
        {
          "output_type": "display_data",
          "data": {
            "text/plain": [
              "--------------------------------------------------\n"
            ],
            "text/html": [
              "<pre style=\"white-space:pre;overflow-x:auto;line-height:normal;font-family:Menlo,'DejaVu Sans Mono',consolas,'Courier New',monospace\">--------------------------------------------------\n",
              "</pre>\n"
            ]
          },
          "metadata": {}
        },
        {
          "output_type": "display_data",
          "data": {
            "text/plain": [
              "Chunk \u001b[1;36m29\u001b[0m:\n"
            ],
            "text/html": [
              "<pre style=\"white-space:pre;overflow-x:auto;line-height:normal;font-family:Menlo,'DejaVu Sans Mono',consolas,'Courier New',monospace\">Chunk <span style=\"color: #008080; text-decoration-color: #008080; font-weight: bold\">29</span>:\n",
              "</pre>\n"
            ]
          },
          "metadata": {}
        },
        {
          "output_type": "display_data",
          "data": {
            "text/plain": [
              "spirit identify itself as a deceased person and explain its damnation - and it offers to serve the living m an, \n",
              "carrying hi s burden to a nearby river. The man \u001b[32m\"had the ghost absolved, and ha d masses sung f or him\"\u001b[0m. The \n",
              "initial manifestation, an animal doing something unna tural, has a somewhat demonic aspect, and it offers a service\n",
              "automatically, in return for the salvation onl y a living pe rson's piety can grant it. No knowledge of the future \n",
              "is offered, but the transaction, be ginning wi th the dead serving the living, is there. In\n"
            ],
            "text/html": [
              "<pre style=\"white-space:pre;overflow-x:auto;line-height:normal;font-family:Menlo,'DejaVu Sans Mono',consolas,'Courier New',monospace\">spirit identify itself as a deceased person and explain its damnation - and it offers to serve the living m an, \n",
              "carrying hi s burden to a nearby river. The man <span style=\"color: #008000; text-decoration-color: #008000\">\"had the ghost absolved, and ha d masses sung f or him\"</span>. The \n",
              "initial manifestation, an animal doing something unna tural, has a somewhat demonic aspect, and it offers a service\n",
              "automatically, in return for the salvation onl y a living pe rson's piety can grant it. No knowledge of the future \n",
              "is offered, but the transaction, be ginning wi th the dead serving the living, is there. In\n",
              "</pre>\n"
            ]
          },
          "metadata": {}
        },
        {
          "output_type": "display_data",
          "data": {
            "text/plain": [
              "--------------------------------------------------\n"
            ],
            "text/html": [
              "<pre style=\"white-space:pre;overflow-x:auto;line-height:normal;font-family:Menlo,'DejaVu Sans Mono',consolas,'Courier New',monospace\">--------------------------------------------------\n",
              "</pre>\n"
            ]
          },
          "metadata": {}
        },
        {
          "output_type": "display_data",
          "data": {
            "text/plain": [
              "Chunk \u001b[1;36m30\u001b[0m:\n"
            ],
            "text/html": [
              "<pre style=\"white-space:pre;overflow-x:auto;line-height:normal;font-family:Menlo,'DejaVu Sans Mono',consolas,'Courier New',monospace\">Chunk <span style=\"color: #008080; text-decoration-color: #008080; font-weight: bold\">30</span>:\n",
              "</pre>\n"
            ]
          },
          "metadata": {}
        },
        {
          "output_type": "display_data",
          "data": {
            "text/plain": [
              "of the future is offered, but the transaction, be ginning wi th the dead serving the living, is there. In the next \n",
              "story, a tailor being vexed by the spirit of an excommunicated man is told to arrange masses for the spirit if he \n",
              "wishes to be left alone. In order to inform the ghost that this has been done, the tailor and his neighbour must \n",
              "wait several days before taking \u001b[32m\"inscribed amulets... to ward off the terrors of the night\"\u001b[0m \u001b[1m(\u001b[0m\u001b[1;36m255\u001b[0m\u001b[1m)\u001b[0m to a hill near an\n",
              "abbey. Upon a rrival at the hill, they \"drew a large circle on\n"
            ],
            "text/html": [
              "<pre style=\"white-space:pre;overflow-x:auto;line-height:normal;font-family:Menlo,'DejaVu Sans Mono',consolas,'Courier New',monospace\">of the future is offered, but the transaction, be ginning wi th the dead serving the living, is there. In the next \n",
              "story, a tailor being vexed by the spirit of an excommunicated man is told to arrange masses for the spirit if he \n",
              "wishes to be left alone. In order to inform the ghost that this has been done, the tailor and his neighbour must \n",
              "wait several days before taking <span style=\"color: #008000; text-decoration-color: #008000\">\"inscribed amulets... to ward off the terrors of the night\"</span> <span style=\"font-weight: bold\">(</span><span style=\"color: #008080; text-decoration-color: #008080; font-weight: bold\">255</span><span style=\"font-weight: bold\">)</span> to a hill near an\n",
              "abbey. Upon a rrival at the hill, they \"drew a large circle on\n",
              "</pre>\n"
            ]
          },
          "metadata": {}
        },
        {
          "output_type": "display_data",
          "data": {
            "text/plain": [
              "--------------------------------------------------\n"
            ],
            "text/html": [
              "<pre style=\"white-space:pre;overflow-x:auto;line-height:normal;font-family:Menlo,'DejaVu Sans Mono',consolas,'Courier New',monospace\">--------------------------------------------------\n",
              "</pre>\n"
            ]
          },
          "metadata": {}
        },
        {
          "output_type": "display_data",
          "data": {
            "text/plain": [
              "Chunk \u001b[1;36m31\u001b[0m:\n"
            ],
            "text/html": [
              "<pre style=\"white-space:pre;overflow-x:auto;line-height:normal;font-family:Menlo,'DejaVu Sans Mono',consolas,'Courier New',monospace\">Chunk <span style=\"color: #008080; text-decoration-color: #008080; font-weight: bold\">31</span>:\n",
              "</pre>\n"
            ]
          },
          "metadata": {}
        },
        {
          "output_type": "display_data",
          "data": {
            "text/plain": [
              "night\" \u001b[1m(\u001b[0m\u001b[1;36m255\u001b[0m\u001b[1m)\u001b[0m to a hill near an abbey. Upon a rrival at the hill, they \u001b[32m\"drew a large circle on the ground, a nd \u001b[0m\n",
              "\u001b[32minscribed a cross inside it. He carried on him the four Gospels and other sacred writings, and as he stood i n the \u001b[0m\n",
              "\u001b[32mmiddle of the circle, he put four small medallions at the borders of the circle to form the shape of a cross. On e \u001b[0m\n",
              "\u001b[32mach medallion were written saving words, like \u001b[0m\u001b[32m[\u001b[0m\u001b[32m'\u001b[0m\u001b[32m]\u001b[0m\u001b[32mJesus of Nazareth\u001b[0m\u001b[32m[\u001b[0m\u001b[32m'\u001b[0m\u001b[32m]\u001b[0m\u001b[32m and so forth. The n he awaited the arrival of\u001b[0m\n",
              "\u001b[32mthe ghost\"\u001b[0m, which informs him that \"on this coming\n"
            ],
            "text/html": [
              "<pre style=\"white-space:pre;overflow-x:auto;line-height:normal;font-family:Menlo,'DejaVu Sans Mono',consolas,'Courier New',monospace\">night\" <span style=\"font-weight: bold\">(</span><span style=\"color: #008080; text-decoration-color: #008080; font-weight: bold\">255</span><span style=\"font-weight: bold\">)</span> to a hill near an abbey. Upon a rrival at the hill, they <span style=\"color: #008000; text-decoration-color: #008000\">\"drew a large circle on the ground, a nd </span>\n",
              "<span style=\"color: #008000; text-decoration-color: #008000\">inscribed a cross inside it. He carried on him the four Gospels and other sacred writings, and as he stood i n the </span>\n",
              "<span style=\"color: #008000; text-decoration-color: #008000\">middle of the circle, he put four small medallions at the borders of the circle to form the shape of a cross. On e </span>\n",
              "<span style=\"color: #008000; text-decoration-color: #008000\">ach medallion were written saving words, like [']Jesus of Nazareth['] and so forth. The n he awaited the arrival of</span>\n",
              "<span style=\"color: #008000; text-decoration-color: #008000\">the ghost\"</span>, which informs him that \"on this coming\n",
              "</pre>\n"
            ]
          },
          "metadata": {}
        },
        {
          "output_type": "display_data",
          "data": {
            "text/plain": [
              "--------------------------------------------------\n"
            ],
            "text/html": [
              "<pre style=\"white-space:pre;overflow-x:auto;line-height:normal;font-family:Menlo,'DejaVu Sans Mono',consolas,'Courier New',monospace\">--------------------------------------------------\n",
              "</pre>\n"
            ]
          },
          "metadata": {}
        },
        {
          "output_type": "display_data",
          "data": {
            "text/plain": [
              "Chunk \u001b[1;36m32\u001b[0m:\n"
            ],
            "text/html": [
              "<pre style=\"white-space:pre;overflow-x:auto;line-height:normal;font-family:Menlo,'DejaVu Sans Mono',consolas,'Courier New',monospace\">Chunk <span style=\"color: #008080; text-decoration-color: #008080; font-weight: bold\">32</span>:\n",
              "</pre>\n"
            ]
          },
          "metadata": {}
        },
        {
          "output_type": "display_data",
          "data": {
            "text/plain": [
              "Nazareth\u001b[1m[\u001b[0m'\u001b[1m]\u001b[0m and so forth. The n he awaited the arrival of the ghost\", which informs him that \u001b[32m\"on this coming M onda\u001b[0m\n",
              "\u001b[32my \u001b[0m\u001b[32m will enter into everlasting joy along with thirty other souls\"\u001b[0m. The tailor asks the ghost about his own sins, \n",
              "and how he can avoid such a fate in the afterworld, and wha t can be done to mediate his sins - the ghost tells \n",
              "him, and furthermore informs him that \"if you wi ll move to such and such a place, you will be rich; and if you r \n",
              "emain in the other place, you wi\n"
            ],
            "text/html": [
              "<pre style=\"white-space:pre;overflow-x:auto;line-height:normal;font-family:Menlo,'DejaVu Sans Mono',consolas,'Courier New',monospace\">Nazareth<span style=\"font-weight: bold\">[</span>'<span style=\"font-weight: bold\">]</span> and so forth. The n he awaited the arrival of the ghost\", which informs him that <span style=\"color: #008000; text-decoration-color: #008000\">\"on this coming M onda</span>\n",
              "<span style=\"color: #008000; text-decoration-color: #008000\">y  will enter into everlasting joy along with thirty other souls\"</span>. The tailor asks the ghost about his own sins, \n",
              "and how he can avoid such a fate in the afterworld, and wha t can be done to mediate his sins - the ghost tells \n",
              "him, and furthermore informs him that \"if you wi ll move to such and such a place, you will be rich; and if you r \n",
              "emain in the other place, you wi\n",
              "</pre>\n"
            ]
          },
          "metadata": {}
        },
        {
          "output_type": "display_data",
          "data": {
            "text/plain": [
              "--------------------------------------------------\n"
            ],
            "text/html": [
              "<pre style=\"white-space:pre;overflow-x:auto;line-height:normal;font-family:Menlo,'DejaVu Sans Mono',consolas,'Courier New',monospace\">--------------------------------------------------\n",
              "</pre>\n"
            ]
          },
          "metadata": {}
        },
        {
          "output_type": "display_data",
          "data": {
            "text/plain": [
              "Chunk \u001b[1;36m33\u001b[0m:\n"
            ],
            "text/html": [
              "<pre style=\"white-space:pre;overflow-x:auto;line-height:normal;font-family:Menlo,'DejaVu Sans Mono',consolas,'Courier New',monospace\">Chunk <span style=\"color: #008080; text-decoration-color: #008080; font-weight: bold\">33</span>:\n",
              "</pre>\n"
            ]
          },
          "metadata": {}
        },
        {
          "output_type": "display_data",
          "data": {
            "text/plain": [
              "such and such a place, you will be rich; and if you r emain in the other place, you wi ll be poor . You have some \n",
              "enemies where you are now\" \u001b[1m(\u001b[0m\u001b[1;36m256\u001b[0m\u001b[1m)\u001b[0m. Thi s encounter is more complex; while the tailor does not summon the spirit in \n",
              "the first place, and whi le it can be argued that he is blackmailed into absolving the spirit \u001b[1m(\u001b[0mitself a difference \n",
              "from the earlier spirits who be g and pray for salvation\u001b[1m)\u001b[0m, he uses ritual means to summon it, he asks it questions \n",
              "about the future, and he is granted information that\n"
            ],
            "text/html": [
              "<pre style=\"white-space:pre;overflow-x:auto;line-height:normal;font-family:Menlo,'DejaVu Sans Mono',consolas,'Courier New',monospace\">such and such a place, you will be rich; and if you r emain in the other place, you wi ll be poor . You have some \n",
              "enemies where you are now\" <span style=\"font-weight: bold\">(</span><span style=\"color: #008080; text-decoration-color: #008080; font-weight: bold\">256</span><span style=\"font-weight: bold\">)</span>. Thi s encounter is more complex; while the tailor does not summon the spirit in \n",
              "the first place, and whi le it can be argued that he is blackmailed into absolving the spirit <span style=\"font-weight: bold\">(</span>itself a difference \n",
              "from the earlier spirits who be g and pray for salvation<span style=\"font-weight: bold\">)</span>, he uses ritual means to summon it, he asks it questions \n",
              "about the future, and he is granted information that\n",
              "</pre>\n"
            ]
          },
          "metadata": {}
        },
        {
          "output_type": "display_data",
          "data": {
            "text/plain": [
              "--------------------------------------------------\n"
            ],
            "text/html": [
              "<pre style=\"white-space:pre;overflow-x:auto;line-height:normal;font-family:Menlo,'DejaVu Sans Mono',consolas,'Courier New',monospace\">--------------------------------------------------\n",
              "</pre>\n"
            ]
          },
          "metadata": {}
        },
        {
          "output_type": "display_data",
          "data": {
            "text/plain": [
              "Chunk \u001b[1;36m34\u001b[0m:\n"
            ],
            "text/html": [
              "<pre style=\"white-space:pre;overflow-x:auto;line-height:normal;font-family:Menlo,'DejaVu Sans Mono',consolas,'Courier New',monospace\">Chunk <span style=\"color: #008080; text-decoration-color: #008080; font-weight: bold\">34</span>:\n",
              "</pre>\n"
            ]
          },
          "metadata": {}
        },
        {
          "output_type": "display_data",
          "data": {
            "text/plain": [
              "he uses ritual means to summon it, he asks it questions about the future, and he is granted information that will \n",
              "benefit him in his mortal life and after it. A. E. Waite includes three overtly necromantic rituals in the appendix\n",
              "of his ​ Book of Black Magic and of Pacts ​ . His first example, an exorcism and interrogation from the ​ Grand \n",
              "Grimoire ​ of Sibley, actually involves an invocation of demons to act as a motivating force upon the deceased: \"I \n",
              "conjure and exercise thee\u001b[33m...\u001b[0m to answer my liege demands, being obe dient unto these sacred ceremonies,\n"
            ],
            "text/html": [
              "<pre style=\"white-space:pre;overflow-x:auto;line-height:normal;font-family:Menlo,'DejaVu Sans Mono',consolas,'Courier New',monospace\">he uses ritual means to summon it, he asks it questions about the future, and he is granted information that will \n",
              "benefit him in his mortal life and after it. A. E. Waite includes three overtly necromantic rituals in the appendix\n",
              "of his ​ Book of Black Magic and of Pacts ​ . His first example, an exorcism and interrogation from the ​ Grand \n",
              "Grimoire ​ of Sibley, actually involves an invocation of demons to act as a motivating force upon the deceased: \"I \n",
              "conjure and exercise thee<span style=\"color: #808000; text-decoration-color: #808000\">...</span> to answer my liege demands, being obe dient unto these sacred ceremonies,\n",
              "</pre>\n"
            ]
          },
          "metadata": {}
        },
        {
          "output_type": "display_data",
          "data": {
            "text/plain": [
              "--------------------------------------------------\n"
            ],
            "text/html": [
              "<pre style=\"white-space:pre;overflow-x:auto;line-height:normal;font-family:Menlo,'DejaVu Sans Mono',consolas,'Courier New',monospace\">--------------------------------------------------\n",
              "</pre>\n"
            ]
          },
          "metadata": {}
        },
        {
          "output_type": "display_data",
          "data": {
            "text/plain": [
              "Chunk \u001b[1;36m35\u001b[0m:\n"
            ],
            "text/html": [
              "<pre style=\"white-space:pre;overflow-x:auto;line-height:normal;font-family:Menlo,'DejaVu Sans Mono',consolas,'Courier New',monospace\">Chunk <span style=\"color: #008080; text-decoration-color: #008080; font-weight: bold\">35</span>:\n",
              "</pre>\n"
            ]
          },
          "metadata": {}
        },
        {
          "output_type": "display_data",
          "data": {
            "text/plain": [
              "upon the deceased: \u001b[32m\"I conjure and exercise thee... to answer my liege demands, being obe dient unto these sacred \u001b[0m\n",
              "\u001b[32mceremonies, on pain of everlasting torment and di stress. ... B erald, Beroald, Balbin, Gab, Gebor, Agaba... After \u001b[0m\n",
              "\u001b[32mthese forms and ceremonies, the ghost or apparition will become visible, and will answer any que stion put to it by\u001b[0m\n",
              "\u001b[32mthe exorcist\"\u001b[0m \u001b[1m(\u001b[0m\u001b[1;36m290\u001b[0m\u001b[1m)\u001b[0m. The ritual requires access to the naked body i n the place where it was buried, and ope rates \n",
              "by the \u001b[32m\"virtue of the Holy Resurrection\"\u001b[0m \u001b[1m(\u001b[0m\u001b[1;36m291\u001b[0m\u001b[1m)\u001b[0m. His second i s similarly interrogative, a kind of \u001b[32m'forensic \u001b[0m\n",
              "\u001b[32mnecromancy'\u001b[0m which\n"
            ],
            "text/html": [
              "<pre style=\"white-space:pre;overflow-x:auto;line-height:normal;font-family:Menlo,'DejaVu Sans Mono',consolas,'Courier New',monospace\">upon the deceased: <span style=\"color: #008000; text-decoration-color: #008000\">\"I conjure and exercise thee... to answer my liege demands, being obe dient unto these sacred </span>\n",
              "<span style=\"color: #008000; text-decoration-color: #008000\">ceremonies, on pain of everlasting torment and di stress. ... B erald, Beroald, Balbin, Gab, Gebor, Agaba... After </span>\n",
              "<span style=\"color: #008000; text-decoration-color: #008000\">these forms and ceremonies, the ghost or apparition will become visible, and will answer any que stion put to it by</span>\n",
              "<span style=\"color: #008000; text-decoration-color: #008000\">the exorcist\"</span> <span style=\"font-weight: bold\">(</span><span style=\"color: #008080; text-decoration-color: #008080; font-weight: bold\">290</span><span style=\"font-weight: bold\">)</span>. The ritual requires access to the naked body i n the place where it was buried, and ope rates \n",
              "by the <span style=\"color: #008000; text-decoration-color: #008000\">\"virtue of the Holy Resurrection\"</span> <span style=\"font-weight: bold\">(</span><span style=\"color: #008080; text-decoration-color: #008080; font-weight: bold\">291</span><span style=\"font-weight: bold\">)</span>. His second i s similarly interrogative, a kind of <span style=\"color: #008000; text-decoration-color: #008000\">'forensic </span>\n",
              "<span style=\"color: #008000; text-decoration-color: #008000\">necromancy'</span> which\n",
              "</pre>\n"
            ]
          },
          "metadata": {}
        },
        {
          "output_type": "display_data",
          "data": {
            "text/plain": [
              "--------------------------------------------------\n"
            ],
            "text/html": [
              "<pre style=\"white-space:pre;overflow-x:auto;line-height:normal;font-family:Menlo,'DejaVu Sans Mono',consolas,'Courier New',monospace\">--------------------------------------------------\n",
              "</pre>\n"
            ]
          },
          "metadata": {}
        },
        {
          "output_type": "display_data",
          "data": {
            "text/plain": [
              "Chunk \u001b[1;36m36\u001b[0m:\n"
            ],
            "text/html": [
              "<pre style=\"white-space:pre;overflow-x:auto;line-height:normal;font-family:Menlo,'DejaVu Sans Mono',consolas,'Courier New',monospace\">Chunk <span style=\"color: #008080; text-decoration-color: #008080; font-weight: bold\">36</span>:\n",
              "</pre>\n"
            ]
          },
          "metadata": {}
        },
        {
          "output_type": "display_data",
          "data": {
            "text/plain": [
              "by the \u001b[32m\"virtue of the Holy Resurrection\"\u001b[0m \u001b[1m(\u001b[0m\u001b[1;36m291\u001b[0m\u001b[1m)\u001b[0m. His second i s similarly interrogative, a kind of \u001b[32m'forensic \u001b[0m\n",
              "\u001b[32mnecromancy'\u001b[0m which requires the necromancer to stand whe re a body wa s found, before it has been removed, and bind \n",
              "the deceased individual's soul \u001b[32m\"by the Holy Rites of Hecate & Blood of Jesus which he shed for thy soul\"\u001b[0m \u001b[1m(\u001b[0m\u001b[1;36m291\u001b[0m\u001b[1m)\u001b[0m. Aga\n",
              "in, the machinery is not wholly Christian, but it refers to resurrection, torments and the exclamation, a nd its \n",
              "concluding \u001b[32m\"So help thee God and the prayers of the Holy Church\"\u001b[0m, indicate where the symbolic weight lies - with\n"
            ],
            "text/html": [
              "<pre style=\"white-space:pre;overflow-x:auto;line-height:normal;font-family:Menlo,'DejaVu Sans Mono',consolas,'Courier New',monospace\">by the <span style=\"color: #008000; text-decoration-color: #008000\">\"virtue of the Holy Resurrection\"</span> <span style=\"font-weight: bold\">(</span><span style=\"color: #008080; text-decoration-color: #008080; font-weight: bold\">291</span><span style=\"font-weight: bold\">)</span>. His second i s similarly interrogative, a kind of <span style=\"color: #008000; text-decoration-color: #008000\">'forensic </span>\n",
              "<span style=\"color: #008000; text-decoration-color: #008000\">necromancy'</span> which requires the necromancer to stand whe re a body wa s found, before it has been removed, and bind \n",
              "the deceased individual's soul <span style=\"color: #008000; text-decoration-color: #008000\">\"by the Holy Rites of Hecate &amp; Blood of Jesus which he shed for thy soul\"</span> <span style=\"font-weight: bold\">(</span><span style=\"color: #008080; text-decoration-color: #008080; font-weight: bold\">291</span><span style=\"font-weight: bold\">)</span>. Aga\n",
              "in, the machinery is not wholly Christian, but it refers to resurrection, torments and the exclamation, a nd its \n",
              "concluding <span style=\"color: #008000; text-decoration-color: #008000\">\"So help thee God and the prayers of the Holy Church\"</span>, indicate where the symbolic weight lies - with\n",
              "</pre>\n"
            ]
          },
          "metadata": {}
        },
        {
          "output_type": "display_data",
          "data": {
            "text/plain": [
              "--------------------------------------------------\n"
            ],
            "text/html": [
              "<pre style=\"white-space:pre;overflow-x:auto;line-height:normal;font-family:Menlo,'DejaVu Sans Mono',consolas,'Courier New',monospace\">--------------------------------------------------\n",
              "</pre>\n"
            ]
          },
          "metadata": {}
        },
        {
          "output_type": "display_data",
          "data": {
            "text/plain": [
              "Chunk \u001b[1;36m37\u001b[0m:\n"
            ],
            "text/html": [
              "<pre style=\"white-space:pre;overflow-x:auto;line-height:normal;font-family:Menlo,'DejaVu Sans Mono',consolas,'Courier New',monospace\">Chunk <span style=\"color: #008080; text-decoration-color: #008080; font-weight: bold\">37</span>:\n",
              "</pre>\n"
            ]
          },
          "metadata": {}
        },
        {
          "output_type": "display_data",
          "data": {
            "text/plain": [
              "concluding \u001b[32m\"So help thee God and the prayers of the Holy Church\"\u001b[0m, indicate where the symbolic weight lies - with \n",
              "the Christian doctrine of Purgatory and forgiveness. Each of these rituals relies on a proximity to the body si \n",
              "milar to that of intercession - saints' relics being inserted into churches meant \u001b[32m\"that saint was fully and freely \u001b[0m\n",
              "\u001b[32mmanifest as minister and witness, and ambassador, at that place. The saints could act and feel like the living, a \u001b[0m\n",
              "\u001b[32mnd were treated as if they were alive and incorrupt, whi ch technically they we re meant to be\"\u001b[0m \u001b[1m(\u001b[0mBinski \u001b[1;36m15\u001b[0m\u001b[1m)\u001b[0m. Each\n"
            ],
            "text/html": [
              "<pre style=\"white-space:pre;overflow-x:auto;line-height:normal;font-family:Menlo,'DejaVu Sans Mono',consolas,'Courier New',monospace\">concluding <span style=\"color: #008000; text-decoration-color: #008000\">\"So help thee God and the prayers of the Holy Church\"</span>, indicate where the symbolic weight lies - with \n",
              "the Christian doctrine of Purgatory and forgiveness. Each of these rituals relies on a proximity to the body si \n",
              "milar to that of intercession - saints' relics being inserted into churches meant <span style=\"color: #008000; text-decoration-color: #008000\">\"that saint was fully and freely </span>\n",
              "<span style=\"color: #008000; text-decoration-color: #008000\">manifest as minister and witness, and ambassador, at that place. The saints could act and feel like the living, a </span>\n",
              "<span style=\"color: #008000; text-decoration-color: #008000\">nd were treated as if they were alive and incorrupt, whi ch technically they we re meant to be\"</span> <span style=\"font-weight: bold\">(</span>Binski <span style=\"color: #008080; text-decoration-color: #008080; font-weight: bold\">15</span><span style=\"font-weight: bold\">)</span>. Each\n",
              "</pre>\n"
            ]
          },
          "metadata": {}
        },
        {
          "output_type": "display_data",
          "data": {
            "text/plain": [
              "--------------------------------------------------\n"
            ],
            "text/html": [
              "<pre style=\"white-space:pre;overflow-x:auto;line-height:normal;font-family:Menlo,'DejaVu Sans Mono',consolas,'Courier New',monospace\">--------------------------------------------------\n",
              "</pre>\n"
            ]
          },
          "metadata": {}
        },
        {
          "output_type": "display_data",
          "data": {
            "text/plain": [
              "Chunk \u001b[1;36m38\u001b[0m:\n"
            ],
            "text/html": [
              "<pre style=\"white-space:pre;overflow-x:auto;line-height:normal;font-family:Menlo,'DejaVu Sans Mono',consolas,'Courier New',monospace\">Chunk <span style=\"color: #008080; text-decoration-color: #008080; font-weight: bold\">38</span>:\n",
              "</pre>\n"
            ]
          },
          "metadata": {}
        },
        {
          "output_type": "display_data",
          "data": {
            "text/plain": [
              "treated as if they were alive and incorrupt, whi ch technically they we re meant to be\" \u001b[1m(\u001b[0mBinski \u001b[1;36m15\u001b[0m\u001b[1m)\u001b[0m. Each \n",
              "incorporates repeated reference to prayers, to the sacrifice of Jesus which allows the dead into Paradise and \n",
              "motivates their interest in the living. F inally, there is the equally compelling threat of Purgatory in Christian \n",
              "death, and of \u001b[32m\"everlasting torment and distress\"\u001b[0m if the dead do not buy their salvation by pe rforming some service\n",
              "for the living. The service is information, the reward release into the proper Christian machinery of death, the \n",
              "means of coercion diabolical: conflation is thus\n"
            ],
            "text/html": [
              "<pre style=\"white-space:pre;overflow-x:auto;line-height:normal;font-family:Menlo,'DejaVu Sans Mono',consolas,'Courier New',monospace\">treated as if they were alive and incorrupt, whi ch technically they we re meant to be\" <span style=\"font-weight: bold\">(</span>Binski <span style=\"color: #008080; text-decoration-color: #008080; font-weight: bold\">15</span><span style=\"font-weight: bold\">)</span>. Each \n",
              "incorporates repeated reference to prayers, to the sacrifice of Jesus which allows the dead into Paradise and \n",
              "motivates their interest in the living. F inally, there is the equally compelling threat of Purgatory in Christian \n",
              "death, and of <span style=\"color: #008000; text-decoration-color: #008000\">\"everlasting torment and distress\"</span> if the dead do not buy their salvation by pe rforming some service\n",
              "for the living. The service is information, the reward release into the proper Christian machinery of death, the \n",
              "means of coercion diabolical: conflation is thus\n",
              "</pre>\n"
            ]
          },
          "metadata": {}
        },
        {
          "output_type": "display_data",
          "data": {
            "text/plain": [
              "--------------------------------------------------\n"
            ],
            "text/html": [
              "<pre style=\"white-space:pre;overflow-x:auto;line-height:normal;font-family:Menlo,'DejaVu Sans Mono',consolas,'Courier New',monospace\">--------------------------------------------------\n",
              "</pre>\n"
            ]
          },
          "metadata": {}
        },
        {
          "output_type": "display_data",
          "data": {
            "text/plain": [
              "Chunk \u001b[1;36m39\u001b[0m:\n"
            ],
            "text/html": [
              "<pre style=\"white-space:pre;overflow-x:auto;line-height:normal;font-family:Menlo,'DejaVu Sans Mono',consolas,'Courier New',monospace\">Chunk <span style=\"color: #008080; text-decoration-color: #008080; font-weight: bold\">39</span>:\n",
              "</pre>\n"
            ]
          },
          "metadata": {}
        },
        {
          "output_type": "display_data",
          "data": {
            "text/plain": [
              "is information, the reward release into the proper Christian machinery of death, the means of coercion diabolical: \n",
              "conflation is thus inherent. Bibliography \u001b[32m'Necromancy'\u001b[0m, ​ Oxford English Dictionary ​ , accessed at \n",
              "\u001b[1m<\u001b[0m\u001b[4;94mhttp:\u001b[0m\u001b[4;94m//dictionary.oed.com\u001b[0m\u001b[1m>\u001b[0m on 27t h November \u001b[1;36m2008\u001b[0m. Barrett, ​ W.F. Necromancy and Ancient Magic in its Relation to\n",
              "Spiritualism ​ . \u001b[1m(\u001b[0mLondon: The Friars Printing Association Ltd., year of publication unknown\u001b[1m)\u001b[0m. Binski, Paul. ​ \n",
              "Medieval Death ​ . \u001b[1m(\u001b[0mLondon: British Museum Press, \u001b[1;36m1996\u001b[0m\u001b[1m)\u001b[0m. Jones, Lindsay, et al. ​ Encyclopaedia of Religion ​ , volume\n",
              "\u001b[1;36m10\u001b[0m, second edition. \u001b[1m(\u001b[0mFarmington MI : Macmillan, \u001b[1;36m2005\u001b[0m\u001b[1m)\u001b[0m. Kieckhefer, Richard. ​ Forbidden Rites: A Necromancer's \n",
              "Manual\n"
            ],
            "text/html": [
              "<pre style=\"white-space:pre;overflow-x:auto;line-height:normal;font-family:Menlo,'DejaVu Sans Mono',consolas,'Courier New',monospace\">is information, the reward release into the proper Christian machinery of death, the means of coercion diabolical: \n",
              "conflation is thus inherent. Bibliography <span style=\"color: #008000; text-decoration-color: #008000\">'Necromancy'</span>, ​ Oxford English Dictionary ​ , accessed at \n",
              "<span style=\"font-weight: bold\">&lt;</span><span style=\"color: #0000ff; text-decoration-color: #0000ff; text-decoration: underline\">http://dictionary.oed.com</span><span style=\"font-weight: bold\">&gt;</span> on 27t h November <span style=\"color: #008080; text-decoration-color: #008080; font-weight: bold\">2008</span>. Barrett, ​ W.F. Necromancy and Ancient Magic in its Relation to\n",
              "Spiritualism ​ . <span style=\"font-weight: bold\">(</span>London: The Friars Printing Association Ltd., year of publication unknown<span style=\"font-weight: bold\">)</span>. Binski, Paul. ​ \n",
              "Medieval Death ​ . <span style=\"font-weight: bold\">(</span>London: British Museum Press, <span style=\"color: #008080; text-decoration-color: #008080; font-weight: bold\">1996</span><span style=\"font-weight: bold\">)</span>. Jones, Lindsay, et al. ​ Encyclopaedia of Religion ​ , volume\n",
              "<span style=\"color: #008080; text-decoration-color: #008080; font-weight: bold\">10</span>, second edition. <span style=\"font-weight: bold\">(</span>Farmington MI : Macmillan, <span style=\"color: #008080; text-decoration-color: #008080; font-weight: bold\">2005</span><span style=\"font-weight: bold\">)</span>. Kieckhefer, Richard. ​ Forbidden Rites: A Necromancer's \n",
              "Manual\n",
              "</pre>\n"
            ]
          },
          "metadata": {}
        },
        {
          "output_type": "display_data",
          "data": {
            "text/plain": [
              "--------------------------------------------------\n"
            ],
            "text/html": [
              "<pre style=\"white-space:pre;overflow-x:auto;line-height:normal;font-family:Menlo,'DejaVu Sans Mono',consolas,'Courier New',monospace\">--------------------------------------------------\n",
              "</pre>\n"
            ]
          },
          "metadata": {}
        },
        {
          "output_type": "display_data",
          "data": {
            "text/plain": [
              "Chunk \u001b[1;36m40\u001b[0m:\n"
            ],
            "text/html": [
              "<pre style=\"white-space:pre;overflow-x:auto;line-height:normal;font-family:Menlo,'DejaVu Sans Mono',consolas,'Courier New',monospace\">Chunk <span style=\"color: #008080; text-decoration-color: #008080; font-weight: bold\">40</span>:\n",
              "</pre>\n"
            ]
          },
          "metadata": {}
        },
        {
          "output_type": "display_data",
          "data": {
            "text/plain": [
              "Religion ​ , volume \u001b[1;36m10\u001b[0m, second edition. \u001b[1m(\u001b[0mFarmington MI : Macmillan, \u001b[1;36m2005\u001b[0m\u001b[1m)\u001b[0m. Kieckhefer, Richard. ​ Forbidden Rites: A\n",
              "Necromancer's Manual of the Fifteenth Century \u001b[1m(\u001b[0mPennsylvania: Pennsylvania State University Press, \u001b[1;36m1998\u001b[0m\u001b[1m)\u001b[0m . Le Goff, \n",
              "Jacques. ​ The Birth of Purgatory ​ , trans. Arthur Goldhammer. \u001b[1m(\u001b[0mAldershot: Scolar Press, \u001b[1;36m1984\u001b[0m \u001b[1m[\u001b[0m\u001b[1;36m1981\u001b[0m\u001b[1m]\u001b[0m\u001b[1m)\u001b[0m. Lee, \n",
              "Frederick George \u001b[1m(\u001b[0meditor\u001b[1m)\u001b[0m. ​ Glimpses of the Supernatural ​ vol. \u001b[1;36m1\u001b[0m \u001b[1m(\u001b[0mLondon : Henry S. King & co., \u001b[1;36m1875\u001b[0m\u001b[1m)\u001b[0m. Rosack, C.\n",
              "W. ​ The Mysteries of Astrology and the Wonde rs of Magic including a Hi story of the Rise and Progress of Astrology\n",
              "and the various branches of Necromanc\n"
            ],
            "text/html": [
              "<pre style=\"white-space:pre;overflow-x:auto;line-height:normal;font-family:Menlo,'DejaVu Sans Mono',consolas,'Courier New',monospace\">Religion ​ , volume <span style=\"color: #008080; text-decoration-color: #008080; font-weight: bold\">10</span>, second edition. <span style=\"font-weight: bold\">(</span>Farmington MI : Macmillan, <span style=\"color: #008080; text-decoration-color: #008080; font-weight: bold\">2005</span><span style=\"font-weight: bold\">)</span>. Kieckhefer, Richard. ​ Forbidden Rites: A\n",
              "Necromancer's Manual of the Fifteenth Century <span style=\"font-weight: bold\">(</span>Pennsylvania: Pennsylvania State University Press, <span style=\"color: #008080; text-decoration-color: #008080; font-weight: bold\">1998</span><span style=\"font-weight: bold\">)</span> . Le Goff, \n",
              "Jacques. ​ The Birth of Purgatory ​ , trans. Arthur Goldhammer. <span style=\"font-weight: bold\">(</span>Aldershot: Scolar Press, <span style=\"color: #008080; text-decoration-color: #008080; font-weight: bold\">1984</span> <span style=\"font-weight: bold\">[</span><span style=\"color: #008080; text-decoration-color: #008080; font-weight: bold\">1981</span><span style=\"font-weight: bold\">])</span>. Lee, \n",
              "Frederick George <span style=\"font-weight: bold\">(</span>editor<span style=\"font-weight: bold\">)</span>. ​ Glimpses of the Supernatural ​ vol. <span style=\"color: #008080; text-decoration-color: #008080; font-weight: bold\">1</span> <span style=\"font-weight: bold\">(</span>London : Henry S. King &amp; co., <span style=\"color: #008080; text-decoration-color: #008080; font-weight: bold\">1875</span><span style=\"font-weight: bold\">)</span>. Rosack, C.\n",
              "W. ​ The Mysteries of Astrology and the Wonde rs of Magic including a Hi story of the Rise and Progress of Astrology\n",
              "and the various branches of Necromanc\n",
              "</pre>\n"
            ]
          },
          "metadata": {}
        },
        {
          "output_type": "display_data",
          "data": {
            "text/plain": [
              "--------------------------------------------------\n"
            ],
            "text/html": [
              "<pre style=\"white-space:pre;overflow-x:auto;line-height:normal;font-family:Menlo,'DejaVu Sans Mono',consolas,'Courier New',monospace\">--------------------------------------------------\n",
              "</pre>\n"
            ]
          },
          "metadata": {}
        },
        {
          "output_type": "display_data",
          "data": {
            "text/plain": [
              "Chunk \u001b[1;36m41\u001b[0m:\n"
            ],
            "text/html": [
              "<pre style=\"white-space:pre;overflow-x:auto;line-height:normal;font-family:Menlo,'DejaVu Sans Mono',consolas,'Courier New',monospace\">Chunk <span style=\"color: #008080; text-decoration-color: #008080; font-weight: bold\">41</span>:\n",
              "</pre>\n"
            ]
          },
          "metadata": {}
        },
        {
          "output_type": "display_data",
          "data": {
            "text/plain": [
              "rs of Magic including a Hi story of the Rise and Progress of Astrology and the various branches of Necromanc y - \n",
              "and so on ​ . \u001b[1m(\u001b[0mLondon: Sampson, Low, Son & Company, \u001b[1;36m1854\u001b[0m\u001b[1m)\u001b[0m . Shinners, John. ​ Medieval Popular Religion \u001b[1;36m1000\u001b[0m-\u001b[1;36m1500\u001b[0m: A\n",
              "Reader ​ . Second edition. \u001b[1m(\u001b[0mToronto: Broadview Press, \u001b[1;36m2007\u001b[0m\u001b[1m)\u001b[0m. Waite, A.E.. ​ The Book of Black Magic and of Pacts ​ .\n",
              "\u001b[1m(\u001b[0mLondon: George Redway, \u001b[1;36m1898\u001b[0m \u001b[1m)\u001b[0m.\n"
            ],
            "text/html": [
              "<pre style=\"white-space:pre;overflow-x:auto;line-height:normal;font-family:Menlo,'DejaVu Sans Mono',consolas,'Courier New',monospace\">rs of Magic including a Hi story of the Rise and Progress of Astrology and the various branches of Necromanc y - \n",
              "and so on ​ . <span style=\"font-weight: bold\">(</span>London: Sampson, Low, Son &amp; Company, <span style=\"color: #008080; text-decoration-color: #008080; font-weight: bold\">1854</span><span style=\"font-weight: bold\">)</span> . Shinners, John. ​ Medieval Popular Religion <span style=\"color: #008080; text-decoration-color: #008080; font-weight: bold\">1000</span>-<span style=\"color: #008080; text-decoration-color: #008080; font-weight: bold\">1500</span>: A\n",
              "Reader ​ . Second edition. <span style=\"font-weight: bold\">(</span>Toronto: Broadview Press, <span style=\"color: #008080; text-decoration-color: #008080; font-weight: bold\">2007</span><span style=\"font-weight: bold\">)</span>. Waite, A.E.. ​ The Book of Black Magic and of Pacts ​ .\n",
              "<span style=\"font-weight: bold\">(</span>London: George Redway, <span style=\"color: #008080; text-decoration-color: #008080; font-weight: bold\">1898</span> <span style=\"font-weight: bold\">)</span>.\n",
              "</pre>\n"
            ]
          },
          "metadata": {}
        },
        {
          "output_type": "display_data",
          "data": {
            "text/plain": [
              "--------------------------------------------------\n"
            ],
            "text/html": [
              "<pre style=\"white-space:pre;overflow-x:auto;line-height:normal;font-family:Menlo,'DejaVu Sans Mono',consolas,'Courier New',monospace\">--------------------------------------------------\n",
              "</pre>\n"
            ]
          },
          "metadata": {}
        }
      ],
      "source": [
        "# Print the list of chunks\n",
        "def print_chunks(chunks):\n",
        "    for i, chunk in enumerate(chunks):\n",
        "        print(f\"Chunk {i + 1}:\")\n",
        "        print(chunk)\n",
        "        print(\"-\" * 50)\n",
        "\n",
        "print_chunks(chunked_data)"
      ]
    },
    {
      "cell_type": "markdown",
      "metadata": {
        "id": "7UhNy90taTnq"
      },
      "source": [
        "Setting Up embedding model"
      ]
    },
    {
      "cell_type": "code",
      "execution_count": 9,
      "metadata": {
        "id": "YsBYfUXQaTnq",
        "outputId": "92fc813c-6628-4f22-f188-1baadbd3d526",
        "colab": {
          "base_uri": "https://localhost:8080/",
          "height": 397,
          "referenced_widgets": [
            "3f6b55cb02364b4abf55fd1dfa0a570d",
            "ed93e3e6516e4304a55faf55e2a44688",
            "2d0ac4aa5cca4d06a6757ec4336d41ff",
            "5c091324d5bc49cba710b03ed32c8ccb",
            "d140b7d6f23d4a358f0d0e74a178c243",
            "1cf5c9ca89ad4d0a94ad6c5abe4d3e66",
            "2e9c95f2dcf648c39605a0350c440d70",
            "b014ee968fa1498e92b6df517460a295",
            "56324bab8dfc4fe188f399f86628b5cb",
            "5275edcf43ac4ea59b5a3c04e82c7256",
            "1446eb860c894cc6b5c13cf844b1ae44",
            "0f62d227afc44d1ca5da5fde0a53f991",
            "d10030ce387d4bd08529973f0b850dc3",
            "08af2094603344d299f11d49a3fc0514",
            "401c241835644fd5a8a70e45337f72d8",
            "9b058978cae94d4ea84c682ae9e26d17",
            "5e1d4fb8722645b6967f979fcd63ebfc",
            "04d6057bdfe14f20bed4a544d1d4c439",
            "2b08e9822d30434cb08e72702622c0be",
            "8840c77f897e4b1c9874235629ef6183",
            "4e35a1099e85439296272ab62f823696",
            "e7b8e02831a641729da0b6c5a96d9c3e",
            "5222baf7de2744b384b18f74b92daa32",
            "dc48619cb50b48eb8a3f3e0b59fdb651",
            "9405e3f97ad1418aadcd21781ef4f2dd",
            "17598ceb612d4524b7c66a3be0b8df9a",
            "955b4d5667d345be99f7cce2fdfd6d16",
            "762a76e68496423d84011e257a39fc2d",
            "99ce0dd066bd471ea004e974d740a8eb",
            "b59d6b187562404cb9b857336190983a",
            "8eb984b3b0294694822e6c3775b10223",
            "8cc93d30fa464bdb8a585aac4fda16cc",
            "42c41ecb6fde49efa7d6b29aa5449ead",
            "9fc25d10e6494ac39ef91e33601a93ef",
            "64592c30417547b0a0b9a30f21cb1878",
            "f524c82e357f481bbdb0e0c99c053177",
            "f17dc232219c4baf89175291a9e8756c",
            "18b6748d6a604d089ab40c11154a00e9",
            "647238ad614a499199b3ead12675bc94",
            "1ed2521bea7c470a972dfb48b8fd758f",
            "d98858b8324d4cfcbab2d876d8227c19",
            "c9f19a6de074408099e485ca08f38e01",
            "2d9db342136642bc9bf11d829b3dae8f",
            "50120dd3361749b1991a0efec3a789ed",
            "2a9b2a740b95431eab8acd994b0ca510",
            "bd9fa827758144f3a18e2320015289bb",
            "7f8961ef697e45b794bfff0ac69bc127",
            "7df3fd03812a4ddc967b5b4e6f73c5e4",
            "71c0eaa837d2441685e6220f9009e6ef",
            "8cc07cbeba2041bb81fbca8d2b386012",
            "b836c83052db45c19e89ce616246e057",
            "1a173207cb82481da729fc3995572b32",
            "bc5ebeb7a9ae4389a83fa59b8e8c1a41",
            "8dd118273aae43688f076ab633d3041f",
            "6b1b3395cbe140519d3db451d7d0edc9",
            "db6096889b244e9996a61a91eb45534a",
            "decb51a6a9de4943b2d685ee8030cf3d",
            "f48243736d2743e685e158d975d18c12",
            "c6ebd5763ab642a287daea1f1f851802",
            "bb6520187c5847959d9479ded2866b6c",
            "b2046ff594d94bf68e425153eef380f0",
            "43ecea9150374f56b3a15158a5675080",
            "644c75cc533e45f494b6fb39b99c27f9",
            "5dc1445f2ced4257afe994387cc2ffc6",
            "927713ca14274b2a84b2844d77f103f6",
            "560a08950fc84ff9b0310ee7e0c3ce37",
            "9b12c457714846e6b3951bde2f868f48",
            "793de2bdf1a74320ad6246e4489ef16b",
            "07258371a48b4f6fb7423899512bcbee",
            "2949bf296909445884bf2fa5a9f858b9",
            "b1c9a9d0d0454e94ab346d2de813ec9f",
            "4d45c87dae234f6cb481832960c3adfa",
            "a08f5bddac0340f6b636215b9690cd25",
            "70a6f44eeef44c08aff8a47499d99f47",
            "f17a1da6812144ba9c4dc4b416d21be0",
            "c884f6ea991047509a1cf74b4c0d7a6b",
            "e2d91c0f01b3425793664d7a5d7f4aa7",
            "fa9c4c8f85e043e38c947b63c6d75d28",
            "358f6978512f4b20ab1a73d606bf9601",
            "cc7ee79b83ea4857939ff5d01a8e37d0",
            "693dab2b843c42ceb90386873fe92d86",
            "21c9959f8e7949b8b1bc9e1194878c31",
            "fe8fe6e5aecf4c4781777ebfce03f3d4",
            "7a0aa490eb75421eac92b68639e44ec4",
            "6eb70cfe95a94226a0181f2c77fc4354",
            "9c2a64bcea6b4bd9b67a5e5ce748b24f",
            "ee6ba3b7a69a40c9b2c49e2292ebba8e",
            "4329a4722e534226974ea59010644735"
          ]
        }
      },
      "outputs": [
        {
          "output_type": "display_data",
          "data": {
            "text/plain": [
              "configuration.py:   0%|          | 0.00/7.13k [00:00<?, ?B/s]"
            ],
            "application/vnd.jupyter.widget-view+json": {
              "version_major": 2,
              "version_minor": 0,
              "model_id": "3f6b55cb02364b4abf55fd1dfa0a570d"
            }
          },
          "metadata": {}
        },
        {
          "output_type": "stream",
          "name": "stderr",
          "text": [
            "A new version of the following files was downloaded from https://huggingface.co/Alibaba-NLP/new-impl:\n",
            "- configuration.py\n",
            ". Make sure to double-check they do not contain any added malicious code. To avoid downloading new versions of the code file, you can pin a revision.\n"
          ]
        },
        {
          "output_type": "display_data",
          "data": {
            "text/plain": [
              "modeling.py:   0%|          | 0.00/59.0k [00:00<?, ?B/s]"
            ],
            "application/vnd.jupyter.widget-view+json": {
              "version_major": 2,
              "version_minor": 0,
              "model_id": "0f62d227afc44d1ca5da5fde0a53f991"
            }
          },
          "metadata": {}
        },
        {
          "output_type": "stream",
          "name": "stderr",
          "text": [
            "A new version of the following files was downloaded from https://huggingface.co/Alibaba-NLP/new-impl:\n",
            "- modeling.py\n",
            ". Make sure to double-check they do not contain any added malicious code. To avoid downloading new versions of the code file, you can pin a revision.\n"
          ]
        },
        {
          "output_type": "display_data",
          "data": {
            "text/plain": [
              "model.safetensors:   0%|          | 0.00/547M [00:00<?, ?B/s]"
            ],
            "application/vnd.jupyter.widget-view+json": {
              "version_major": 2,
              "version_minor": 0,
              "model_id": "5222baf7de2744b384b18f74b92daa32"
            }
          },
          "metadata": {}
        },
        {
          "output_type": "display_data",
          "data": {
            "text/plain": [
              "tokenizer_config.json:   0%|          | 0.00/1.38k [00:00<?, ?B/s]"
            ],
            "application/vnd.jupyter.widget-view+json": {
              "version_major": 2,
              "version_minor": 0,
              "model_id": "9fc25d10e6494ac39ef91e33601a93ef"
            }
          },
          "metadata": {}
        },
        {
          "output_type": "display_data",
          "data": {
            "text/plain": [
              "vocab.txt:   0%|          | 0.00/232k [00:00<?, ?B/s]"
            ],
            "application/vnd.jupyter.widget-view+json": {
              "version_major": 2,
              "version_minor": 0,
              "model_id": "2a9b2a740b95431eab8acd994b0ca510"
            }
          },
          "metadata": {}
        },
        {
          "output_type": "display_data",
          "data": {
            "text/plain": [
              "tokenizer.json:   0%|          | 0.00/712k [00:00<?, ?B/s]"
            ],
            "application/vnd.jupyter.widget-view+json": {
              "version_major": 2,
              "version_minor": 0,
              "model_id": "db6096889b244e9996a61a91eb45534a"
            }
          },
          "metadata": {}
        },
        {
          "output_type": "display_data",
          "data": {
            "text/plain": [
              "special_tokens_map.json:   0%|          | 0.00/695 [00:00<?, ?B/s]"
            ],
            "application/vnd.jupyter.widget-view+json": {
              "version_major": 2,
              "version_minor": 0,
              "model_id": "9b12c457714846e6b3951bde2f868f48"
            }
          },
          "metadata": {}
        },
        {
          "output_type": "display_data",
          "data": {
            "text/plain": [
              "1_Pooling/config.json:   0%|          | 0.00/297 [00:00<?, ?B/s]"
            ],
            "application/vnd.jupyter.widget-view+json": {
              "version_major": 2,
              "version_minor": 0,
              "model_id": "fa9c4c8f85e043e38c947b63c6d75d28"
            }
          },
          "metadata": {}
        }
      ],
      "source": [
        "# Load the sentence transformer model for embeddings\n",
        "model = SentenceTransformer(\"Alibaba-NLP/gte-base-en-v1.5\", trust_remote_code=True)"
      ]
    },
    {
      "cell_type": "markdown",
      "metadata": {
        "id": "nELVb8syaTnr"
      },
      "source": [
        "set up similarity function"
      ]
    },
    {
      "cell_type": "code",
      "execution_count": null,
      "metadata": {
        "id": "L-dPxWriaTnr"
      },
      "outputs": [],
      "source": [
        "def cosine_similarity(a, b):\n",
        "    return np.dot(a, b) / (np.linalg.norm(a) * np.linalg.norm(b))"
      ]
    },
    {
      "cell_type": "markdown",
      "metadata": {
        "id": "ylHO3t5YaTnr"
      },
      "source": [
        "visualise embeddings"
      ]
    },
    {
      "cell_type": "code",
      "execution_count": 32,
      "metadata": {
        "id": "pNnvO3n5aTnr"
      },
      "outputs": [],
      "source": [
        "def generate_embeddings(text_chunks):\n",
        "    # Assuming you have a function or model to get embeddings\n",
        "    return [model.encode(chunk).tolist() for chunk in text_chunks]\n",
        "embeddings = generate_embeddings(chunked_data)"
      ]
    },
    {
      "cell_type": "markdown",
      "metadata": {
        "id": "qJ_PbRbOaTnr"
      },
      "source": [
        "embed chunks"
      ]
    },
    {
      "cell_type": "code",
      "execution_count": null,
      "metadata": {
        "id": "Dv9G_Ni2aTns"
      },
      "outputs": [],
      "source": [
        "#visualize_embeddings(chunked_data, model)"
      ]
    },
    {
      "cell_type": "markdown",
      "metadata": {
        "id": "ajOk0XHZaTns"
      },
      "source": [
        "store the vectors/embedding"
      ]
    },
    {
      "cell_type": "code",
      "execution_count": 16,
      "metadata": {
        "id": "kTJSZEZgaTns",
        "outputId": "4fd59c8f-d66a-41f5-ede3-9dc575abcbee",
        "colab": {
          "base_uri": "https://localhost:8080/"
        }
      },
      "outputs": [
        {
          "output_type": "stream",
          "name": "stdout",
          "text": [
            "Requirement already satisfied: qdrant_client in /usr/local/lib/python3.10/dist-packages (1.12.1)\n",
            "Collecting fastembed\n",
            "  Downloading fastembed-0.4.1-py3-none-any.whl.metadata (7.7 kB)\n",
            "Requirement already satisfied: grpcio>=1.41.0 in /usr/local/lib/python3.10/dist-packages (from qdrant_client) (1.67.1)\n",
            "Requirement already satisfied: grpcio-tools>=1.41.0 in /usr/local/lib/python3.10/dist-packages (from qdrant_client) (1.67.1)\n",
            "Requirement already satisfied: httpx>=0.20.0 in /usr/local/lib/python3.10/dist-packages (from httpx[http2]>=0.20.0->qdrant_client) (0.27.2)\n",
            "Requirement already satisfied: numpy>=1.21 in /usr/local/lib/python3.10/dist-packages (from qdrant_client) (1.26.4)\n",
            "Requirement already satisfied: portalocker<3.0.0,>=2.7.0 in /usr/local/lib/python3.10/dist-packages (from qdrant_client) (2.10.1)\n",
            "Requirement already satisfied: pydantic>=1.10.8 in /usr/local/lib/python3.10/dist-packages (from qdrant_client) (2.9.2)\n",
            "Requirement already satisfied: urllib3<3,>=1.26.14 in /usr/local/lib/python3.10/dist-packages (from qdrant_client) (2.2.3)\n",
            "Requirement already satisfied: huggingface-hub<1.0,>=0.20 in /usr/local/lib/python3.10/dist-packages (from fastembed) (0.26.2)\n",
            "Collecting loguru<0.8.0,>=0.7.2 (from fastembed)\n",
            "  Downloading loguru-0.7.2-py3-none-any.whl.metadata (23 kB)\n",
            "Collecting mmh3<5.0.0,>=4.1.0 (from fastembed)\n",
            "  Downloading mmh3-4.1.0-cp310-cp310-manylinux_2_5_x86_64.manylinux1_x86_64.manylinux_2_17_x86_64.manylinux2014_x86_64.whl.metadata (13 kB)\n",
            "Collecting onnx<2.0.0,>=1.15.0 (from fastembed)\n",
            "  Downloading onnx-1.17.0-cp310-cp310-manylinux_2_17_x86_64.manylinux2014_x86_64.whl.metadata (16 kB)\n",
            "Collecting onnxruntime<2.0.0,>=1.17.0 (from fastembed)\n",
            "  Downloading onnxruntime-1.19.2-cp310-cp310-manylinux_2_27_x86_64.manylinux_2_28_x86_64.whl.metadata (4.5 kB)\n",
            "Requirement already satisfied: pillow<11.0.0,>=10.3.0 in /usr/local/lib/python3.10/dist-packages (from fastembed) (10.4.0)\n",
            "Collecting py-rust-stemmers<0.2.0,>=0.1.0 (from fastembed)\n",
            "  Downloading py_rust_stemmers-0.1.3-cp310-cp310-manylinux_2_28_x86_64.whl.metadata (3.4 kB)\n",
            "Requirement already satisfied: requests<3.0,>=2.31 in /usr/local/lib/python3.10/dist-packages (from fastembed) (2.32.3)\n",
            "Requirement already satisfied: tokenizers<1.0,>=0.15 in /usr/local/lib/python3.10/dist-packages (from fastembed) (0.19.1)\n",
            "Requirement already satisfied: tqdm<5.0,>=4.66 in /usr/local/lib/python3.10/dist-packages (from fastembed) (4.66.6)\n",
            "Collecting protobuf<6.0dev,>=5.26.1 (from grpcio-tools>=1.41.0->qdrant_client)\n",
            "  Using cached protobuf-5.28.3-cp38-abi3-manylinux2014_x86_64.whl.metadata (592 bytes)\n",
            "Requirement already satisfied: setuptools in /usr/local/lib/python3.10/dist-packages (from grpcio-tools>=1.41.0->qdrant_client) (75.1.0)\n",
            "Requirement already satisfied: anyio in /usr/local/lib/python3.10/dist-packages (from httpx>=0.20.0->httpx[http2]>=0.20.0->qdrant_client) (3.7.1)\n",
            "Requirement already satisfied: certifi in /usr/local/lib/python3.10/dist-packages (from httpx>=0.20.0->httpx[http2]>=0.20.0->qdrant_client) (2024.8.30)\n",
            "Requirement already satisfied: httpcore==1.* in /usr/local/lib/python3.10/dist-packages (from httpx>=0.20.0->httpx[http2]>=0.20.0->qdrant_client) (1.0.6)\n",
            "Requirement already satisfied: idna in /usr/local/lib/python3.10/dist-packages (from httpx>=0.20.0->httpx[http2]>=0.20.0->qdrant_client) (3.10)\n",
            "Requirement already satisfied: sniffio in /usr/local/lib/python3.10/dist-packages (from httpx>=0.20.0->httpx[http2]>=0.20.0->qdrant_client) (1.3.1)\n",
            "Requirement already satisfied: h11<0.15,>=0.13 in /usr/local/lib/python3.10/dist-packages (from httpcore==1.*->httpx>=0.20.0->httpx[http2]>=0.20.0->qdrant_client) (0.14.0)\n",
            "Requirement already satisfied: h2<5,>=3 in /usr/local/lib/python3.10/dist-packages (from httpx[http2]>=0.20.0->qdrant_client) (4.1.0)\n",
            "Requirement already satisfied: filelock in /usr/local/lib/python3.10/dist-packages (from huggingface-hub<1.0,>=0.20->fastembed) (3.16.1)\n",
            "Requirement already satisfied: fsspec>=2023.5.0 in /usr/local/lib/python3.10/dist-packages (from huggingface-hub<1.0,>=0.20->fastembed) (2024.10.0)\n",
            "Requirement already satisfied: packaging>=20.9 in /usr/local/lib/python3.10/dist-packages (from huggingface-hub<1.0,>=0.20->fastembed) (24.1)\n",
            "Requirement already satisfied: pyyaml>=5.1 in /usr/local/lib/python3.10/dist-packages (from huggingface-hub<1.0,>=0.20->fastembed) (6.0.2)\n",
            "Requirement already satisfied: typing-extensions>=3.7.4.3 in /usr/local/lib/python3.10/dist-packages (from huggingface-hub<1.0,>=0.20->fastembed) (4.12.2)\n",
            "Collecting coloredlogs (from onnxruntime<2.0.0,>=1.17.0->fastembed)\n",
            "  Downloading coloredlogs-15.0.1-py2.py3-none-any.whl.metadata (12 kB)\n",
            "Requirement already satisfied: flatbuffers in /usr/local/lib/python3.10/dist-packages (from onnxruntime<2.0.0,>=1.17.0->fastembed) (24.3.25)\n",
            "Requirement already satisfied: sympy in /usr/local/lib/python3.10/dist-packages (from onnxruntime<2.0.0,>=1.17.0->fastembed) (1.13.1)\n",
            "Requirement already satisfied: annotated-types>=0.6.0 in /usr/local/lib/python3.10/dist-packages (from pydantic>=1.10.8->qdrant_client) (0.7.0)\n",
            "Requirement already satisfied: pydantic-core==2.23.4 in /usr/local/lib/python3.10/dist-packages (from pydantic>=1.10.8->qdrant_client) (2.23.4)\n",
            "Requirement already satisfied: charset-normalizer<4,>=2 in /usr/local/lib/python3.10/dist-packages (from requests<3.0,>=2.31->fastembed) (3.4.0)\n",
            "Requirement already satisfied: hyperframe<7,>=6.0 in /usr/local/lib/python3.10/dist-packages (from h2<5,>=3->httpx[http2]>=0.20.0->qdrant_client) (6.0.1)\n",
            "Requirement already satisfied: hpack<5,>=4.0 in /usr/local/lib/python3.10/dist-packages (from h2<5,>=3->httpx[http2]>=0.20.0->qdrant_client) (4.0.0)\n",
            "Requirement already satisfied: exceptiongroup in /usr/local/lib/python3.10/dist-packages (from anyio->httpx>=0.20.0->httpx[http2]>=0.20.0->qdrant_client) (1.2.2)\n",
            "Collecting humanfriendly>=9.1 (from coloredlogs->onnxruntime<2.0.0,>=1.17.0->fastembed)\n",
            "  Downloading humanfriendly-10.0-py2.py3-none-any.whl.metadata (9.2 kB)\n",
            "Requirement already satisfied: mpmath<1.4,>=1.1.0 in /usr/local/lib/python3.10/dist-packages (from sympy->onnxruntime<2.0.0,>=1.17.0->fastembed) (1.3.0)\n",
            "Downloading fastembed-0.4.1-py3-none-any.whl (65 kB)\n",
            "\u001b[2K   \u001b[90m━━━━━━━━━━━━━━━━━━━━━━━━━━━━━━━━━━━━━━━━\u001b[0m \u001b[32m65.1/65.1 kB\u001b[0m \u001b[31m3.3 MB/s\u001b[0m eta \u001b[36m0:00:00\u001b[0m\n",
            "\u001b[?25hDownloading loguru-0.7.2-py3-none-any.whl (62 kB)\n",
            "\u001b[2K   \u001b[90m━━━━━━━━━━━━━━━━━━━━━━━━━━━━━━━━━━━━━━━━\u001b[0m \u001b[32m62.5/62.5 kB\u001b[0m \u001b[31m4.8 MB/s\u001b[0m eta \u001b[36m0:00:00\u001b[0m\n",
            "\u001b[?25hDownloading mmh3-4.1.0-cp310-cp310-manylinux_2_5_x86_64.manylinux1_x86_64.manylinux_2_17_x86_64.manylinux2014_x86_64.whl (67 kB)\n",
            "\u001b[2K   \u001b[90m━━━━━━━━━━━━━━━━━━━━━━━━━━━━━━━━━━━━━━━━\u001b[0m \u001b[32m67.6/67.6 kB\u001b[0m \u001b[31m5.4 MB/s\u001b[0m eta \u001b[36m0:00:00\u001b[0m\n",
            "\u001b[?25hDownloading onnx-1.17.0-cp310-cp310-manylinux_2_17_x86_64.manylinux2014_x86_64.whl (16.0 MB)\n",
            "\u001b[2K   \u001b[90m━━━━━━━━━━━━━━━━━━━━━━━━━━━━━━━━━━━━━━━━\u001b[0m \u001b[32m16.0/16.0 MB\u001b[0m \u001b[31m39.8 MB/s\u001b[0m eta \u001b[36m0:00:00\u001b[0m\n",
            "\u001b[?25hDownloading onnxruntime-1.19.2-cp310-cp310-manylinux_2_27_x86_64.manylinux_2_28_x86_64.whl (13.2 MB)\n",
            "\u001b[2K   \u001b[90m━━━━━━━━━━━━━━━━━━━━━━━━━━━━━━━━━━━━━━━━\u001b[0m \u001b[32m13.2/13.2 MB\u001b[0m \u001b[31m39.9 MB/s\u001b[0m eta \u001b[36m0:00:00\u001b[0m\n",
            "\u001b[?25hDownloading py_rust_stemmers-0.1.3-cp310-cp310-manylinux_2_28_x86_64.whl (323 kB)\n",
            "\u001b[2K   \u001b[90m━━━━━━━━━━━━━━━━━━━━━━━━━━━━━━━━━━━━━━━━\u001b[0m \u001b[32m323.9/323.9 kB\u001b[0m \u001b[31m19.6 MB/s\u001b[0m eta \u001b[36m0:00:00\u001b[0m\n",
            "\u001b[?25hUsing cached protobuf-5.28.3-cp38-abi3-manylinux2014_x86_64.whl (316 kB)\n",
            "Downloading coloredlogs-15.0.1-py2.py3-none-any.whl (46 kB)\n",
            "\u001b[2K   \u001b[90m━━━━━━━━━━━━━━━━━━━━━━━━━━━━━━━━━━━━━━━━\u001b[0m \u001b[32m46.0/46.0 kB\u001b[0m \u001b[31m3.1 MB/s\u001b[0m eta \u001b[36m0:00:00\u001b[0m\n",
            "\u001b[?25hDownloading humanfriendly-10.0-py2.py3-none-any.whl (86 kB)\n",
            "\u001b[2K   \u001b[90m━━━━━━━━━━━━━━━━━━━━━━━━━━━━━━━━━━━━━━━━\u001b[0m \u001b[32m86.8/86.8 kB\u001b[0m \u001b[31m6.9 MB/s\u001b[0m eta \u001b[36m0:00:00\u001b[0m\n",
            "\u001b[?25hInstalling collected packages: py-rust-stemmers, mmh3, protobuf, loguru, humanfriendly, onnx, coloredlogs, onnxruntime, fastembed\n",
            "  Attempting uninstall: protobuf\n",
            "    Found existing installation: protobuf 3.20.1\n",
            "    Uninstalling protobuf-3.20.1:\n",
            "      Successfully uninstalled protobuf-3.20.1\n",
            "\u001b[31mERROR: pip's dependency resolver does not currently take into account all the packages that are installed. This behaviour is the source of the following dependency conflicts.\n",
            "google-cloud-datastore 2.19.0 requires protobuf!=3.20.0,!=3.20.1,!=4.21.0,!=4.21.1,!=4.21.2,!=4.21.3,!=4.21.4,!=4.21.5,<5.0.0dev,>=3.19.5, but you have protobuf 5.28.3 which is incompatible.\n",
            "google-cloud-firestore 2.16.1 requires protobuf!=3.20.0,!=3.20.1,!=4.21.0,!=4.21.1,!=4.21.2,!=4.21.3,!=4.21.4,!=4.21.5,<5.0.0dev,>=3.19.5, but you have protobuf 5.28.3 which is incompatible.\n",
            "tensorboard 2.17.0 requires protobuf!=4.24.0,<5.0.0,>=3.19.6, but you have protobuf 5.28.3 which is incompatible.\n",
            "tensorflow 2.17.0 requires protobuf!=4.21.0,!=4.21.1,!=4.21.2,!=4.21.3,!=4.21.4,!=4.21.5,<5.0.0dev,>=3.20.3, but you have protobuf 5.28.3 which is incompatible.\n",
            "tensorflow-metadata 1.16.1 requires protobuf<4.21,>=3.20.3; python_version < \"3.11\", but you have protobuf 5.28.3 which is incompatible.\u001b[0m\u001b[31m\n",
            "\u001b[0mSuccessfully installed coloredlogs-15.0.1 fastembed-0.4.1 humanfriendly-10.0 loguru-0.7.2 mmh3-4.1.0 onnx-1.17.0 onnxruntime-1.19.2 protobuf-5.28.3 py-rust-stemmers-0.1.3\n"
          ]
        }
      ],
      "source": [
        "!pip install -U qdrant_client fastembed\n"
      ]
    },
    {
      "cell_type": "markdown",
      "metadata": {
        "id": "owO8CqraaTns"
      },
      "source": [
        "## Retrival"
      ]
    },
    {
      "cell_type": "markdown",
      "metadata": {
        "id": "kwBUduBFaTns"
      },
      "source": [
        "set up vector store"
      ]
    },
    {
      "cell_type": "code",
      "source": [
        "from qdrant_client import QdrantClient\n",
        "client = QdrantClient(path=\"./db/\")"
      ],
      "metadata": {
        "id": "bxEQY69pik5u"
      },
      "execution_count": 22,
      "outputs": []
    },
    {
      "cell_type": "code",
      "execution_count": 24,
      "metadata": {
        "id": "4qp0fQ-gaTns",
        "outputId": "6f7d9fc1-34a5-4563-baee-877a83f8718b",
        "colab": {
          "base_uri": "https://localhost:8080/"
        }
      },
      "outputs": [
        {
          "output_type": "execute_result",
          "data": {
            "text/plain": [
              "True"
            ]
          },
          "metadata": {},
          "execution_count": 24
        }
      ],
      "source": [
        "inp_collection_name = \"necromancy\"\n",
        "from qdrant_client import models\n",
        "\n",
        "client.create_collection(\n",
        "    collection_name=\"my-inp_collection_name\",\n",
        "    vectors_config={\n",
        "        \"embedding\": models.VectorParams(\n",
        "            size=768,  # Adjust based on your embedding size\n",
        "            distance=models.Distance.COSINE,\n",
        "        )\n",
        "    }\n",
        ")"
      ]
    },
    {
      "cell_type": "code",
      "source": [
        "points = []\n",
        "#print(embeddings)\n",
        "for id, (embedding) in enumerate(zip(embeddings)):\n",
        "    points.append(models.PointStruct(\n",
        "        id=id,\n",
        "        # Pass the embedding as a dictionary with the field name \"embedding\"\n",
        "        vector={\"embedding\": embedding},\n",
        "    ))"
      ],
      "metadata": {
        "id": "pUCko3KarjON"
      },
      "execution_count": 40,
      "outputs": []
    },
    {
      "cell_type": "code",
      "source": [
        "batch_size = 100  # Adjust based on your needs\n",
        "for i in range(0, len(points), batch_size):\n",
        "    batch = points[i:i + batch_size]\n",
        "    client.upload_points(\"my-inp_collection_name\", points=batch, wait=True)"
      ],
      "metadata": {
        "id": "R9VUPsn1tTr1"
      },
      "execution_count": 41,
      "outputs": []
    },
    {
      "cell_type": "code",
      "source": [
        "print(f\"Total points in collection: {client.count('my-inp_collection_name').count}\")"
      ],
      "metadata": {
        "id": "p15kVUswtsO4",
        "outputId": "d70c23a0-ffe6-43fe-e4ae-56c6d8867a43",
        "colab": {
          "base_uri": "https://localhost:8080/",
          "height": 33
        }
      },
      "execution_count": 43,
      "outputs": [
        {
          "output_type": "display_data",
          "data": {
            "text/plain": [
              "Total points in collection: \u001b[1;36m41\u001b[0m\n"
            ],
            "text/html": [
              "<pre style=\"white-space:pre;overflow-x:auto;line-height:normal;font-family:Menlo,'DejaVu Sans Mono',consolas,'Courier New',monospace\">Total points in collection: <span style=\"color: #008080; text-decoration-color: #008080; font-weight: bold\">41</span>\n",
              "</pre>\n"
            ]
          },
          "metadata": {}
        }
      ]
    },
    {
      "cell_type": "markdown",
      "metadata": {
        "id": "JBg13-fDaTns"
      },
      "source": [
        "similarity search"
      ]
    },
    {
      "cell_type": "markdown",
      "metadata": {
        "id": "2HCqkL-eaTns"
      },
      "source": []
    },
    {
      "cell_type": "markdown",
      "metadata": {
        "id": "QRci4pmgaTns"
      },
      "source": [
        "get top K results"
      ]
    },
    {
      "cell_type": "code",
      "execution_count": null,
      "metadata": {
        "id": "dkhw-mwkaTns"
      },
      "outputs": [],
      "source": []
    },
    {
      "cell_type": "markdown",
      "metadata": {
        "id": "Ogm-aF11aTnt"
      },
      "source": [
        "## Augmentation"
      ]
    },
    {
      "cell_type": "markdown",
      "metadata": {
        "id": "qZYsqKi7aTnt"
      },
      "source": [
        "Augmenting Prompt"
      ]
    },
    {
      "cell_type": "code",
      "execution_count": null,
      "metadata": {
        "id": "1GdQ63AEaTnt"
      },
      "outputs": [],
      "source": []
    },
    {
      "cell_type": "markdown",
      "metadata": {
        "id": "ZgDw-bYeaTnt"
      },
      "source": [
        "modifying system prompt"
      ]
    },
    {
      "cell_type": "markdown",
      "metadata": {
        "id": "cd91tpDLaTnt"
      },
      "source": []
    },
    {
      "cell_type": "markdown",
      "metadata": {
        "id": "eX-PBKjSaTnt"
      },
      "source": [
        "## Generation"
      ]
    },
    {
      "cell_type": "markdown",
      "metadata": {
        "id": "UphKp2LCaTnu"
      },
      "source": [
        "set up llm provider"
      ]
    },
    {
      "cell_type": "markdown",
      "metadata": {
        "id": "j9dTmU0QaTnu"
      },
      "source": []
    },
    {
      "cell_type": "markdown",
      "metadata": {
        "id": "ZwSEuXvxaTnv"
      },
      "source": [
        "generate response"
      ]
    },
    {
      "cell_type": "markdown",
      "metadata": {
        "id": "gSrwoJokaTnv"
      },
      "source": []
    }
  ],
  "metadata": {
    "kernelspec": {
      "display_name": "Python 3",
      "language": "python",
      "name": "python3"
    },
    "language_info": {
      "codemirror_mode": {
        "name": "ipython",
        "version": 3
      },
      "file_extension": ".py",
      "mimetype": "text/x-python",
      "name": "python",
      "nbconvert_exporter": "python",
      "pygments_lexer": "ipython3",
      "version": "3.11.0"
    },
    "colab": {
      "provenance": []
    },
    "widgets": {
      "application/vnd.jupyter.widget-state+json": {
        "3f6b55cb02364b4abf55fd1dfa0a570d": {
          "model_module": "@jupyter-widgets/controls",
          "model_name": "HBoxModel",
          "model_module_version": "1.5.0",
          "state": {
            "_dom_classes": [],
            "_model_module": "@jupyter-widgets/controls",
            "_model_module_version": "1.5.0",
            "_model_name": "HBoxModel",
            "_view_count": null,
            "_view_module": "@jupyter-widgets/controls",
            "_view_module_version": "1.5.0",
            "_view_name": "HBoxView",
            "box_style": "",
            "children": [
              "IPY_MODEL_ed93e3e6516e4304a55faf55e2a44688",
              "IPY_MODEL_2d0ac4aa5cca4d06a6757ec4336d41ff",
              "IPY_MODEL_5c091324d5bc49cba710b03ed32c8ccb"
            ],
            "layout": "IPY_MODEL_d140b7d6f23d4a358f0d0e74a178c243"
          }
        },
        "ed93e3e6516e4304a55faf55e2a44688": {
          "model_module": "@jupyter-widgets/controls",
          "model_name": "HTMLModel",
          "model_module_version": "1.5.0",
          "state": {
            "_dom_classes": [],
            "_model_module": "@jupyter-widgets/controls",
            "_model_module_version": "1.5.0",
            "_model_name": "HTMLModel",
            "_view_count": null,
            "_view_module": "@jupyter-widgets/controls",
            "_view_module_version": "1.5.0",
            "_view_name": "HTMLView",
            "description": "",
            "description_tooltip": null,
            "layout": "IPY_MODEL_1cf5c9ca89ad4d0a94ad6c5abe4d3e66",
            "placeholder": "​",
            "style": "IPY_MODEL_2e9c95f2dcf648c39605a0350c440d70",
            "value": "configuration.py: 100%"
          }
        },
        "2d0ac4aa5cca4d06a6757ec4336d41ff": {
          "model_module": "@jupyter-widgets/controls",
          "model_name": "FloatProgressModel",
          "model_module_version": "1.5.0",
          "state": {
            "_dom_classes": [],
            "_model_module": "@jupyter-widgets/controls",
            "_model_module_version": "1.5.0",
            "_model_name": "FloatProgressModel",
            "_view_count": null,
            "_view_module": "@jupyter-widgets/controls",
            "_view_module_version": "1.5.0",
            "_view_name": "ProgressView",
            "bar_style": "success",
            "description": "",
            "description_tooltip": null,
            "layout": "IPY_MODEL_b014ee968fa1498e92b6df517460a295",
            "max": 7127,
            "min": 0,
            "orientation": "horizontal",
            "style": "IPY_MODEL_56324bab8dfc4fe188f399f86628b5cb",
            "value": 7127
          }
        },
        "5c091324d5bc49cba710b03ed32c8ccb": {
          "model_module": "@jupyter-widgets/controls",
          "model_name": "HTMLModel",
          "model_module_version": "1.5.0",
          "state": {
            "_dom_classes": [],
            "_model_module": "@jupyter-widgets/controls",
            "_model_module_version": "1.5.0",
            "_model_name": "HTMLModel",
            "_view_count": null,
            "_view_module": "@jupyter-widgets/controls",
            "_view_module_version": "1.5.0",
            "_view_name": "HTMLView",
            "description": "",
            "description_tooltip": null,
            "layout": "IPY_MODEL_5275edcf43ac4ea59b5a3c04e82c7256",
            "placeholder": "​",
            "style": "IPY_MODEL_1446eb860c894cc6b5c13cf844b1ae44",
            "value": " 7.13k/7.13k [00:00&lt;00:00, 176kB/s]"
          }
        },
        "d140b7d6f23d4a358f0d0e74a178c243": {
          "model_module": "@jupyter-widgets/base",
          "model_name": "LayoutModel",
          "model_module_version": "1.2.0",
          "state": {
            "_model_module": "@jupyter-widgets/base",
            "_model_module_version": "1.2.0",
            "_model_name": "LayoutModel",
            "_view_count": null,
            "_view_module": "@jupyter-widgets/base",
            "_view_module_version": "1.2.0",
            "_view_name": "LayoutView",
            "align_content": null,
            "align_items": null,
            "align_self": null,
            "border": null,
            "bottom": null,
            "display": null,
            "flex": null,
            "flex_flow": null,
            "grid_area": null,
            "grid_auto_columns": null,
            "grid_auto_flow": null,
            "grid_auto_rows": null,
            "grid_column": null,
            "grid_gap": null,
            "grid_row": null,
            "grid_template_areas": null,
            "grid_template_columns": null,
            "grid_template_rows": null,
            "height": null,
            "justify_content": null,
            "justify_items": null,
            "left": null,
            "margin": null,
            "max_height": null,
            "max_width": null,
            "min_height": null,
            "min_width": null,
            "object_fit": null,
            "object_position": null,
            "order": null,
            "overflow": null,
            "overflow_x": null,
            "overflow_y": null,
            "padding": null,
            "right": null,
            "top": null,
            "visibility": null,
            "width": null
          }
        },
        "1cf5c9ca89ad4d0a94ad6c5abe4d3e66": {
          "model_module": "@jupyter-widgets/base",
          "model_name": "LayoutModel",
          "model_module_version": "1.2.0",
          "state": {
            "_model_module": "@jupyter-widgets/base",
            "_model_module_version": "1.2.0",
            "_model_name": "LayoutModel",
            "_view_count": null,
            "_view_module": "@jupyter-widgets/base",
            "_view_module_version": "1.2.0",
            "_view_name": "LayoutView",
            "align_content": null,
            "align_items": null,
            "align_self": null,
            "border": null,
            "bottom": null,
            "display": null,
            "flex": null,
            "flex_flow": null,
            "grid_area": null,
            "grid_auto_columns": null,
            "grid_auto_flow": null,
            "grid_auto_rows": null,
            "grid_column": null,
            "grid_gap": null,
            "grid_row": null,
            "grid_template_areas": null,
            "grid_template_columns": null,
            "grid_template_rows": null,
            "height": null,
            "justify_content": null,
            "justify_items": null,
            "left": null,
            "margin": null,
            "max_height": null,
            "max_width": null,
            "min_height": null,
            "min_width": null,
            "object_fit": null,
            "object_position": null,
            "order": null,
            "overflow": null,
            "overflow_x": null,
            "overflow_y": null,
            "padding": null,
            "right": null,
            "top": null,
            "visibility": null,
            "width": null
          }
        },
        "2e9c95f2dcf648c39605a0350c440d70": {
          "model_module": "@jupyter-widgets/controls",
          "model_name": "DescriptionStyleModel",
          "model_module_version": "1.5.0",
          "state": {
            "_model_module": "@jupyter-widgets/controls",
            "_model_module_version": "1.5.0",
            "_model_name": "DescriptionStyleModel",
            "_view_count": null,
            "_view_module": "@jupyter-widgets/base",
            "_view_module_version": "1.2.0",
            "_view_name": "StyleView",
            "description_width": ""
          }
        },
        "b014ee968fa1498e92b6df517460a295": {
          "model_module": "@jupyter-widgets/base",
          "model_name": "LayoutModel",
          "model_module_version": "1.2.0",
          "state": {
            "_model_module": "@jupyter-widgets/base",
            "_model_module_version": "1.2.0",
            "_model_name": "LayoutModel",
            "_view_count": null,
            "_view_module": "@jupyter-widgets/base",
            "_view_module_version": "1.2.0",
            "_view_name": "LayoutView",
            "align_content": null,
            "align_items": null,
            "align_self": null,
            "border": null,
            "bottom": null,
            "display": null,
            "flex": null,
            "flex_flow": null,
            "grid_area": null,
            "grid_auto_columns": null,
            "grid_auto_flow": null,
            "grid_auto_rows": null,
            "grid_column": null,
            "grid_gap": null,
            "grid_row": null,
            "grid_template_areas": null,
            "grid_template_columns": null,
            "grid_template_rows": null,
            "height": null,
            "justify_content": null,
            "justify_items": null,
            "left": null,
            "margin": null,
            "max_height": null,
            "max_width": null,
            "min_height": null,
            "min_width": null,
            "object_fit": null,
            "object_position": null,
            "order": null,
            "overflow": null,
            "overflow_x": null,
            "overflow_y": null,
            "padding": null,
            "right": null,
            "top": null,
            "visibility": null,
            "width": null
          }
        },
        "56324bab8dfc4fe188f399f86628b5cb": {
          "model_module": "@jupyter-widgets/controls",
          "model_name": "ProgressStyleModel",
          "model_module_version": "1.5.0",
          "state": {
            "_model_module": "@jupyter-widgets/controls",
            "_model_module_version": "1.5.0",
            "_model_name": "ProgressStyleModel",
            "_view_count": null,
            "_view_module": "@jupyter-widgets/base",
            "_view_module_version": "1.2.0",
            "_view_name": "StyleView",
            "bar_color": null,
            "description_width": ""
          }
        },
        "5275edcf43ac4ea59b5a3c04e82c7256": {
          "model_module": "@jupyter-widgets/base",
          "model_name": "LayoutModel",
          "model_module_version": "1.2.0",
          "state": {
            "_model_module": "@jupyter-widgets/base",
            "_model_module_version": "1.2.0",
            "_model_name": "LayoutModel",
            "_view_count": null,
            "_view_module": "@jupyter-widgets/base",
            "_view_module_version": "1.2.0",
            "_view_name": "LayoutView",
            "align_content": null,
            "align_items": null,
            "align_self": null,
            "border": null,
            "bottom": null,
            "display": null,
            "flex": null,
            "flex_flow": null,
            "grid_area": null,
            "grid_auto_columns": null,
            "grid_auto_flow": null,
            "grid_auto_rows": null,
            "grid_column": null,
            "grid_gap": null,
            "grid_row": null,
            "grid_template_areas": null,
            "grid_template_columns": null,
            "grid_template_rows": null,
            "height": null,
            "justify_content": null,
            "justify_items": null,
            "left": null,
            "margin": null,
            "max_height": null,
            "max_width": null,
            "min_height": null,
            "min_width": null,
            "object_fit": null,
            "object_position": null,
            "order": null,
            "overflow": null,
            "overflow_x": null,
            "overflow_y": null,
            "padding": null,
            "right": null,
            "top": null,
            "visibility": null,
            "width": null
          }
        },
        "1446eb860c894cc6b5c13cf844b1ae44": {
          "model_module": "@jupyter-widgets/controls",
          "model_name": "DescriptionStyleModel",
          "model_module_version": "1.5.0",
          "state": {
            "_model_module": "@jupyter-widgets/controls",
            "_model_module_version": "1.5.0",
            "_model_name": "DescriptionStyleModel",
            "_view_count": null,
            "_view_module": "@jupyter-widgets/base",
            "_view_module_version": "1.2.0",
            "_view_name": "StyleView",
            "description_width": ""
          }
        },
        "0f62d227afc44d1ca5da5fde0a53f991": {
          "model_module": "@jupyter-widgets/controls",
          "model_name": "HBoxModel",
          "model_module_version": "1.5.0",
          "state": {
            "_dom_classes": [],
            "_model_module": "@jupyter-widgets/controls",
            "_model_module_version": "1.5.0",
            "_model_name": "HBoxModel",
            "_view_count": null,
            "_view_module": "@jupyter-widgets/controls",
            "_view_module_version": "1.5.0",
            "_view_name": "HBoxView",
            "box_style": "",
            "children": [
              "IPY_MODEL_d10030ce387d4bd08529973f0b850dc3",
              "IPY_MODEL_08af2094603344d299f11d49a3fc0514",
              "IPY_MODEL_401c241835644fd5a8a70e45337f72d8"
            ],
            "layout": "IPY_MODEL_9b058978cae94d4ea84c682ae9e26d17"
          }
        },
        "d10030ce387d4bd08529973f0b850dc3": {
          "model_module": "@jupyter-widgets/controls",
          "model_name": "HTMLModel",
          "model_module_version": "1.5.0",
          "state": {
            "_dom_classes": [],
            "_model_module": "@jupyter-widgets/controls",
            "_model_module_version": "1.5.0",
            "_model_name": "HTMLModel",
            "_view_count": null,
            "_view_module": "@jupyter-widgets/controls",
            "_view_module_version": "1.5.0",
            "_view_name": "HTMLView",
            "description": "",
            "description_tooltip": null,
            "layout": "IPY_MODEL_5e1d4fb8722645b6967f979fcd63ebfc",
            "placeholder": "​",
            "style": "IPY_MODEL_04d6057bdfe14f20bed4a544d1d4c439",
            "value": "modeling.py: 100%"
          }
        },
        "08af2094603344d299f11d49a3fc0514": {
          "model_module": "@jupyter-widgets/controls",
          "model_name": "FloatProgressModel",
          "model_module_version": "1.5.0",
          "state": {
            "_dom_classes": [],
            "_model_module": "@jupyter-widgets/controls",
            "_model_module_version": "1.5.0",
            "_model_name": "FloatProgressModel",
            "_view_count": null,
            "_view_module": "@jupyter-widgets/controls",
            "_view_module_version": "1.5.0",
            "_view_name": "ProgressView",
            "bar_style": "success",
            "description": "",
            "description_tooltip": null,
            "layout": "IPY_MODEL_2b08e9822d30434cb08e72702622c0be",
            "max": 59023,
            "min": 0,
            "orientation": "horizontal",
            "style": "IPY_MODEL_8840c77f897e4b1c9874235629ef6183",
            "value": 59023
          }
        },
        "401c241835644fd5a8a70e45337f72d8": {
          "model_module": "@jupyter-widgets/controls",
          "model_name": "HTMLModel",
          "model_module_version": "1.5.0",
          "state": {
            "_dom_classes": [],
            "_model_module": "@jupyter-widgets/controls",
            "_model_module_version": "1.5.0",
            "_model_name": "HTMLModel",
            "_view_count": null,
            "_view_module": "@jupyter-widgets/controls",
            "_view_module_version": "1.5.0",
            "_view_name": "HTMLView",
            "description": "",
            "description_tooltip": null,
            "layout": "IPY_MODEL_4e35a1099e85439296272ab62f823696",
            "placeholder": "​",
            "style": "IPY_MODEL_e7b8e02831a641729da0b6c5a96d9c3e",
            "value": " 59.0k/59.0k [00:00&lt;00:00, 1.01MB/s]"
          }
        },
        "9b058978cae94d4ea84c682ae9e26d17": {
          "model_module": "@jupyter-widgets/base",
          "model_name": "LayoutModel",
          "model_module_version": "1.2.0",
          "state": {
            "_model_module": "@jupyter-widgets/base",
            "_model_module_version": "1.2.0",
            "_model_name": "LayoutModel",
            "_view_count": null,
            "_view_module": "@jupyter-widgets/base",
            "_view_module_version": "1.2.0",
            "_view_name": "LayoutView",
            "align_content": null,
            "align_items": null,
            "align_self": null,
            "border": null,
            "bottom": null,
            "display": null,
            "flex": null,
            "flex_flow": null,
            "grid_area": null,
            "grid_auto_columns": null,
            "grid_auto_flow": null,
            "grid_auto_rows": null,
            "grid_column": null,
            "grid_gap": null,
            "grid_row": null,
            "grid_template_areas": null,
            "grid_template_columns": null,
            "grid_template_rows": null,
            "height": null,
            "justify_content": null,
            "justify_items": null,
            "left": null,
            "margin": null,
            "max_height": null,
            "max_width": null,
            "min_height": null,
            "min_width": null,
            "object_fit": null,
            "object_position": null,
            "order": null,
            "overflow": null,
            "overflow_x": null,
            "overflow_y": null,
            "padding": null,
            "right": null,
            "top": null,
            "visibility": null,
            "width": null
          }
        },
        "5e1d4fb8722645b6967f979fcd63ebfc": {
          "model_module": "@jupyter-widgets/base",
          "model_name": "LayoutModel",
          "model_module_version": "1.2.0",
          "state": {
            "_model_module": "@jupyter-widgets/base",
            "_model_module_version": "1.2.0",
            "_model_name": "LayoutModel",
            "_view_count": null,
            "_view_module": "@jupyter-widgets/base",
            "_view_module_version": "1.2.0",
            "_view_name": "LayoutView",
            "align_content": null,
            "align_items": null,
            "align_self": null,
            "border": null,
            "bottom": null,
            "display": null,
            "flex": null,
            "flex_flow": null,
            "grid_area": null,
            "grid_auto_columns": null,
            "grid_auto_flow": null,
            "grid_auto_rows": null,
            "grid_column": null,
            "grid_gap": null,
            "grid_row": null,
            "grid_template_areas": null,
            "grid_template_columns": null,
            "grid_template_rows": null,
            "height": null,
            "justify_content": null,
            "justify_items": null,
            "left": null,
            "margin": null,
            "max_height": null,
            "max_width": null,
            "min_height": null,
            "min_width": null,
            "object_fit": null,
            "object_position": null,
            "order": null,
            "overflow": null,
            "overflow_x": null,
            "overflow_y": null,
            "padding": null,
            "right": null,
            "top": null,
            "visibility": null,
            "width": null
          }
        },
        "04d6057bdfe14f20bed4a544d1d4c439": {
          "model_module": "@jupyter-widgets/controls",
          "model_name": "DescriptionStyleModel",
          "model_module_version": "1.5.0",
          "state": {
            "_model_module": "@jupyter-widgets/controls",
            "_model_module_version": "1.5.0",
            "_model_name": "DescriptionStyleModel",
            "_view_count": null,
            "_view_module": "@jupyter-widgets/base",
            "_view_module_version": "1.2.0",
            "_view_name": "StyleView",
            "description_width": ""
          }
        },
        "2b08e9822d30434cb08e72702622c0be": {
          "model_module": "@jupyter-widgets/base",
          "model_name": "LayoutModel",
          "model_module_version": "1.2.0",
          "state": {
            "_model_module": "@jupyter-widgets/base",
            "_model_module_version": "1.2.0",
            "_model_name": "LayoutModel",
            "_view_count": null,
            "_view_module": "@jupyter-widgets/base",
            "_view_module_version": "1.2.0",
            "_view_name": "LayoutView",
            "align_content": null,
            "align_items": null,
            "align_self": null,
            "border": null,
            "bottom": null,
            "display": null,
            "flex": null,
            "flex_flow": null,
            "grid_area": null,
            "grid_auto_columns": null,
            "grid_auto_flow": null,
            "grid_auto_rows": null,
            "grid_column": null,
            "grid_gap": null,
            "grid_row": null,
            "grid_template_areas": null,
            "grid_template_columns": null,
            "grid_template_rows": null,
            "height": null,
            "justify_content": null,
            "justify_items": null,
            "left": null,
            "margin": null,
            "max_height": null,
            "max_width": null,
            "min_height": null,
            "min_width": null,
            "object_fit": null,
            "object_position": null,
            "order": null,
            "overflow": null,
            "overflow_x": null,
            "overflow_y": null,
            "padding": null,
            "right": null,
            "top": null,
            "visibility": null,
            "width": null
          }
        },
        "8840c77f897e4b1c9874235629ef6183": {
          "model_module": "@jupyter-widgets/controls",
          "model_name": "ProgressStyleModel",
          "model_module_version": "1.5.0",
          "state": {
            "_model_module": "@jupyter-widgets/controls",
            "_model_module_version": "1.5.0",
            "_model_name": "ProgressStyleModel",
            "_view_count": null,
            "_view_module": "@jupyter-widgets/base",
            "_view_module_version": "1.2.0",
            "_view_name": "StyleView",
            "bar_color": null,
            "description_width": ""
          }
        },
        "4e35a1099e85439296272ab62f823696": {
          "model_module": "@jupyter-widgets/base",
          "model_name": "LayoutModel",
          "model_module_version": "1.2.0",
          "state": {
            "_model_module": "@jupyter-widgets/base",
            "_model_module_version": "1.2.0",
            "_model_name": "LayoutModel",
            "_view_count": null,
            "_view_module": "@jupyter-widgets/base",
            "_view_module_version": "1.2.0",
            "_view_name": "LayoutView",
            "align_content": null,
            "align_items": null,
            "align_self": null,
            "border": null,
            "bottom": null,
            "display": null,
            "flex": null,
            "flex_flow": null,
            "grid_area": null,
            "grid_auto_columns": null,
            "grid_auto_flow": null,
            "grid_auto_rows": null,
            "grid_column": null,
            "grid_gap": null,
            "grid_row": null,
            "grid_template_areas": null,
            "grid_template_columns": null,
            "grid_template_rows": null,
            "height": null,
            "justify_content": null,
            "justify_items": null,
            "left": null,
            "margin": null,
            "max_height": null,
            "max_width": null,
            "min_height": null,
            "min_width": null,
            "object_fit": null,
            "object_position": null,
            "order": null,
            "overflow": null,
            "overflow_x": null,
            "overflow_y": null,
            "padding": null,
            "right": null,
            "top": null,
            "visibility": null,
            "width": null
          }
        },
        "e7b8e02831a641729da0b6c5a96d9c3e": {
          "model_module": "@jupyter-widgets/controls",
          "model_name": "DescriptionStyleModel",
          "model_module_version": "1.5.0",
          "state": {
            "_model_module": "@jupyter-widgets/controls",
            "_model_module_version": "1.5.0",
            "_model_name": "DescriptionStyleModel",
            "_view_count": null,
            "_view_module": "@jupyter-widgets/base",
            "_view_module_version": "1.2.0",
            "_view_name": "StyleView",
            "description_width": ""
          }
        },
        "5222baf7de2744b384b18f74b92daa32": {
          "model_module": "@jupyter-widgets/controls",
          "model_name": "HBoxModel",
          "model_module_version": "1.5.0",
          "state": {
            "_dom_classes": [],
            "_model_module": "@jupyter-widgets/controls",
            "_model_module_version": "1.5.0",
            "_model_name": "HBoxModel",
            "_view_count": null,
            "_view_module": "@jupyter-widgets/controls",
            "_view_module_version": "1.5.0",
            "_view_name": "HBoxView",
            "box_style": "",
            "children": [
              "IPY_MODEL_dc48619cb50b48eb8a3f3e0b59fdb651",
              "IPY_MODEL_9405e3f97ad1418aadcd21781ef4f2dd",
              "IPY_MODEL_17598ceb612d4524b7c66a3be0b8df9a"
            ],
            "layout": "IPY_MODEL_955b4d5667d345be99f7cce2fdfd6d16"
          }
        },
        "dc48619cb50b48eb8a3f3e0b59fdb651": {
          "model_module": "@jupyter-widgets/controls",
          "model_name": "HTMLModel",
          "model_module_version": "1.5.0",
          "state": {
            "_dom_classes": [],
            "_model_module": "@jupyter-widgets/controls",
            "_model_module_version": "1.5.0",
            "_model_name": "HTMLModel",
            "_view_count": null,
            "_view_module": "@jupyter-widgets/controls",
            "_view_module_version": "1.5.0",
            "_view_name": "HTMLView",
            "description": "",
            "description_tooltip": null,
            "layout": "IPY_MODEL_762a76e68496423d84011e257a39fc2d",
            "placeholder": "​",
            "style": "IPY_MODEL_99ce0dd066bd471ea004e974d740a8eb",
            "value": "model.safetensors: 100%"
          }
        },
        "9405e3f97ad1418aadcd21781ef4f2dd": {
          "model_module": "@jupyter-widgets/controls",
          "model_name": "FloatProgressModel",
          "model_module_version": "1.5.0",
          "state": {
            "_dom_classes": [],
            "_model_module": "@jupyter-widgets/controls",
            "_model_module_version": "1.5.0",
            "_model_name": "FloatProgressModel",
            "_view_count": null,
            "_view_module": "@jupyter-widgets/controls",
            "_view_module_version": "1.5.0",
            "_view_name": "ProgressView",
            "bar_style": "success",
            "description": "",
            "description_tooltip": null,
            "layout": "IPY_MODEL_b59d6b187562404cb9b857336190983a",
            "max": 547119128,
            "min": 0,
            "orientation": "horizontal",
            "style": "IPY_MODEL_8eb984b3b0294694822e6c3775b10223",
            "value": 547119128
          }
        },
        "17598ceb612d4524b7c66a3be0b8df9a": {
          "model_module": "@jupyter-widgets/controls",
          "model_name": "HTMLModel",
          "model_module_version": "1.5.0",
          "state": {
            "_dom_classes": [],
            "_model_module": "@jupyter-widgets/controls",
            "_model_module_version": "1.5.0",
            "_model_name": "HTMLModel",
            "_view_count": null,
            "_view_module": "@jupyter-widgets/controls",
            "_view_module_version": "1.5.0",
            "_view_name": "HTMLView",
            "description": "",
            "description_tooltip": null,
            "layout": "IPY_MODEL_8cc93d30fa464bdb8a585aac4fda16cc",
            "placeholder": "​",
            "style": "IPY_MODEL_42c41ecb6fde49efa7d6b29aa5449ead",
            "value": " 547M/547M [00:13&lt;00:00, 43.8MB/s]"
          }
        },
        "955b4d5667d345be99f7cce2fdfd6d16": {
          "model_module": "@jupyter-widgets/base",
          "model_name": "LayoutModel",
          "model_module_version": "1.2.0",
          "state": {
            "_model_module": "@jupyter-widgets/base",
            "_model_module_version": "1.2.0",
            "_model_name": "LayoutModel",
            "_view_count": null,
            "_view_module": "@jupyter-widgets/base",
            "_view_module_version": "1.2.0",
            "_view_name": "LayoutView",
            "align_content": null,
            "align_items": null,
            "align_self": null,
            "border": null,
            "bottom": null,
            "display": null,
            "flex": null,
            "flex_flow": null,
            "grid_area": null,
            "grid_auto_columns": null,
            "grid_auto_flow": null,
            "grid_auto_rows": null,
            "grid_column": null,
            "grid_gap": null,
            "grid_row": null,
            "grid_template_areas": null,
            "grid_template_columns": null,
            "grid_template_rows": null,
            "height": null,
            "justify_content": null,
            "justify_items": null,
            "left": null,
            "margin": null,
            "max_height": null,
            "max_width": null,
            "min_height": null,
            "min_width": null,
            "object_fit": null,
            "object_position": null,
            "order": null,
            "overflow": null,
            "overflow_x": null,
            "overflow_y": null,
            "padding": null,
            "right": null,
            "top": null,
            "visibility": null,
            "width": null
          }
        },
        "762a76e68496423d84011e257a39fc2d": {
          "model_module": "@jupyter-widgets/base",
          "model_name": "LayoutModel",
          "model_module_version": "1.2.0",
          "state": {
            "_model_module": "@jupyter-widgets/base",
            "_model_module_version": "1.2.0",
            "_model_name": "LayoutModel",
            "_view_count": null,
            "_view_module": "@jupyter-widgets/base",
            "_view_module_version": "1.2.0",
            "_view_name": "LayoutView",
            "align_content": null,
            "align_items": null,
            "align_self": null,
            "border": null,
            "bottom": null,
            "display": null,
            "flex": null,
            "flex_flow": null,
            "grid_area": null,
            "grid_auto_columns": null,
            "grid_auto_flow": null,
            "grid_auto_rows": null,
            "grid_column": null,
            "grid_gap": null,
            "grid_row": null,
            "grid_template_areas": null,
            "grid_template_columns": null,
            "grid_template_rows": null,
            "height": null,
            "justify_content": null,
            "justify_items": null,
            "left": null,
            "margin": null,
            "max_height": null,
            "max_width": null,
            "min_height": null,
            "min_width": null,
            "object_fit": null,
            "object_position": null,
            "order": null,
            "overflow": null,
            "overflow_x": null,
            "overflow_y": null,
            "padding": null,
            "right": null,
            "top": null,
            "visibility": null,
            "width": null
          }
        },
        "99ce0dd066bd471ea004e974d740a8eb": {
          "model_module": "@jupyter-widgets/controls",
          "model_name": "DescriptionStyleModel",
          "model_module_version": "1.5.0",
          "state": {
            "_model_module": "@jupyter-widgets/controls",
            "_model_module_version": "1.5.0",
            "_model_name": "DescriptionStyleModel",
            "_view_count": null,
            "_view_module": "@jupyter-widgets/base",
            "_view_module_version": "1.2.0",
            "_view_name": "StyleView",
            "description_width": ""
          }
        },
        "b59d6b187562404cb9b857336190983a": {
          "model_module": "@jupyter-widgets/base",
          "model_name": "LayoutModel",
          "model_module_version": "1.2.0",
          "state": {
            "_model_module": "@jupyter-widgets/base",
            "_model_module_version": "1.2.0",
            "_model_name": "LayoutModel",
            "_view_count": null,
            "_view_module": "@jupyter-widgets/base",
            "_view_module_version": "1.2.0",
            "_view_name": "LayoutView",
            "align_content": null,
            "align_items": null,
            "align_self": null,
            "border": null,
            "bottom": null,
            "display": null,
            "flex": null,
            "flex_flow": null,
            "grid_area": null,
            "grid_auto_columns": null,
            "grid_auto_flow": null,
            "grid_auto_rows": null,
            "grid_column": null,
            "grid_gap": null,
            "grid_row": null,
            "grid_template_areas": null,
            "grid_template_columns": null,
            "grid_template_rows": null,
            "height": null,
            "justify_content": null,
            "justify_items": null,
            "left": null,
            "margin": null,
            "max_height": null,
            "max_width": null,
            "min_height": null,
            "min_width": null,
            "object_fit": null,
            "object_position": null,
            "order": null,
            "overflow": null,
            "overflow_x": null,
            "overflow_y": null,
            "padding": null,
            "right": null,
            "top": null,
            "visibility": null,
            "width": null
          }
        },
        "8eb984b3b0294694822e6c3775b10223": {
          "model_module": "@jupyter-widgets/controls",
          "model_name": "ProgressStyleModel",
          "model_module_version": "1.5.0",
          "state": {
            "_model_module": "@jupyter-widgets/controls",
            "_model_module_version": "1.5.0",
            "_model_name": "ProgressStyleModel",
            "_view_count": null,
            "_view_module": "@jupyter-widgets/base",
            "_view_module_version": "1.2.0",
            "_view_name": "StyleView",
            "bar_color": null,
            "description_width": ""
          }
        },
        "8cc93d30fa464bdb8a585aac4fda16cc": {
          "model_module": "@jupyter-widgets/base",
          "model_name": "LayoutModel",
          "model_module_version": "1.2.0",
          "state": {
            "_model_module": "@jupyter-widgets/base",
            "_model_module_version": "1.2.0",
            "_model_name": "LayoutModel",
            "_view_count": null,
            "_view_module": "@jupyter-widgets/base",
            "_view_module_version": "1.2.0",
            "_view_name": "LayoutView",
            "align_content": null,
            "align_items": null,
            "align_self": null,
            "border": null,
            "bottom": null,
            "display": null,
            "flex": null,
            "flex_flow": null,
            "grid_area": null,
            "grid_auto_columns": null,
            "grid_auto_flow": null,
            "grid_auto_rows": null,
            "grid_column": null,
            "grid_gap": null,
            "grid_row": null,
            "grid_template_areas": null,
            "grid_template_columns": null,
            "grid_template_rows": null,
            "height": null,
            "justify_content": null,
            "justify_items": null,
            "left": null,
            "margin": null,
            "max_height": null,
            "max_width": null,
            "min_height": null,
            "min_width": null,
            "object_fit": null,
            "object_position": null,
            "order": null,
            "overflow": null,
            "overflow_x": null,
            "overflow_y": null,
            "padding": null,
            "right": null,
            "top": null,
            "visibility": null,
            "width": null
          }
        },
        "42c41ecb6fde49efa7d6b29aa5449ead": {
          "model_module": "@jupyter-widgets/controls",
          "model_name": "DescriptionStyleModel",
          "model_module_version": "1.5.0",
          "state": {
            "_model_module": "@jupyter-widgets/controls",
            "_model_module_version": "1.5.0",
            "_model_name": "DescriptionStyleModel",
            "_view_count": null,
            "_view_module": "@jupyter-widgets/base",
            "_view_module_version": "1.2.0",
            "_view_name": "StyleView",
            "description_width": ""
          }
        },
        "9fc25d10e6494ac39ef91e33601a93ef": {
          "model_module": "@jupyter-widgets/controls",
          "model_name": "HBoxModel",
          "model_module_version": "1.5.0",
          "state": {
            "_dom_classes": [],
            "_model_module": "@jupyter-widgets/controls",
            "_model_module_version": "1.5.0",
            "_model_name": "HBoxModel",
            "_view_count": null,
            "_view_module": "@jupyter-widgets/controls",
            "_view_module_version": "1.5.0",
            "_view_name": "HBoxView",
            "box_style": "",
            "children": [
              "IPY_MODEL_64592c30417547b0a0b9a30f21cb1878",
              "IPY_MODEL_f524c82e357f481bbdb0e0c99c053177",
              "IPY_MODEL_f17dc232219c4baf89175291a9e8756c"
            ],
            "layout": "IPY_MODEL_18b6748d6a604d089ab40c11154a00e9"
          }
        },
        "64592c30417547b0a0b9a30f21cb1878": {
          "model_module": "@jupyter-widgets/controls",
          "model_name": "HTMLModel",
          "model_module_version": "1.5.0",
          "state": {
            "_dom_classes": [],
            "_model_module": "@jupyter-widgets/controls",
            "_model_module_version": "1.5.0",
            "_model_name": "HTMLModel",
            "_view_count": null,
            "_view_module": "@jupyter-widgets/controls",
            "_view_module_version": "1.5.0",
            "_view_name": "HTMLView",
            "description": "",
            "description_tooltip": null,
            "layout": "IPY_MODEL_647238ad614a499199b3ead12675bc94",
            "placeholder": "​",
            "style": "IPY_MODEL_1ed2521bea7c470a972dfb48b8fd758f",
            "value": "tokenizer_config.json: 100%"
          }
        },
        "f524c82e357f481bbdb0e0c99c053177": {
          "model_module": "@jupyter-widgets/controls",
          "model_name": "FloatProgressModel",
          "model_module_version": "1.5.0",
          "state": {
            "_dom_classes": [],
            "_model_module": "@jupyter-widgets/controls",
            "_model_module_version": "1.5.0",
            "_model_name": "FloatProgressModel",
            "_view_count": null,
            "_view_module": "@jupyter-widgets/controls",
            "_view_module_version": "1.5.0",
            "_view_name": "ProgressView",
            "bar_style": "success",
            "description": "",
            "description_tooltip": null,
            "layout": "IPY_MODEL_d98858b8324d4cfcbab2d876d8227c19",
            "max": 1383,
            "min": 0,
            "orientation": "horizontal",
            "style": "IPY_MODEL_c9f19a6de074408099e485ca08f38e01",
            "value": 1383
          }
        },
        "f17dc232219c4baf89175291a9e8756c": {
          "model_module": "@jupyter-widgets/controls",
          "model_name": "HTMLModel",
          "model_module_version": "1.5.0",
          "state": {
            "_dom_classes": [],
            "_model_module": "@jupyter-widgets/controls",
            "_model_module_version": "1.5.0",
            "_model_name": "HTMLModel",
            "_view_count": null,
            "_view_module": "@jupyter-widgets/controls",
            "_view_module_version": "1.5.0",
            "_view_name": "HTMLView",
            "description": "",
            "description_tooltip": null,
            "layout": "IPY_MODEL_2d9db342136642bc9bf11d829b3dae8f",
            "placeholder": "​",
            "style": "IPY_MODEL_50120dd3361749b1991a0efec3a789ed",
            "value": " 1.38k/1.38k [00:00&lt;00:00, 67.6kB/s]"
          }
        },
        "18b6748d6a604d089ab40c11154a00e9": {
          "model_module": "@jupyter-widgets/base",
          "model_name": "LayoutModel",
          "model_module_version": "1.2.0",
          "state": {
            "_model_module": "@jupyter-widgets/base",
            "_model_module_version": "1.2.0",
            "_model_name": "LayoutModel",
            "_view_count": null,
            "_view_module": "@jupyter-widgets/base",
            "_view_module_version": "1.2.0",
            "_view_name": "LayoutView",
            "align_content": null,
            "align_items": null,
            "align_self": null,
            "border": null,
            "bottom": null,
            "display": null,
            "flex": null,
            "flex_flow": null,
            "grid_area": null,
            "grid_auto_columns": null,
            "grid_auto_flow": null,
            "grid_auto_rows": null,
            "grid_column": null,
            "grid_gap": null,
            "grid_row": null,
            "grid_template_areas": null,
            "grid_template_columns": null,
            "grid_template_rows": null,
            "height": null,
            "justify_content": null,
            "justify_items": null,
            "left": null,
            "margin": null,
            "max_height": null,
            "max_width": null,
            "min_height": null,
            "min_width": null,
            "object_fit": null,
            "object_position": null,
            "order": null,
            "overflow": null,
            "overflow_x": null,
            "overflow_y": null,
            "padding": null,
            "right": null,
            "top": null,
            "visibility": null,
            "width": null
          }
        },
        "647238ad614a499199b3ead12675bc94": {
          "model_module": "@jupyter-widgets/base",
          "model_name": "LayoutModel",
          "model_module_version": "1.2.0",
          "state": {
            "_model_module": "@jupyter-widgets/base",
            "_model_module_version": "1.2.0",
            "_model_name": "LayoutModel",
            "_view_count": null,
            "_view_module": "@jupyter-widgets/base",
            "_view_module_version": "1.2.0",
            "_view_name": "LayoutView",
            "align_content": null,
            "align_items": null,
            "align_self": null,
            "border": null,
            "bottom": null,
            "display": null,
            "flex": null,
            "flex_flow": null,
            "grid_area": null,
            "grid_auto_columns": null,
            "grid_auto_flow": null,
            "grid_auto_rows": null,
            "grid_column": null,
            "grid_gap": null,
            "grid_row": null,
            "grid_template_areas": null,
            "grid_template_columns": null,
            "grid_template_rows": null,
            "height": null,
            "justify_content": null,
            "justify_items": null,
            "left": null,
            "margin": null,
            "max_height": null,
            "max_width": null,
            "min_height": null,
            "min_width": null,
            "object_fit": null,
            "object_position": null,
            "order": null,
            "overflow": null,
            "overflow_x": null,
            "overflow_y": null,
            "padding": null,
            "right": null,
            "top": null,
            "visibility": null,
            "width": null
          }
        },
        "1ed2521bea7c470a972dfb48b8fd758f": {
          "model_module": "@jupyter-widgets/controls",
          "model_name": "DescriptionStyleModel",
          "model_module_version": "1.5.0",
          "state": {
            "_model_module": "@jupyter-widgets/controls",
            "_model_module_version": "1.5.0",
            "_model_name": "DescriptionStyleModel",
            "_view_count": null,
            "_view_module": "@jupyter-widgets/base",
            "_view_module_version": "1.2.0",
            "_view_name": "StyleView",
            "description_width": ""
          }
        },
        "d98858b8324d4cfcbab2d876d8227c19": {
          "model_module": "@jupyter-widgets/base",
          "model_name": "LayoutModel",
          "model_module_version": "1.2.0",
          "state": {
            "_model_module": "@jupyter-widgets/base",
            "_model_module_version": "1.2.0",
            "_model_name": "LayoutModel",
            "_view_count": null,
            "_view_module": "@jupyter-widgets/base",
            "_view_module_version": "1.2.0",
            "_view_name": "LayoutView",
            "align_content": null,
            "align_items": null,
            "align_self": null,
            "border": null,
            "bottom": null,
            "display": null,
            "flex": null,
            "flex_flow": null,
            "grid_area": null,
            "grid_auto_columns": null,
            "grid_auto_flow": null,
            "grid_auto_rows": null,
            "grid_column": null,
            "grid_gap": null,
            "grid_row": null,
            "grid_template_areas": null,
            "grid_template_columns": null,
            "grid_template_rows": null,
            "height": null,
            "justify_content": null,
            "justify_items": null,
            "left": null,
            "margin": null,
            "max_height": null,
            "max_width": null,
            "min_height": null,
            "min_width": null,
            "object_fit": null,
            "object_position": null,
            "order": null,
            "overflow": null,
            "overflow_x": null,
            "overflow_y": null,
            "padding": null,
            "right": null,
            "top": null,
            "visibility": null,
            "width": null
          }
        },
        "c9f19a6de074408099e485ca08f38e01": {
          "model_module": "@jupyter-widgets/controls",
          "model_name": "ProgressStyleModel",
          "model_module_version": "1.5.0",
          "state": {
            "_model_module": "@jupyter-widgets/controls",
            "_model_module_version": "1.5.0",
            "_model_name": "ProgressStyleModel",
            "_view_count": null,
            "_view_module": "@jupyter-widgets/base",
            "_view_module_version": "1.2.0",
            "_view_name": "StyleView",
            "bar_color": null,
            "description_width": ""
          }
        },
        "2d9db342136642bc9bf11d829b3dae8f": {
          "model_module": "@jupyter-widgets/base",
          "model_name": "LayoutModel",
          "model_module_version": "1.2.0",
          "state": {
            "_model_module": "@jupyter-widgets/base",
            "_model_module_version": "1.2.0",
            "_model_name": "LayoutModel",
            "_view_count": null,
            "_view_module": "@jupyter-widgets/base",
            "_view_module_version": "1.2.0",
            "_view_name": "LayoutView",
            "align_content": null,
            "align_items": null,
            "align_self": null,
            "border": null,
            "bottom": null,
            "display": null,
            "flex": null,
            "flex_flow": null,
            "grid_area": null,
            "grid_auto_columns": null,
            "grid_auto_flow": null,
            "grid_auto_rows": null,
            "grid_column": null,
            "grid_gap": null,
            "grid_row": null,
            "grid_template_areas": null,
            "grid_template_columns": null,
            "grid_template_rows": null,
            "height": null,
            "justify_content": null,
            "justify_items": null,
            "left": null,
            "margin": null,
            "max_height": null,
            "max_width": null,
            "min_height": null,
            "min_width": null,
            "object_fit": null,
            "object_position": null,
            "order": null,
            "overflow": null,
            "overflow_x": null,
            "overflow_y": null,
            "padding": null,
            "right": null,
            "top": null,
            "visibility": null,
            "width": null
          }
        },
        "50120dd3361749b1991a0efec3a789ed": {
          "model_module": "@jupyter-widgets/controls",
          "model_name": "DescriptionStyleModel",
          "model_module_version": "1.5.0",
          "state": {
            "_model_module": "@jupyter-widgets/controls",
            "_model_module_version": "1.5.0",
            "_model_name": "DescriptionStyleModel",
            "_view_count": null,
            "_view_module": "@jupyter-widgets/base",
            "_view_module_version": "1.2.0",
            "_view_name": "StyleView",
            "description_width": ""
          }
        },
        "2a9b2a740b95431eab8acd994b0ca510": {
          "model_module": "@jupyter-widgets/controls",
          "model_name": "HBoxModel",
          "model_module_version": "1.5.0",
          "state": {
            "_dom_classes": [],
            "_model_module": "@jupyter-widgets/controls",
            "_model_module_version": "1.5.0",
            "_model_name": "HBoxModel",
            "_view_count": null,
            "_view_module": "@jupyter-widgets/controls",
            "_view_module_version": "1.5.0",
            "_view_name": "HBoxView",
            "box_style": "",
            "children": [
              "IPY_MODEL_bd9fa827758144f3a18e2320015289bb",
              "IPY_MODEL_7f8961ef697e45b794bfff0ac69bc127",
              "IPY_MODEL_7df3fd03812a4ddc967b5b4e6f73c5e4"
            ],
            "layout": "IPY_MODEL_71c0eaa837d2441685e6220f9009e6ef"
          }
        },
        "bd9fa827758144f3a18e2320015289bb": {
          "model_module": "@jupyter-widgets/controls",
          "model_name": "HTMLModel",
          "model_module_version": "1.5.0",
          "state": {
            "_dom_classes": [],
            "_model_module": "@jupyter-widgets/controls",
            "_model_module_version": "1.5.0",
            "_model_name": "HTMLModel",
            "_view_count": null,
            "_view_module": "@jupyter-widgets/controls",
            "_view_module_version": "1.5.0",
            "_view_name": "HTMLView",
            "description": "",
            "description_tooltip": null,
            "layout": "IPY_MODEL_8cc07cbeba2041bb81fbca8d2b386012",
            "placeholder": "​",
            "style": "IPY_MODEL_b836c83052db45c19e89ce616246e057",
            "value": "vocab.txt: 100%"
          }
        },
        "7f8961ef697e45b794bfff0ac69bc127": {
          "model_module": "@jupyter-widgets/controls",
          "model_name": "FloatProgressModel",
          "model_module_version": "1.5.0",
          "state": {
            "_dom_classes": [],
            "_model_module": "@jupyter-widgets/controls",
            "_model_module_version": "1.5.0",
            "_model_name": "FloatProgressModel",
            "_view_count": null,
            "_view_module": "@jupyter-widgets/controls",
            "_view_module_version": "1.5.0",
            "_view_name": "ProgressView",
            "bar_style": "success",
            "description": "",
            "description_tooltip": null,
            "layout": "IPY_MODEL_1a173207cb82481da729fc3995572b32",
            "max": 231508,
            "min": 0,
            "orientation": "horizontal",
            "style": "IPY_MODEL_bc5ebeb7a9ae4389a83fa59b8e8c1a41",
            "value": 231508
          }
        },
        "7df3fd03812a4ddc967b5b4e6f73c5e4": {
          "model_module": "@jupyter-widgets/controls",
          "model_name": "HTMLModel",
          "model_module_version": "1.5.0",
          "state": {
            "_dom_classes": [],
            "_model_module": "@jupyter-widgets/controls",
            "_model_module_version": "1.5.0",
            "_model_name": "HTMLModel",
            "_view_count": null,
            "_view_module": "@jupyter-widgets/controls",
            "_view_module_version": "1.5.0",
            "_view_name": "HTMLView",
            "description": "",
            "description_tooltip": null,
            "layout": "IPY_MODEL_8dd118273aae43688f076ab633d3041f",
            "placeholder": "​",
            "style": "IPY_MODEL_6b1b3395cbe140519d3db451d7d0edc9",
            "value": " 232k/232k [00:00&lt;00:00, 9.39MB/s]"
          }
        },
        "71c0eaa837d2441685e6220f9009e6ef": {
          "model_module": "@jupyter-widgets/base",
          "model_name": "LayoutModel",
          "model_module_version": "1.2.0",
          "state": {
            "_model_module": "@jupyter-widgets/base",
            "_model_module_version": "1.2.0",
            "_model_name": "LayoutModel",
            "_view_count": null,
            "_view_module": "@jupyter-widgets/base",
            "_view_module_version": "1.2.0",
            "_view_name": "LayoutView",
            "align_content": null,
            "align_items": null,
            "align_self": null,
            "border": null,
            "bottom": null,
            "display": null,
            "flex": null,
            "flex_flow": null,
            "grid_area": null,
            "grid_auto_columns": null,
            "grid_auto_flow": null,
            "grid_auto_rows": null,
            "grid_column": null,
            "grid_gap": null,
            "grid_row": null,
            "grid_template_areas": null,
            "grid_template_columns": null,
            "grid_template_rows": null,
            "height": null,
            "justify_content": null,
            "justify_items": null,
            "left": null,
            "margin": null,
            "max_height": null,
            "max_width": null,
            "min_height": null,
            "min_width": null,
            "object_fit": null,
            "object_position": null,
            "order": null,
            "overflow": null,
            "overflow_x": null,
            "overflow_y": null,
            "padding": null,
            "right": null,
            "top": null,
            "visibility": null,
            "width": null
          }
        },
        "8cc07cbeba2041bb81fbca8d2b386012": {
          "model_module": "@jupyter-widgets/base",
          "model_name": "LayoutModel",
          "model_module_version": "1.2.0",
          "state": {
            "_model_module": "@jupyter-widgets/base",
            "_model_module_version": "1.2.0",
            "_model_name": "LayoutModel",
            "_view_count": null,
            "_view_module": "@jupyter-widgets/base",
            "_view_module_version": "1.2.0",
            "_view_name": "LayoutView",
            "align_content": null,
            "align_items": null,
            "align_self": null,
            "border": null,
            "bottom": null,
            "display": null,
            "flex": null,
            "flex_flow": null,
            "grid_area": null,
            "grid_auto_columns": null,
            "grid_auto_flow": null,
            "grid_auto_rows": null,
            "grid_column": null,
            "grid_gap": null,
            "grid_row": null,
            "grid_template_areas": null,
            "grid_template_columns": null,
            "grid_template_rows": null,
            "height": null,
            "justify_content": null,
            "justify_items": null,
            "left": null,
            "margin": null,
            "max_height": null,
            "max_width": null,
            "min_height": null,
            "min_width": null,
            "object_fit": null,
            "object_position": null,
            "order": null,
            "overflow": null,
            "overflow_x": null,
            "overflow_y": null,
            "padding": null,
            "right": null,
            "top": null,
            "visibility": null,
            "width": null
          }
        },
        "b836c83052db45c19e89ce616246e057": {
          "model_module": "@jupyter-widgets/controls",
          "model_name": "DescriptionStyleModel",
          "model_module_version": "1.5.0",
          "state": {
            "_model_module": "@jupyter-widgets/controls",
            "_model_module_version": "1.5.0",
            "_model_name": "DescriptionStyleModel",
            "_view_count": null,
            "_view_module": "@jupyter-widgets/base",
            "_view_module_version": "1.2.0",
            "_view_name": "StyleView",
            "description_width": ""
          }
        },
        "1a173207cb82481da729fc3995572b32": {
          "model_module": "@jupyter-widgets/base",
          "model_name": "LayoutModel",
          "model_module_version": "1.2.0",
          "state": {
            "_model_module": "@jupyter-widgets/base",
            "_model_module_version": "1.2.0",
            "_model_name": "LayoutModel",
            "_view_count": null,
            "_view_module": "@jupyter-widgets/base",
            "_view_module_version": "1.2.0",
            "_view_name": "LayoutView",
            "align_content": null,
            "align_items": null,
            "align_self": null,
            "border": null,
            "bottom": null,
            "display": null,
            "flex": null,
            "flex_flow": null,
            "grid_area": null,
            "grid_auto_columns": null,
            "grid_auto_flow": null,
            "grid_auto_rows": null,
            "grid_column": null,
            "grid_gap": null,
            "grid_row": null,
            "grid_template_areas": null,
            "grid_template_columns": null,
            "grid_template_rows": null,
            "height": null,
            "justify_content": null,
            "justify_items": null,
            "left": null,
            "margin": null,
            "max_height": null,
            "max_width": null,
            "min_height": null,
            "min_width": null,
            "object_fit": null,
            "object_position": null,
            "order": null,
            "overflow": null,
            "overflow_x": null,
            "overflow_y": null,
            "padding": null,
            "right": null,
            "top": null,
            "visibility": null,
            "width": null
          }
        },
        "bc5ebeb7a9ae4389a83fa59b8e8c1a41": {
          "model_module": "@jupyter-widgets/controls",
          "model_name": "ProgressStyleModel",
          "model_module_version": "1.5.0",
          "state": {
            "_model_module": "@jupyter-widgets/controls",
            "_model_module_version": "1.5.0",
            "_model_name": "ProgressStyleModel",
            "_view_count": null,
            "_view_module": "@jupyter-widgets/base",
            "_view_module_version": "1.2.0",
            "_view_name": "StyleView",
            "bar_color": null,
            "description_width": ""
          }
        },
        "8dd118273aae43688f076ab633d3041f": {
          "model_module": "@jupyter-widgets/base",
          "model_name": "LayoutModel",
          "model_module_version": "1.2.0",
          "state": {
            "_model_module": "@jupyter-widgets/base",
            "_model_module_version": "1.2.0",
            "_model_name": "LayoutModel",
            "_view_count": null,
            "_view_module": "@jupyter-widgets/base",
            "_view_module_version": "1.2.0",
            "_view_name": "LayoutView",
            "align_content": null,
            "align_items": null,
            "align_self": null,
            "border": null,
            "bottom": null,
            "display": null,
            "flex": null,
            "flex_flow": null,
            "grid_area": null,
            "grid_auto_columns": null,
            "grid_auto_flow": null,
            "grid_auto_rows": null,
            "grid_column": null,
            "grid_gap": null,
            "grid_row": null,
            "grid_template_areas": null,
            "grid_template_columns": null,
            "grid_template_rows": null,
            "height": null,
            "justify_content": null,
            "justify_items": null,
            "left": null,
            "margin": null,
            "max_height": null,
            "max_width": null,
            "min_height": null,
            "min_width": null,
            "object_fit": null,
            "object_position": null,
            "order": null,
            "overflow": null,
            "overflow_x": null,
            "overflow_y": null,
            "padding": null,
            "right": null,
            "top": null,
            "visibility": null,
            "width": null
          }
        },
        "6b1b3395cbe140519d3db451d7d0edc9": {
          "model_module": "@jupyter-widgets/controls",
          "model_name": "DescriptionStyleModel",
          "model_module_version": "1.5.0",
          "state": {
            "_model_module": "@jupyter-widgets/controls",
            "_model_module_version": "1.5.0",
            "_model_name": "DescriptionStyleModel",
            "_view_count": null,
            "_view_module": "@jupyter-widgets/base",
            "_view_module_version": "1.2.0",
            "_view_name": "StyleView",
            "description_width": ""
          }
        },
        "db6096889b244e9996a61a91eb45534a": {
          "model_module": "@jupyter-widgets/controls",
          "model_name": "HBoxModel",
          "model_module_version": "1.5.0",
          "state": {
            "_dom_classes": [],
            "_model_module": "@jupyter-widgets/controls",
            "_model_module_version": "1.5.0",
            "_model_name": "HBoxModel",
            "_view_count": null,
            "_view_module": "@jupyter-widgets/controls",
            "_view_module_version": "1.5.0",
            "_view_name": "HBoxView",
            "box_style": "",
            "children": [
              "IPY_MODEL_decb51a6a9de4943b2d685ee8030cf3d",
              "IPY_MODEL_f48243736d2743e685e158d975d18c12",
              "IPY_MODEL_c6ebd5763ab642a287daea1f1f851802"
            ],
            "layout": "IPY_MODEL_bb6520187c5847959d9479ded2866b6c"
          }
        },
        "decb51a6a9de4943b2d685ee8030cf3d": {
          "model_module": "@jupyter-widgets/controls",
          "model_name": "HTMLModel",
          "model_module_version": "1.5.0",
          "state": {
            "_dom_classes": [],
            "_model_module": "@jupyter-widgets/controls",
            "_model_module_version": "1.5.0",
            "_model_name": "HTMLModel",
            "_view_count": null,
            "_view_module": "@jupyter-widgets/controls",
            "_view_module_version": "1.5.0",
            "_view_name": "HTMLView",
            "description": "",
            "description_tooltip": null,
            "layout": "IPY_MODEL_b2046ff594d94bf68e425153eef380f0",
            "placeholder": "​",
            "style": "IPY_MODEL_43ecea9150374f56b3a15158a5675080",
            "value": "tokenizer.json: 100%"
          }
        },
        "f48243736d2743e685e158d975d18c12": {
          "model_module": "@jupyter-widgets/controls",
          "model_name": "FloatProgressModel",
          "model_module_version": "1.5.0",
          "state": {
            "_dom_classes": [],
            "_model_module": "@jupyter-widgets/controls",
            "_model_module_version": "1.5.0",
            "_model_name": "FloatProgressModel",
            "_view_count": null,
            "_view_module": "@jupyter-widgets/controls",
            "_view_module_version": "1.5.0",
            "_view_name": "ProgressView",
            "bar_style": "success",
            "description": "",
            "description_tooltip": null,
            "layout": "IPY_MODEL_644c75cc533e45f494b6fb39b99c27f9",
            "max": 711661,
            "min": 0,
            "orientation": "horizontal",
            "style": "IPY_MODEL_5dc1445f2ced4257afe994387cc2ffc6",
            "value": 711661
          }
        },
        "c6ebd5763ab642a287daea1f1f851802": {
          "model_module": "@jupyter-widgets/controls",
          "model_name": "HTMLModel",
          "model_module_version": "1.5.0",
          "state": {
            "_dom_classes": [],
            "_model_module": "@jupyter-widgets/controls",
            "_model_module_version": "1.5.0",
            "_model_name": "HTMLModel",
            "_view_count": null,
            "_view_module": "@jupyter-widgets/controls",
            "_view_module_version": "1.5.0",
            "_view_name": "HTMLView",
            "description": "",
            "description_tooltip": null,
            "layout": "IPY_MODEL_927713ca14274b2a84b2844d77f103f6",
            "placeholder": "​",
            "style": "IPY_MODEL_560a08950fc84ff9b0310ee7e0c3ce37",
            "value": " 712k/712k [00:00&lt;00:00, 23.2MB/s]"
          }
        },
        "bb6520187c5847959d9479ded2866b6c": {
          "model_module": "@jupyter-widgets/base",
          "model_name": "LayoutModel",
          "model_module_version": "1.2.0",
          "state": {
            "_model_module": "@jupyter-widgets/base",
            "_model_module_version": "1.2.0",
            "_model_name": "LayoutModel",
            "_view_count": null,
            "_view_module": "@jupyter-widgets/base",
            "_view_module_version": "1.2.0",
            "_view_name": "LayoutView",
            "align_content": null,
            "align_items": null,
            "align_self": null,
            "border": null,
            "bottom": null,
            "display": null,
            "flex": null,
            "flex_flow": null,
            "grid_area": null,
            "grid_auto_columns": null,
            "grid_auto_flow": null,
            "grid_auto_rows": null,
            "grid_column": null,
            "grid_gap": null,
            "grid_row": null,
            "grid_template_areas": null,
            "grid_template_columns": null,
            "grid_template_rows": null,
            "height": null,
            "justify_content": null,
            "justify_items": null,
            "left": null,
            "margin": null,
            "max_height": null,
            "max_width": null,
            "min_height": null,
            "min_width": null,
            "object_fit": null,
            "object_position": null,
            "order": null,
            "overflow": null,
            "overflow_x": null,
            "overflow_y": null,
            "padding": null,
            "right": null,
            "top": null,
            "visibility": null,
            "width": null
          }
        },
        "b2046ff594d94bf68e425153eef380f0": {
          "model_module": "@jupyter-widgets/base",
          "model_name": "LayoutModel",
          "model_module_version": "1.2.0",
          "state": {
            "_model_module": "@jupyter-widgets/base",
            "_model_module_version": "1.2.0",
            "_model_name": "LayoutModel",
            "_view_count": null,
            "_view_module": "@jupyter-widgets/base",
            "_view_module_version": "1.2.0",
            "_view_name": "LayoutView",
            "align_content": null,
            "align_items": null,
            "align_self": null,
            "border": null,
            "bottom": null,
            "display": null,
            "flex": null,
            "flex_flow": null,
            "grid_area": null,
            "grid_auto_columns": null,
            "grid_auto_flow": null,
            "grid_auto_rows": null,
            "grid_column": null,
            "grid_gap": null,
            "grid_row": null,
            "grid_template_areas": null,
            "grid_template_columns": null,
            "grid_template_rows": null,
            "height": null,
            "justify_content": null,
            "justify_items": null,
            "left": null,
            "margin": null,
            "max_height": null,
            "max_width": null,
            "min_height": null,
            "min_width": null,
            "object_fit": null,
            "object_position": null,
            "order": null,
            "overflow": null,
            "overflow_x": null,
            "overflow_y": null,
            "padding": null,
            "right": null,
            "top": null,
            "visibility": null,
            "width": null
          }
        },
        "43ecea9150374f56b3a15158a5675080": {
          "model_module": "@jupyter-widgets/controls",
          "model_name": "DescriptionStyleModel",
          "model_module_version": "1.5.0",
          "state": {
            "_model_module": "@jupyter-widgets/controls",
            "_model_module_version": "1.5.0",
            "_model_name": "DescriptionStyleModel",
            "_view_count": null,
            "_view_module": "@jupyter-widgets/base",
            "_view_module_version": "1.2.0",
            "_view_name": "StyleView",
            "description_width": ""
          }
        },
        "644c75cc533e45f494b6fb39b99c27f9": {
          "model_module": "@jupyter-widgets/base",
          "model_name": "LayoutModel",
          "model_module_version": "1.2.0",
          "state": {
            "_model_module": "@jupyter-widgets/base",
            "_model_module_version": "1.2.0",
            "_model_name": "LayoutModel",
            "_view_count": null,
            "_view_module": "@jupyter-widgets/base",
            "_view_module_version": "1.2.0",
            "_view_name": "LayoutView",
            "align_content": null,
            "align_items": null,
            "align_self": null,
            "border": null,
            "bottom": null,
            "display": null,
            "flex": null,
            "flex_flow": null,
            "grid_area": null,
            "grid_auto_columns": null,
            "grid_auto_flow": null,
            "grid_auto_rows": null,
            "grid_column": null,
            "grid_gap": null,
            "grid_row": null,
            "grid_template_areas": null,
            "grid_template_columns": null,
            "grid_template_rows": null,
            "height": null,
            "justify_content": null,
            "justify_items": null,
            "left": null,
            "margin": null,
            "max_height": null,
            "max_width": null,
            "min_height": null,
            "min_width": null,
            "object_fit": null,
            "object_position": null,
            "order": null,
            "overflow": null,
            "overflow_x": null,
            "overflow_y": null,
            "padding": null,
            "right": null,
            "top": null,
            "visibility": null,
            "width": null
          }
        },
        "5dc1445f2ced4257afe994387cc2ffc6": {
          "model_module": "@jupyter-widgets/controls",
          "model_name": "ProgressStyleModel",
          "model_module_version": "1.5.0",
          "state": {
            "_model_module": "@jupyter-widgets/controls",
            "_model_module_version": "1.5.0",
            "_model_name": "ProgressStyleModel",
            "_view_count": null,
            "_view_module": "@jupyter-widgets/base",
            "_view_module_version": "1.2.0",
            "_view_name": "StyleView",
            "bar_color": null,
            "description_width": ""
          }
        },
        "927713ca14274b2a84b2844d77f103f6": {
          "model_module": "@jupyter-widgets/base",
          "model_name": "LayoutModel",
          "model_module_version": "1.2.0",
          "state": {
            "_model_module": "@jupyter-widgets/base",
            "_model_module_version": "1.2.0",
            "_model_name": "LayoutModel",
            "_view_count": null,
            "_view_module": "@jupyter-widgets/base",
            "_view_module_version": "1.2.0",
            "_view_name": "LayoutView",
            "align_content": null,
            "align_items": null,
            "align_self": null,
            "border": null,
            "bottom": null,
            "display": null,
            "flex": null,
            "flex_flow": null,
            "grid_area": null,
            "grid_auto_columns": null,
            "grid_auto_flow": null,
            "grid_auto_rows": null,
            "grid_column": null,
            "grid_gap": null,
            "grid_row": null,
            "grid_template_areas": null,
            "grid_template_columns": null,
            "grid_template_rows": null,
            "height": null,
            "justify_content": null,
            "justify_items": null,
            "left": null,
            "margin": null,
            "max_height": null,
            "max_width": null,
            "min_height": null,
            "min_width": null,
            "object_fit": null,
            "object_position": null,
            "order": null,
            "overflow": null,
            "overflow_x": null,
            "overflow_y": null,
            "padding": null,
            "right": null,
            "top": null,
            "visibility": null,
            "width": null
          }
        },
        "560a08950fc84ff9b0310ee7e0c3ce37": {
          "model_module": "@jupyter-widgets/controls",
          "model_name": "DescriptionStyleModel",
          "model_module_version": "1.5.0",
          "state": {
            "_model_module": "@jupyter-widgets/controls",
            "_model_module_version": "1.5.0",
            "_model_name": "DescriptionStyleModel",
            "_view_count": null,
            "_view_module": "@jupyter-widgets/base",
            "_view_module_version": "1.2.0",
            "_view_name": "StyleView",
            "description_width": ""
          }
        },
        "9b12c457714846e6b3951bde2f868f48": {
          "model_module": "@jupyter-widgets/controls",
          "model_name": "HBoxModel",
          "model_module_version": "1.5.0",
          "state": {
            "_dom_classes": [],
            "_model_module": "@jupyter-widgets/controls",
            "_model_module_version": "1.5.0",
            "_model_name": "HBoxModel",
            "_view_count": null,
            "_view_module": "@jupyter-widgets/controls",
            "_view_module_version": "1.5.0",
            "_view_name": "HBoxView",
            "box_style": "",
            "children": [
              "IPY_MODEL_793de2bdf1a74320ad6246e4489ef16b",
              "IPY_MODEL_07258371a48b4f6fb7423899512bcbee",
              "IPY_MODEL_2949bf296909445884bf2fa5a9f858b9"
            ],
            "layout": "IPY_MODEL_b1c9a9d0d0454e94ab346d2de813ec9f"
          }
        },
        "793de2bdf1a74320ad6246e4489ef16b": {
          "model_module": "@jupyter-widgets/controls",
          "model_name": "HTMLModel",
          "model_module_version": "1.5.0",
          "state": {
            "_dom_classes": [],
            "_model_module": "@jupyter-widgets/controls",
            "_model_module_version": "1.5.0",
            "_model_name": "HTMLModel",
            "_view_count": null,
            "_view_module": "@jupyter-widgets/controls",
            "_view_module_version": "1.5.0",
            "_view_name": "HTMLView",
            "description": "",
            "description_tooltip": null,
            "layout": "IPY_MODEL_4d45c87dae234f6cb481832960c3adfa",
            "placeholder": "​",
            "style": "IPY_MODEL_a08f5bddac0340f6b636215b9690cd25",
            "value": "special_tokens_map.json: 100%"
          }
        },
        "07258371a48b4f6fb7423899512bcbee": {
          "model_module": "@jupyter-widgets/controls",
          "model_name": "FloatProgressModel",
          "model_module_version": "1.5.0",
          "state": {
            "_dom_classes": [],
            "_model_module": "@jupyter-widgets/controls",
            "_model_module_version": "1.5.0",
            "_model_name": "FloatProgressModel",
            "_view_count": null,
            "_view_module": "@jupyter-widgets/controls",
            "_view_module_version": "1.5.0",
            "_view_name": "ProgressView",
            "bar_style": "success",
            "description": "",
            "description_tooltip": null,
            "layout": "IPY_MODEL_70a6f44eeef44c08aff8a47499d99f47",
            "max": 695,
            "min": 0,
            "orientation": "horizontal",
            "style": "IPY_MODEL_f17a1da6812144ba9c4dc4b416d21be0",
            "value": 695
          }
        },
        "2949bf296909445884bf2fa5a9f858b9": {
          "model_module": "@jupyter-widgets/controls",
          "model_name": "HTMLModel",
          "model_module_version": "1.5.0",
          "state": {
            "_dom_classes": [],
            "_model_module": "@jupyter-widgets/controls",
            "_model_module_version": "1.5.0",
            "_model_name": "HTMLModel",
            "_view_count": null,
            "_view_module": "@jupyter-widgets/controls",
            "_view_module_version": "1.5.0",
            "_view_name": "HTMLView",
            "description": "",
            "description_tooltip": null,
            "layout": "IPY_MODEL_c884f6ea991047509a1cf74b4c0d7a6b",
            "placeholder": "​",
            "style": "IPY_MODEL_e2d91c0f01b3425793664d7a5d7f4aa7",
            "value": " 695/695 [00:00&lt;00:00, 24.0kB/s]"
          }
        },
        "b1c9a9d0d0454e94ab346d2de813ec9f": {
          "model_module": "@jupyter-widgets/base",
          "model_name": "LayoutModel",
          "model_module_version": "1.2.0",
          "state": {
            "_model_module": "@jupyter-widgets/base",
            "_model_module_version": "1.2.0",
            "_model_name": "LayoutModel",
            "_view_count": null,
            "_view_module": "@jupyter-widgets/base",
            "_view_module_version": "1.2.0",
            "_view_name": "LayoutView",
            "align_content": null,
            "align_items": null,
            "align_self": null,
            "border": null,
            "bottom": null,
            "display": null,
            "flex": null,
            "flex_flow": null,
            "grid_area": null,
            "grid_auto_columns": null,
            "grid_auto_flow": null,
            "grid_auto_rows": null,
            "grid_column": null,
            "grid_gap": null,
            "grid_row": null,
            "grid_template_areas": null,
            "grid_template_columns": null,
            "grid_template_rows": null,
            "height": null,
            "justify_content": null,
            "justify_items": null,
            "left": null,
            "margin": null,
            "max_height": null,
            "max_width": null,
            "min_height": null,
            "min_width": null,
            "object_fit": null,
            "object_position": null,
            "order": null,
            "overflow": null,
            "overflow_x": null,
            "overflow_y": null,
            "padding": null,
            "right": null,
            "top": null,
            "visibility": null,
            "width": null
          }
        },
        "4d45c87dae234f6cb481832960c3adfa": {
          "model_module": "@jupyter-widgets/base",
          "model_name": "LayoutModel",
          "model_module_version": "1.2.0",
          "state": {
            "_model_module": "@jupyter-widgets/base",
            "_model_module_version": "1.2.0",
            "_model_name": "LayoutModel",
            "_view_count": null,
            "_view_module": "@jupyter-widgets/base",
            "_view_module_version": "1.2.0",
            "_view_name": "LayoutView",
            "align_content": null,
            "align_items": null,
            "align_self": null,
            "border": null,
            "bottom": null,
            "display": null,
            "flex": null,
            "flex_flow": null,
            "grid_area": null,
            "grid_auto_columns": null,
            "grid_auto_flow": null,
            "grid_auto_rows": null,
            "grid_column": null,
            "grid_gap": null,
            "grid_row": null,
            "grid_template_areas": null,
            "grid_template_columns": null,
            "grid_template_rows": null,
            "height": null,
            "justify_content": null,
            "justify_items": null,
            "left": null,
            "margin": null,
            "max_height": null,
            "max_width": null,
            "min_height": null,
            "min_width": null,
            "object_fit": null,
            "object_position": null,
            "order": null,
            "overflow": null,
            "overflow_x": null,
            "overflow_y": null,
            "padding": null,
            "right": null,
            "top": null,
            "visibility": null,
            "width": null
          }
        },
        "a08f5bddac0340f6b636215b9690cd25": {
          "model_module": "@jupyter-widgets/controls",
          "model_name": "DescriptionStyleModel",
          "model_module_version": "1.5.0",
          "state": {
            "_model_module": "@jupyter-widgets/controls",
            "_model_module_version": "1.5.0",
            "_model_name": "DescriptionStyleModel",
            "_view_count": null,
            "_view_module": "@jupyter-widgets/base",
            "_view_module_version": "1.2.0",
            "_view_name": "StyleView",
            "description_width": ""
          }
        },
        "70a6f44eeef44c08aff8a47499d99f47": {
          "model_module": "@jupyter-widgets/base",
          "model_name": "LayoutModel",
          "model_module_version": "1.2.0",
          "state": {
            "_model_module": "@jupyter-widgets/base",
            "_model_module_version": "1.2.0",
            "_model_name": "LayoutModel",
            "_view_count": null,
            "_view_module": "@jupyter-widgets/base",
            "_view_module_version": "1.2.0",
            "_view_name": "LayoutView",
            "align_content": null,
            "align_items": null,
            "align_self": null,
            "border": null,
            "bottom": null,
            "display": null,
            "flex": null,
            "flex_flow": null,
            "grid_area": null,
            "grid_auto_columns": null,
            "grid_auto_flow": null,
            "grid_auto_rows": null,
            "grid_column": null,
            "grid_gap": null,
            "grid_row": null,
            "grid_template_areas": null,
            "grid_template_columns": null,
            "grid_template_rows": null,
            "height": null,
            "justify_content": null,
            "justify_items": null,
            "left": null,
            "margin": null,
            "max_height": null,
            "max_width": null,
            "min_height": null,
            "min_width": null,
            "object_fit": null,
            "object_position": null,
            "order": null,
            "overflow": null,
            "overflow_x": null,
            "overflow_y": null,
            "padding": null,
            "right": null,
            "top": null,
            "visibility": null,
            "width": null
          }
        },
        "f17a1da6812144ba9c4dc4b416d21be0": {
          "model_module": "@jupyter-widgets/controls",
          "model_name": "ProgressStyleModel",
          "model_module_version": "1.5.0",
          "state": {
            "_model_module": "@jupyter-widgets/controls",
            "_model_module_version": "1.5.0",
            "_model_name": "ProgressStyleModel",
            "_view_count": null,
            "_view_module": "@jupyter-widgets/base",
            "_view_module_version": "1.2.0",
            "_view_name": "StyleView",
            "bar_color": null,
            "description_width": ""
          }
        },
        "c884f6ea991047509a1cf74b4c0d7a6b": {
          "model_module": "@jupyter-widgets/base",
          "model_name": "LayoutModel",
          "model_module_version": "1.2.0",
          "state": {
            "_model_module": "@jupyter-widgets/base",
            "_model_module_version": "1.2.0",
            "_model_name": "LayoutModel",
            "_view_count": null,
            "_view_module": "@jupyter-widgets/base",
            "_view_module_version": "1.2.0",
            "_view_name": "LayoutView",
            "align_content": null,
            "align_items": null,
            "align_self": null,
            "border": null,
            "bottom": null,
            "display": null,
            "flex": null,
            "flex_flow": null,
            "grid_area": null,
            "grid_auto_columns": null,
            "grid_auto_flow": null,
            "grid_auto_rows": null,
            "grid_column": null,
            "grid_gap": null,
            "grid_row": null,
            "grid_template_areas": null,
            "grid_template_columns": null,
            "grid_template_rows": null,
            "height": null,
            "justify_content": null,
            "justify_items": null,
            "left": null,
            "margin": null,
            "max_height": null,
            "max_width": null,
            "min_height": null,
            "min_width": null,
            "object_fit": null,
            "object_position": null,
            "order": null,
            "overflow": null,
            "overflow_x": null,
            "overflow_y": null,
            "padding": null,
            "right": null,
            "top": null,
            "visibility": null,
            "width": null
          }
        },
        "e2d91c0f01b3425793664d7a5d7f4aa7": {
          "model_module": "@jupyter-widgets/controls",
          "model_name": "DescriptionStyleModel",
          "model_module_version": "1.5.0",
          "state": {
            "_model_module": "@jupyter-widgets/controls",
            "_model_module_version": "1.5.0",
            "_model_name": "DescriptionStyleModel",
            "_view_count": null,
            "_view_module": "@jupyter-widgets/base",
            "_view_module_version": "1.2.0",
            "_view_name": "StyleView",
            "description_width": ""
          }
        },
        "fa9c4c8f85e043e38c947b63c6d75d28": {
          "model_module": "@jupyter-widgets/controls",
          "model_name": "HBoxModel",
          "model_module_version": "1.5.0",
          "state": {
            "_dom_classes": [],
            "_model_module": "@jupyter-widgets/controls",
            "_model_module_version": "1.5.0",
            "_model_name": "HBoxModel",
            "_view_count": null,
            "_view_module": "@jupyter-widgets/controls",
            "_view_module_version": "1.5.0",
            "_view_name": "HBoxView",
            "box_style": "",
            "children": [
              "IPY_MODEL_358f6978512f4b20ab1a73d606bf9601",
              "IPY_MODEL_cc7ee79b83ea4857939ff5d01a8e37d0",
              "IPY_MODEL_693dab2b843c42ceb90386873fe92d86"
            ],
            "layout": "IPY_MODEL_21c9959f8e7949b8b1bc9e1194878c31"
          }
        },
        "358f6978512f4b20ab1a73d606bf9601": {
          "model_module": "@jupyter-widgets/controls",
          "model_name": "HTMLModel",
          "model_module_version": "1.5.0",
          "state": {
            "_dom_classes": [],
            "_model_module": "@jupyter-widgets/controls",
            "_model_module_version": "1.5.0",
            "_model_name": "HTMLModel",
            "_view_count": null,
            "_view_module": "@jupyter-widgets/controls",
            "_view_module_version": "1.5.0",
            "_view_name": "HTMLView",
            "description": "",
            "description_tooltip": null,
            "layout": "IPY_MODEL_fe8fe6e5aecf4c4781777ebfce03f3d4",
            "placeholder": "​",
            "style": "IPY_MODEL_7a0aa490eb75421eac92b68639e44ec4",
            "value": "1_Pooling/config.json: 100%"
          }
        },
        "cc7ee79b83ea4857939ff5d01a8e37d0": {
          "model_module": "@jupyter-widgets/controls",
          "model_name": "FloatProgressModel",
          "model_module_version": "1.5.0",
          "state": {
            "_dom_classes": [],
            "_model_module": "@jupyter-widgets/controls",
            "_model_module_version": "1.5.0",
            "_model_name": "FloatProgressModel",
            "_view_count": null,
            "_view_module": "@jupyter-widgets/controls",
            "_view_module_version": "1.5.0",
            "_view_name": "ProgressView",
            "bar_style": "success",
            "description": "",
            "description_tooltip": null,
            "layout": "IPY_MODEL_6eb70cfe95a94226a0181f2c77fc4354",
            "max": 297,
            "min": 0,
            "orientation": "horizontal",
            "style": "IPY_MODEL_9c2a64bcea6b4bd9b67a5e5ce748b24f",
            "value": 297
          }
        },
        "693dab2b843c42ceb90386873fe92d86": {
          "model_module": "@jupyter-widgets/controls",
          "model_name": "HTMLModel",
          "model_module_version": "1.5.0",
          "state": {
            "_dom_classes": [],
            "_model_module": "@jupyter-widgets/controls",
            "_model_module_version": "1.5.0",
            "_model_name": "HTMLModel",
            "_view_count": null,
            "_view_module": "@jupyter-widgets/controls",
            "_view_module_version": "1.5.0",
            "_view_name": "HTMLView",
            "description": "",
            "description_tooltip": null,
            "layout": "IPY_MODEL_ee6ba3b7a69a40c9b2c49e2292ebba8e",
            "placeholder": "​",
            "style": "IPY_MODEL_4329a4722e534226974ea59010644735",
            "value": " 297/297 [00:00&lt;00:00, 8.71kB/s]"
          }
        },
        "21c9959f8e7949b8b1bc9e1194878c31": {
          "model_module": "@jupyter-widgets/base",
          "model_name": "LayoutModel",
          "model_module_version": "1.2.0",
          "state": {
            "_model_module": "@jupyter-widgets/base",
            "_model_module_version": "1.2.0",
            "_model_name": "LayoutModel",
            "_view_count": null,
            "_view_module": "@jupyter-widgets/base",
            "_view_module_version": "1.2.0",
            "_view_name": "LayoutView",
            "align_content": null,
            "align_items": null,
            "align_self": null,
            "border": null,
            "bottom": null,
            "display": null,
            "flex": null,
            "flex_flow": null,
            "grid_area": null,
            "grid_auto_columns": null,
            "grid_auto_flow": null,
            "grid_auto_rows": null,
            "grid_column": null,
            "grid_gap": null,
            "grid_row": null,
            "grid_template_areas": null,
            "grid_template_columns": null,
            "grid_template_rows": null,
            "height": null,
            "justify_content": null,
            "justify_items": null,
            "left": null,
            "margin": null,
            "max_height": null,
            "max_width": null,
            "min_height": null,
            "min_width": null,
            "object_fit": null,
            "object_position": null,
            "order": null,
            "overflow": null,
            "overflow_x": null,
            "overflow_y": null,
            "padding": null,
            "right": null,
            "top": null,
            "visibility": null,
            "width": null
          }
        },
        "fe8fe6e5aecf4c4781777ebfce03f3d4": {
          "model_module": "@jupyter-widgets/base",
          "model_name": "LayoutModel",
          "model_module_version": "1.2.0",
          "state": {
            "_model_module": "@jupyter-widgets/base",
            "_model_module_version": "1.2.0",
            "_model_name": "LayoutModel",
            "_view_count": null,
            "_view_module": "@jupyter-widgets/base",
            "_view_module_version": "1.2.0",
            "_view_name": "LayoutView",
            "align_content": null,
            "align_items": null,
            "align_self": null,
            "border": null,
            "bottom": null,
            "display": null,
            "flex": null,
            "flex_flow": null,
            "grid_area": null,
            "grid_auto_columns": null,
            "grid_auto_flow": null,
            "grid_auto_rows": null,
            "grid_column": null,
            "grid_gap": null,
            "grid_row": null,
            "grid_template_areas": null,
            "grid_template_columns": null,
            "grid_template_rows": null,
            "height": null,
            "justify_content": null,
            "justify_items": null,
            "left": null,
            "margin": null,
            "max_height": null,
            "max_width": null,
            "min_height": null,
            "min_width": null,
            "object_fit": null,
            "object_position": null,
            "order": null,
            "overflow": null,
            "overflow_x": null,
            "overflow_y": null,
            "padding": null,
            "right": null,
            "top": null,
            "visibility": null,
            "width": null
          }
        },
        "7a0aa490eb75421eac92b68639e44ec4": {
          "model_module": "@jupyter-widgets/controls",
          "model_name": "DescriptionStyleModel",
          "model_module_version": "1.5.0",
          "state": {
            "_model_module": "@jupyter-widgets/controls",
            "_model_module_version": "1.5.0",
            "_model_name": "DescriptionStyleModel",
            "_view_count": null,
            "_view_module": "@jupyter-widgets/base",
            "_view_module_version": "1.2.0",
            "_view_name": "StyleView",
            "description_width": ""
          }
        },
        "6eb70cfe95a94226a0181f2c77fc4354": {
          "model_module": "@jupyter-widgets/base",
          "model_name": "LayoutModel",
          "model_module_version": "1.2.0",
          "state": {
            "_model_module": "@jupyter-widgets/base",
            "_model_module_version": "1.2.0",
            "_model_name": "LayoutModel",
            "_view_count": null,
            "_view_module": "@jupyter-widgets/base",
            "_view_module_version": "1.2.0",
            "_view_name": "LayoutView",
            "align_content": null,
            "align_items": null,
            "align_self": null,
            "border": null,
            "bottom": null,
            "display": null,
            "flex": null,
            "flex_flow": null,
            "grid_area": null,
            "grid_auto_columns": null,
            "grid_auto_flow": null,
            "grid_auto_rows": null,
            "grid_column": null,
            "grid_gap": null,
            "grid_row": null,
            "grid_template_areas": null,
            "grid_template_columns": null,
            "grid_template_rows": null,
            "height": null,
            "justify_content": null,
            "justify_items": null,
            "left": null,
            "margin": null,
            "max_height": null,
            "max_width": null,
            "min_height": null,
            "min_width": null,
            "object_fit": null,
            "object_position": null,
            "order": null,
            "overflow": null,
            "overflow_x": null,
            "overflow_y": null,
            "padding": null,
            "right": null,
            "top": null,
            "visibility": null,
            "width": null
          }
        },
        "9c2a64bcea6b4bd9b67a5e5ce748b24f": {
          "model_module": "@jupyter-widgets/controls",
          "model_name": "ProgressStyleModel",
          "model_module_version": "1.5.0",
          "state": {
            "_model_module": "@jupyter-widgets/controls",
            "_model_module_version": "1.5.0",
            "_model_name": "ProgressStyleModel",
            "_view_count": null,
            "_view_module": "@jupyter-widgets/base",
            "_view_module_version": "1.2.0",
            "_view_name": "StyleView",
            "bar_color": null,
            "description_width": ""
          }
        },
        "ee6ba3b7a69a40c9b2c49e2292ebba8e": {
          "model_module": "@jupyter-widgets/base",
          "model_name": "LayoutModel",
          "model_module_version": "1.2.0",
          "state": {
            "_model_module": "@jupyter-widgets/base",
            "_model_module_version": "1.2.0",
            "_model_name": "LayoutModel",
            "_view_count": null,
            "_view_module": "@jupyter-widgets/base",
            "_view_module_version": "1.2.0",
            "_view_name": "LayoutView",
            "align_content": null,
            "align_items": null,
            "align_self": null,
            "border": null,
            "bottom": null,
            "display": null,
            "flex": null,
            "flex_flow": null,
            "grid_area": null,
            "grid_auto_columns": null,
            "grid_auto_flow": null,
            "grid_auto_rows": null,
            "grid_column": null,
            "grid_gap": null,
            "grid_row": null,
            "grid_template_areas": null,
            "grid_template_columns": null,
            "grid_template_rows": null,
            "height": null,
            "justify_content": null,
            "justify_items": null,
            "left": null,
            "margin": null,
            "max_height": null,
            "max_width": null,
            "min_height": null,
            "min_width": null,
            "object_fit": null,
            "object_position": null,
            "order": null,
            "overflow": null,
            "overflow_x": null,
            "overflow_y": null,
            "padding": null,
            "right": null,
            "top": null,
            "visibility": null,
            "width": null
          }
        },
        "4329a4722e534226974ea59010644735": {
          "model_module": "@jupyter-widgets/controls",
          "model_name": "DescriptionStyleModel",
          "model_module_version": "1.5.0",
          "state": {
            "_model_module": "@jupyter-widgets/controls",
            "_model_module_version": "1.5.0",
            "_model_name": "DescriptionStyleModel",
            "_view_count": null,
            "_view_module": "@jupyter-widgets/base",
            "_view_module_version": "1.2.0",
            "_view_name": "StyleView",
            "description_width": ""
          }
        }
      }
    }
  },
  "nbformat": 4,
  "nbformat_minor": 0
}